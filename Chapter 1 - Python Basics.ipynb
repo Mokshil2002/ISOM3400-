{
 "cells": [
  {
   "cell_type": "markdown",
   "metadata": {
    "id": "WoU1nZS_dk7v"
   },
   "source": [
    "[What’s Markdown?](https://www.markdownguide.org/getting-started)\n",
    "\n",
    "[Basic Syntax](https://www.markdownguide.org/basic-syntax/)"
   ]
  },
  {
   "cell_type": "markdown",
   "metadata": {
    "id": "OPhKjBF_O9uq"
   },
   "source": [
    "Useful keyboard shortcuts and menu tools (applicable to Jupyter Notebook; Some variants are used  on Colab (e.g., <kbd>Command/Ctrl</kbd> + <kbd>M</kbd>, <kbd>D</kbd> for deleting cells)) :\n",
    "\n",
    "\n",
    "| Function | Keyboard Shortcut (Jupyter) | Menu Tools |\n",
    "|----|---| --- |\n",
    "| Run cell  | <kbd>Command/Ctrl</kbd> + <kbd>Enter</kbd> |Cell &#x2192; Run Cell |\n",
    "| Change edit mode to display mode  | <kbd>Shift</kbd> + <kbd>Enter</kbd>  |Cell &#x2192; Run Cell |\n",
    "| Create new code cell abvoe | <kbd>A</kbd> | Insert  &#x2192; Insert Cell Above|\n",
    "| Create new code cell below | <kbd>B</kbd> | Insert  &#x2192; Insert Cell Below|\n",
    "| Change code cell to Markdown cell  | <kbd>M</kbd>  |Cell  &#x2192;  Cell  Type &#x2192; Markdown |\n",
    "| Change Markdown cell to code cell  | <kbd>Y</kbd>  |Cell  &#x2192;  Cell  Type &#x2192; Code |\n",
    "| Delete cell  | <kbd>D</kbd>, <kbd>D</kbd>  |Edit  &#x2192;  Delete Cells |\n",
    "| Undo delete cell  | <kbd>Z</kbd> |Edit  &#x2192;  Undo Delete Cells |\n",
    "\n",
    "\n",
    "\n"
   ]
  },
  {
   "cell_type": "markdown",
   "metadata": {
    "id": "Phm288_2QuAB"
   },
   "source": [
    "\n",
    "# 1 Python Operators\n",
    "\n",
    " At their base, programs written in Python are composed of <b>*expressions*</b>, which are \"phrases\" of code Python ***evaluates to produce values***. \n",
    "\n",
    "- Expressions often contains <b>*operators*</b>, a set of special symbols that carry out computations. \n",
    "\n",
    "\n",
    "\n",
    "<br/>\n"
   ]
  },
  {
   "cell_type": "markdown",
   "metadata": {
    "id": "iWWlM-PuoUjY"
   },
   "source": [
    "\n",
    "\n",
    "\n",
    "## 1.1 Arithmetic Operators\n",
    "\n",
    "\n",
    "\n",
    "\n",
    " \n",
    "\n",
    "The <font color='royalblue'><b>*arithmetic operators*</b></font> `+`, `-`, `*`, `/`, and `**` perform addition, subtraction, multiplication, division, and exponentiation:"
   ]
  },
  {
   "cell_type": "code",
   "execution_count": null,
   "metadata": {
    "id": "RypeFqFAPtDt"
   },
   "outputs": [],
   "source": [
    "1.2 + 2 + 2"
   ]
  },
  {
   "cell_type": "code",
   "execution_count": null,
   "metadata": {
    "id": "QsLURoqWQAzT"
   },
   "outputs": [],
   "source": [
    "5 * 2"
   ]
  },
  {
   "cell_type": "code",
   "execution_count": null,
   "metadata": {
    "id": "JnpFbh7vQCWC"
   },
   "outputs": [],
   "source": [
    "5 ** 2        # 5 squared"
   ]
  },
  {
   "cell_type": "markdown",
   "metadata": {
    "id": "_51XgM37MSOM"
   },
   "source": [
    "<div class=\"alert alert-info\">\n",
    " In computer science, a literal is a notation for representing a fixed value in source code.</div>"
   ]
  },
  {
   "cell_type": "markdown",
   "metadata": {
    "id": "XCmg3g_rfYbW"
   },
   "source": [
    "Parentheses (`()`) can be used for grouping:"
   ]
  },
  {
   "cell_type": "code",
   "execution_count": null,
   "metadata": {
    "id": "avNCWAiGP_Qq"
   },
   "outputs": [],
   "source": [
    "(15 - 10) * 2 / 5"
   ]
  },
  {
   "cell_type": "markdown",
   "metadata": {
    "id": "wPt_dVQ6QVmq"
   },
   "source": [
    "The `//` operator performs <font color='royalblue'><b>*integer or floored division*</b></font> that keeps only the integer part of the result, while the `%` operator calculates the remainder:"
   ]
  },
  {
   "cell_type": "code",
   "execution_count": null,
   "metadata": {
    "id": "SXxA-pIwTvYL"
   },
   "outputs": [],
   "source": [
    "5 * 3 + 2"
   ]
  },
  {
   "cell_type": "code",
   "execution_count": null,
   "metadata": {
    "id": "YcKk6JkSQj6C"
   },
   "outputs": [],
   "source": [
    "17 / 3    # always return a result with a fractional part"
   ]
  },
  {
   "cell_type": "code",
   "execution_count": null,
   "metadata": {
    "id": "Cd-L6HR6TFOB"
   },
   "outputs": [],
   "source": [
    "17 // 3   # discard the fractional part"
   ]
  },
  {
   "cell_type": "code",
   "execution_count": null,
   "metadata": {
    "id": "720mFJnqQlV-"
   },
   "outputs": [],
   "source": [
    "17 % 3    # return the remainder of the division"
   ]
  },
  {
   "cell_type": "markdown",
   "metadata": {
    "id": "Ykk2x7UuQxgK"
   },
   "source": [
    "| Symbol | Task Performed |\n",
    "|----|---|\n",
    "| +  | Addition |\n",
    "| -  | Subtraction |\n",
    "| *  | multiplication |\n",
    "| /  | division |\n",
    "| // | floor devision |\n",
    "| %  | mod |\n",
    "| **  | to the power of |\n",
    "\n",
    "<br/>\n",
    "\n",
    "---\n",
    "\n",
    "\n",
    "\n"
   ]
  },
  {
   "cell_type": "markdown",
   "metadata": {
    "id": "A1w94yVqoed7"
   },
   "source": [
    "## 1.2 Comparison Operators\n",
    "\n",
    "<font color='royalblue'><b>*Comparison (relational) operators*</b></font> are used to compare values on either sides of them. It returns either of the two <font color='royalblue'><b>*Boolean*</b></font> values, `True` and `False`.\n"
   ]
  },
  {
   "cell_type": "code",
   "execution_count": null,
   "metadata": {
    "id": "eqSarpzPWPZM",
    "outputId": "5954eca4-cf33-405e-aea1-78255bce61d6"
   },
   "outputs": [
    {
     "data": {
      "text/plain": [
       "True"
      ]
     },
     "execution_count": 11,
     "metadata": {
      "tags": []
     },
     "output_type": "execute_result"
    }
   ],
   "source": [
    "2 <= 5"
   ]
  },
  {
   "cell_type": "code",
   "execution_count": null,
   "metadata": {
    "id": "vmzrggo7WSjN"
   },
   "outputs": [],
   "source": [
    "# chained in the mathematically obvious way\n",
    "# it can only be written as 2 < 5 and 5 <= 5.0 in other languages\n",
    "2 < 5 <= 5.0  "
   ]
  },
  {
   "cell_type": "markdown",
   "metadata": {
    "id": "KanNkLafVKso"
   },
   "source": [
    "The table summarizes comparision operators:\n",
    "\n",
    "| Operator | Meaning |\n",
    "|----|---|\n",
    "| == | Equal to - `True` if both operands are equal |\n",
    "| !=  | Not equal to - `True` if operands are not equal |\n",
    "| < | Less than - `True` if left operand is less than the right |\n",
    "| > | Greater than - `True` if left operand is greater than the right |\n",
    "| <=  | Less than or equal to - `True` if left operand is less than or equal to the right |\n",
    "| >=  | Greater than or equal to - `True` if left operand is greater than or equal to the right |\n",
    "\n"
   ]
  },
  {
   "cell_type": "markdown",
   "metadata": {
    "id": "y5nz76vPkgP0"
   },
   "source": [
    "---\n",
    "\n",
    "<br>\n",
    "\n",
    "### Boolean Values: `True` and `False`\n",
    "\n",
    "\n",
    "In computer science, the **Boolean data type** (`bool` for short in Python) is a data type that can only take on two truth values, `True` or `False`, intended to represent the truth values of logic and Boolean algebra.\n",
    "\n",
    "\n",
    " \n",
    " <img src=\"https://raw.githubusercontent.com/justinjiajia/img/master/python/truefalse.png\" width=\"300\" /> "
   ]
  },
  {
   "cell_type": "code",
   "execution_count": null,
   "metadata": {
    "cell_style": "split",
    "id": "VYSPDvrnkgP1"
   },
   "outputs": [],
   "source": [
    "True          "
   ]
  },
  {
   "cell_type": "code",
   "execution_count": null,
   "metadata": {
    "cell_style": "split",
    "id": "kREZmZddkgP1"
   },
   "outputs": [],
   "source": [
    "False"
   ]
  },
  {
   "cell_type": "markdown",
   "metadata": {
    "id": "2vmnOtMUWmA0"
   },
   "source": [
    "---\n",
    "\n",
    "<br/>\n",
    "\n",
    "\n",
    "## 1.3 Logical Operators\n",
    "\n",
    "<font color='royalblue'><b>*Logical (Boolean) operators*</b></font> (`and`, `or` and `not`) perform Boolean logic upon two Boolean expressions and return Boolean results (`True` or `False`).\n"
   ]
  },
  {
   "cell_type": "code",
   "execution_count": null,
   "metadata": {
    "id": "PVa40u5bXILc"
   },
   "outputs": [],
   "source": [
    "not True                         # only require one operand"
   ]
  },
  {
   "cell_type": "code",
   "execution_count": null,
   "metadata": {
    "id": "SNXGO_KSXL4E"
   },
   "outputs": [],
   "source": [
    "False or False"
   ]
  },
  {
   "cell_type": "code",
   "execution_count": null,
   "metadata": {
    "id": "ERI2aU_-XPgc"
   },
   "outputs": [],
   "source": [
    "2 < 5 and not False"
   ]
  },
  {
   "cell_type": "code",
   "execution_count": null,
   "metadata": {
    "id": "7HFvKyHUXjn0"
   },
   "outputs": [],
   "source": [
    "2 < 5 and 5 < 5.0 or 5 < 1024"
   ]
  },
  {
   "cell_type": "markdown",
   "metadata": {
    "id": "bz1ePYtCXu98"
   },
   "source": [
    "Logical operators in Python are summarized as follows. The order indicates the relative levels of precedence (ordered by descending priority):\n",
    "\n",
    "\n",
    "|Operator|Meaning|\n",
    "|:-- |:-- |\n",
    "|not|True if operand is false (complements the operand)|\n",
    "|and|True if both the operands are true|\n",
    "|or|True if either of the operands is true|\n"
   ]
  },
  {
   "cell_type": "markdown",
   "metadata": {
    "id": "MXNENMdEgh03"
   },
   "source": [
    "---\n",
    "\n",
    "<br/>\n",
    "\n",
    "# 2 Objects and Their Types\n",
    "\n",
    "Everything in Python is an object, and every object has  an <font color='royalblue'><b>*identity*</b></font>, a <font color='royalblue'><b>*type*</b></font>, and a <font color='royalblue'><b>*value*</b></font>.\n",
    "\n",
    "The built-in function `type()` returns an object's type:\n",
    "\n"
   ]
  },
  {
   "cell_type": "code",
   "execution_count": null,
   "metadata": {
    "id": "ZeDbgQoLhKFw"
   },
   "outputs": [],
   "source": [
    "type(True)"
   ]
  },
  {
   "cell_type": "code",
   "execution_count": null,
   "metadata": {
    "id": "m7r7GK88hWB_"
   },
   "outputs": [],
   "source": [
    "type(5**2) "
   ]
  },
  {
   "cell_type": "code",
   "execution_count": null,
   "metadata": {
    "id": "gTz9SEcohd-R"
   },
   "outputs": [],
   "source": [
    "type(2.0)     # with a decimal point"
   ]
  },
  {
   "cell_type": "code",
   "execution_count": null,
   "metadata": {
    "id": "LgnagsKHhfsR"
   },
   "outputs": [],
   "source": [
    "type(3.8e15)  # with an exponent; base 10"
   ]
  },
  {
   "cell_type": "code",
   "execution_count": null,
   "metadata": {
    "id": "g42KHqNVkgP8"
   },
   "outputs": [],
   "source": [
    "type(15 / 5)"
   ]
  },
  {
   "cell_type": "code",
   "execution_count": null,
   "metadata": {
    "id": "mmB_ePaskgP9"
   },
   "outputs": [],
   "source": [
    "type(17 // 5)"
   ]
  },
  {
   "cell_type": "code",
   "execution_count": null,
   "metadata": {
    "id": "hXTO9tk2kgP-"
   },
   "outputs": [],
   "source": [
    "type(17 % 3)"
   ]
  },
  {
   "cell_type": "markdown",
   "metadata": {
    "id": "5tYQ9MsV_Uxa"
   },
   "source": [
    "\n",
    "\n",
    "\n",
    "An object's  <font color='royalblue'><b>*type*</b></font> determines:\n",
    "\n",
    "- A domain of possible values, e.g.:\n",
    "\n",
    "    - The `bool` type has only two values, i.e., `True` and `False`;\n",
    "    - The `int` type represents whole numbers (e.g., `1`, `2`, `-34`, `1024`);\n",
    "    - The numbers with a decimal point or an exponent (or both) (e.g., `2.0`, `3.2`, `.3`, `3.8e15`) have type `float` (short for floating-point numbers).\n",
    "    \n",
    "- A set of possible operations that can be performed on these values (e.g., arithmetic operations like `+`, `-`, `*`, etc.).\n",
    "\n",
    "\n",
    "\n",
    "More genrally, everything in Python is an object.\n"
   ]
  },
  {
   "cell_type": "markdown",
   "metadata": {
    "id": "sf62xwIpbAn5"
   },
   "source": [
    "---\n",
    "\n",
    "<br/>\n",
    "\n",
    "# 3 Variables\n",
    "\n",
    "One of the most powerful features of a programming language is the ability to manipulate  <font color='royalblue'><b>*variables*</b></font>. "
   ]
  },
  {
   "cell_type": "markdown",
   "metadata": {
    "id": "6IvwVp2AzfmM"
   },
   "source": [
    "\n",
    "## 3.1 Assignments and Varaible Creation\n",
    "\n",
    "\n",
    "\n",
    "\n",
    "In Python, a variable is ***a name that refers to an object***.\n",
    "\n",
    "Using the equal sign (`=`), an assignment statement defines a variable by\n",
    "\n",
    "- Evaluating the expression on the right of `=` to construct a new or retrieve an existing object;\n",
    "\n",
    "- Binding a name on the left of `=` to the object."
   ]
  },
  {
   "cell_type": "code",
   "execution_count": null,
   "metadata": {
    "id": "SBENOmJyze4n"
   },
   "outputs": [],
   "source": [
    "width = 10"
   ]
  },
  {
   "cell_type": "markdown",
   "metadata": {
    "id": "wLgxlKXn_9dn"
   },
   "source": [
    "\n",
    "\n",
    "<img src=\"https://raw.githubusercontent.com/justinjiajia/img/master/python/var1.png\" width=120 />\n",
    "\n",
    "\n",
    "\n"
   ]
  },
  {
   "cell_type": "code",
   "execution_count": null,
   "metadata": {
    "id": "KFRBAU07z1dP"
   },
   "outputs": [],
   "source": [
    "height = 12"
   ]
  },
  {
   "cell_type": "markdown",
   "metadata": {
    "id": "bF5DNkdIATfY"
   },
   "source": [
    "\n",
    "<img src=\"https://raw.githubusercontent.com/justinjiajia/img/master/python/var2.png\" width=120 />"
   ]
  },
  {
   "cell_type": "markdown",
   "metadata": {
    "id": "AKut-oZOAnJP"
   },
   "source": [
    "When we enter a name in Python, it gives us back the object bound to it:"
   ]
  },
  {
   "cell_type": "code",
   "execution_count": null,
   "metadata": {
    "id": "kvZtrnqTAmJa"
   },
   "outputs": [],
   "source": [
    "width"
   ]
  },
  {
   "cell_type": "code",
   "execution_count": null,
   "metadata": {
    "id": "7-cKOPfaAyW7"
   },
   "outputs": [],
   "source": [
    "height"
   ]
  },
  {
   "cell_type": "code",
   "execution_count": null,
   "metadata": {
    "id": "MjR9TY7XA3cn"
   },
   "outputs": [],
   "source": [
    "area = width * height"
   ]
  },
  {
   "cell_type": "markdown",
   "metadata": {
    "id": "tlLM4RJLBC9g"
   },
   "source": [
    "\n",
    "\n",
    "<img src=\"https://raw.githubusercontent.com/justinjiajia/img/master/python/expr1.png\" width=300 />"
   ]
  },
  {
   "cell_type": "code",
   "execution_count": null,
   "metadata": {
    "id": "X2j-k9u4BUVd"
   },
   "outputs": [],
   "source": [
    "area"
   ]
  },
  {
   "cell_type": "code",
   "execution_count": null,
   "metadata": {
    "id": "QikJF5GOBe99"
   },
   "outputs": [],
   "source": [
    "width = width + 5 "
   ]
  },
  {
   "cell_type": "markdown",
   "metadata": {
    "id": "irIEx66tBiM5"
   },
   "source": [
    "\n",
    "\n",
    "\n",
    "<img src=\"https://raw.githubusercontent.com/justinjiajia/img/master/python/expr2.png\" width=185 />"
   ]
  },
  {
   "cell_type": "code",
   "execution_count": null,
   "metadata": {
    "id": "h6MRm9TPBhZh"
   },
   "outputs": [],
   "source": [
    "width"
   ]
  },
  {
   "cell_type": "markdown",
   "metadata": {
    "id": "cbUTtUiiCrMD"
   },
   "source": [
    "Multiple names can be bound to the same object:"
   ]
  },
  {
   "cell_type": "code",
   "execution_count": null,
   "metadata": {
    "id": "OxzqciUtkgQJ"
   },
   "outputs": [],
   "source": [
    "i = 5"
   ]
  },
  {
   "cell_type": "code",
   "execution_count": null,
   "metadata": {
    "id": "F1aX1dJ1kgQJ"
   },
   "outputs": [],
   "source": [
    "j = i"
   ]
  },
  {
   "cell_type": "code",
   "execution_count": null,
   "metadata": {
    "id": "DdbPnvSdkgQJ",
    "outputId": "86745cb6-6454-4f62-8c6a-46f4c5b5a50b"
   },
   "outputs": [
    {
     "data": {
      "text/plain": [
       "140711495940000"
      ]
     },
     "execution_count": 56,
     "metadata": {
      "tags": []
     },
     "output_type": "execute_result"
    }
   ],
   "source": [
    "id(i)"
   ]
  },
  {
   "cell_type": "code",
   "execution_count": null,
   "metadata": {
    "id": "G_XNobvdkgQJ",
    "outputId": "d6c07efb-1576-45e7-b94c-ada73ae1f1ba"
   },
   "outputs": [
    {
     "data": {
      "text/plain": [
       "140711495940000"
      ]
     },
     "execution_count": 57,
     "metadata": {
      "tags": []
     },
     "output_type": "execute_result"
    }
   ],
   "source": [
    "id(j)"
   ]
  },
  {
   "cell_type": "markdown",
   "metadata": {
    "id": "mwLhoijQ8c0e"
   },
   "source": [
    "\n",
    "<img src=\"https://drive.google.com/uc?export=download&id=1p05AgnyGy0PpSEK1wOC62lwC-QVzOq6l\" width=\"100\"/></img>"
   ]
  },
  {
   "cell_type": "markdown",
   "metadata": {
    "id": "Qslo51uDECLy"
   },
   "source": [
    "To see this, we can use the `id()` function to return an integer representing the identity of the object:"
   ]
  },
  {
   "cell_type": "code",
   "execution_count": null,
   "metadata": {
    "id": "5-wYB2j8EBoC",
    "outputId": "79a9df01-f89b-4860-e5c4-b56e37a80bea"
   },
   "outputs": [
    {
     "data": {
      "text/plain": [
       "140711495940000"
      ]
     },
     "execution_count": 44,
     "metadata": {
      "tags": []
     },
     "output_type": "execute_result"
    }
   ],
   "source": [
    "id(i)"
   ]
  },
  {
   "cell_type": "code",
   "execution_count": null,
   "metadata": {
    "id": "MYyHOzaAEGMb",
    "outputId": "b666003c-cde0-4f52-f558-9678a3ab14fb"
   },
   "outputs": [
    {
     "data": {
      "text/plain": [
       "140711495940000"
      ]
     },
     "execution_count": 45,
     "metadata": {
      "tags": []
     },
     "output_type": "execute_result"
    }
   ],
   "source": [
    "id(j)"
   ]
  },
  {
   "cell_type": "markdown",
   "metadata": {
    "id": "On_EWQlKB8iD"
   },
   "source": [
    "---\n",
    "\n",
    "<br>\n",
    "\n",
    "## 3.2 Compound/Augmented Assignments\n",
    "\n",
    "`width = width + 5` examplifies a very common operation. Python provides a shorthand operator, `+=`, to express it more cleanly:\n"
   ]
  },
  {
   "cell_type": "code",
   "execution_count": null,
   "metadata": {
    "id": "4L5qnWhITmeO",
    "outputId": "f238fdfc-f468-4ea5-827b-4b0c66f1f62b"
   },
   "outputs": [
    {
     "data": {
      "text/plain": [
       "20"
      ]
     },
     "execution_count": 40,
     "metadata": {
      "tags": []
     },
     "output_type": "execute_result"
    }
   ],
   "source": [
    "width += 5\n",
    "width"
   ]
  },
  {
   "cell_type": "markdown",
   "metadata": {
    "id": "0-4_9z7MTpob"
   },
   "source": [
    "Similar operators (<font color='royalblue'><b>*compound/augmented assignment operators*</b></font>) include `-=`, `*=`,  `%=`, and so on:"
   ]
  },
  {
   "cell_type": "code",
   "execution_count": null,
   "metadata": {
    "id": "gOXuHqraT8L1",
    "outputId": "de6faa4f-a516-447d-a14f-2c144cfcd3fa"
   },
   "outputs": [
    {
     "data": {
      "text/plain": [
       "0.8"
      ]
     },
     "execution_count": 42,
     "metadata": {
      "tags": []
     },
     "output_type": "execute_result"
    }
   ],
   "source": [
    "width /= 5; width"
   ]
  },
  {
   "cell_type": "markdown",
   "metadata": {
    "id": "O7ONE_IvCyxZ"
   },
   "source": [
    "**<font color='steelblue' > Question </font>**: What is the value of `j` after evaluating `i += 7`?"
   ]
  },
  {
   "cell_type": "code",
   "execution_count": null,
   "metadata": {
    "id": "LJaUieW0DUbB"
   },
   "outputs": [],
   "source": []
  },
  {
   "cell_type": "markdown",
   "metadata": {
    "id": "p3cs5dftIv8n"
   },
   "source": [
    "<br/>\n",
    "\n",
    "---\n",
    "\n",
    "<br>\n",
    "\n",
    "## 3.3 Naming Conventions\n",
    "\n",
    "Python has some rules to follow when forming a variable name:\n",
    "\n",
    "- Can contain both letters (uppercase or lowercase), digits (but cannot start with a number), and the underscore character (_).\n",
    "\n",
    "- Python's keywords cannot be used as variable names, because the Python interpreter uses them to recognize the structure of the program."
   ]
  },
  {
   "cell_type": "code",
   "execution_count": null,
   "metadata": {
    "id": "ShlXtEoPkgQO",
    "outputId": "e44cde0e-0fc3-4aff-cb36-6cdcde921a3a"
   },
   "outputs": [
    {
     "ename": "SyntaxError",
     "evalue": "cannot assign to True (<ipython-input-51-da5279a5acf3>, line 1)",
     "output_type": "error",
     "traceback": [
      "\u001b[1;36m  File \u001b[1;32m\"<ipython-input-51-da5279a5acf3>\"\u001b[1;36m, line \u001b[1;32m1\u001b[0m\n\u001b[1;33m    True = 49.2\u001b[0m\n\u001b[1;37m    ^\u001b[0m\n\u001b[1;31mSyntaxError\u001b[0m\u001b[1;31m:\u001b[0m cannot assign to True\n"
     ]
    }
   ],
   "source": [
    "True = 49.2"
   ]
  },
  {
   "cell_type": "code",
   "execution_count": null,
   "metadata": {
    "colab": {
     "base_uri": "https://localhost:8080/"
    },
    "id": "_tnr7Se7IzzC",
    "outputId": "7ada1683-1eb6-4900-f110-e905768749a4"
   },
   "outputs": [
    {
     "name": "stdout",
     "output_type": "stream",
     "text": [
      "['False', 'None', 'True', 'and', 'as', 'assert', 'async', 'await', 'break', 'class', 'continue', 'def', 'del', 'elif', 'else', 'except', 'finally', 'for', 'from', 'global', 'if', 'import', 'in', 'is', 'lambda', 'nonlocal', 'not', 'or', 'pass', 'raise', 'return', 'try', 'while', 'with', 'yield']\n"
     ]
    }
   ],
   "source": [
    "import keyword\n",
    "print(keyword.kwlist)"
   ]
  },
  {
   "cell_type": "markdown",
   "metadata": {
    "id": "i4CtL_zIJBGl"
   },
   "source": [
    "A good coding style requires a variable name to be  ***descriptive***  and  ***mnemonic***."
   ]
  },
  {
   "cell_type": "code",
   "execution_count": null,
   "metadata": {
    "id": "cufjK1xrkgQP"
   },
   "outputs": [],
   "source": [
    "program_name = \"Business Applications Development in Python\"\n",
    "course_code = \"ISOM3400\"           \n",
    "course_is_elective = False           "
   ]
  },
  {
   "cell_type": "markdown",
   "metadata": {
    "id": "KmMYRvsjKOgV"
   },
   "source": [
    "---\n",
    "\n",
    "<br>\n",
    "\n",
    "## 3.4 Namespaces\n",
    "\n",
    "A <font color=\"royalblue\"><b>*namespace*</b></font> is a <font color=\"royalblue\"><b>*mapping from names to objects*</b></font> in a specific programming context, and can be conceptualized as an \"invisible dictionary\".\n",
    "\n",
    "The built-in function `dir()`,  when called without arguments,\n",
    "returns the list of all the names (functions and variables) belonging to the namespace from where it is called. \n",
    "\n"
   ]
  },
  {
   "cell_type": "code",
   "execution_count": null,
   "metadata": {
    "id": "eLtxL5ERkgRD"
   },
   "outputs": [],
   "source": [
    "a_trial_variable = 'will be deleted soon'"
   ]
  },
  {
   "cell_type": "code",
   "execution_count": null,
   "metadata": {
    "colab": {
     "base_uri": "https://localhost:8080/"
    },
    "id": "1iBiLVbUkgRD",
    "outputId": "1a7d49f1-f439-4e8a-c1af-621729533a42"
   },
   "outputs": [
    {
     "name": "stdout",
     "output_type": "stream",
     "text": [
      "['In', 'Out', '_', '_1', '_11', '_13', '_16', '_3', '_4', '_5', '_6', '_7', '_8', '__', '___', '__builtin__', '__builtins__', '__doc__', '__loader__', '__name__', '__package__', '__spec__', '_dh', '_i', '_i1', '_i10', '_i11', '_i12', '_i13', '_i14', '_i15', '_i16', '_i17', '_i2', '_i3', '_i4', '_i5', '_i6', '_i7', '_i8', '_i9', '_ih', '_ii', '_iii', '_oh', '_sh', 'a_trial_variable', 'course', 'exit', 'get_ipython', 'price', 'quit', 'shares', 'stock']\n"
     ]
    }
   ],
   "source": [
    "print(dir())"
   ]
  },
  {
   "cell_type": "markdown",
   "metadata": {
    "id": "Es2CpRk1pfA3"
   },
   "source": [
    "Deleting a name using [the `del` statement](https://docs.python.org/3/reference/simple_stmts.html#del) removes the name from the namespace:"
   ]
  },
  {
   "cell_type": "code",
   "execution_count": null,
   "metadata": {
    "id": "GUQ9DH8rpjgH"
   },
   "outputs": [],
   "source": [
    "del a_trial_variable"
   ]
  },
  {
   "cell_type": "code",
   "execution_count": null,
   "metadata": {
    "id": "euHag_VlqBiV",
    "outputId": "b713fd70-7452-4153-d78d-16059d8e0e1d"
   },
   "outputs": [
    {
     "name": "stdout",
     "output_type": "stream",
     "text": [
      "['In', 'Out', '_', '__', '___', '__builtin__', '__builtins__', '__doc__', '__loader__', '__name__', '__package__', '__spec__', '_dh', '_i', '_i1', '_i2', '_i3', '_i4', '_ih', '_ii', '_iii', '_oh', 'exit', 'get_ipython', 'quit']\n"
     ]
    }
   ],
   "source": [
    "print(dir())"
   ]
  },
  {
   "cell_type": "code",
   "execution_count": null,
   "metadata": {
    "id": "eNxfVQDLkgRF",
    "outputId": "976e3d07-e833-473d-cb1f-063c4b167120"
   },
   "outputs": [
    {
     "ename": "NameError",
     "evalue": "name 'a_trial_variable' is not defined",
     "output_type": "error",
     "traceback": [
      "\u001b[1;31m---------------------------------------------------------------------------\u001b[0m",
      "\u001b[1;31mNameError\u001b[0m                                 Traceback (most recent call last)",
      "\u001b[1;32m<ipython-input-9-eb4c8d65befc>\u001b[0m in \u001b[0;36m<module>\u001b[1;34m\u001b[0m\n\u001b[1;32m----> 1\u001b[1;33m \u001b[0ma_trial_variable\u001b[0m\u001b[1;33m\u001b[0m\u001b[1;33m\u001b[0m\u001b[0m\n\u001b[0m",
      "\u001b[1;31mNameError\u001b[0m: name 'a_trial_variable' is not defined"
     ]
    }
   ],
   "source": [
    "a_trial_variable"
   ]
  },
  {
   "cell_type": "markdown",
   "metadata": {
    "id": "UrBXNrXAqJVg"
   },
   "source": [
    "When objects become unreachable, they can be garbage-collected."
   ]
  },
  {
   "cell_type": "markdown",
   "metadata": {
    "id": "M9I_J0oShEYH"
   },
   "source": [
    "----\n",
    "\n",
    "<br/>\n",
    "\n",
    "# 4 Functions"
   ]
  },
  {
   "cell_type": "markdown",
   "metadata": {
    "id": "Xro--X1T3eTI"
   },
   "source": [
    "> Programming = Data + Function"
   ]
  },
  {
   "cell_type": "markdown",
   "metadata": {
    "id": "u6HfueVZjpKJ"
   },
   "source": [
    "A function is a machine which turns input objects (called the arguments) into an output object (called the return value), according to a definite rule (defined somewhere for this function).\n",
    "\n"
   ]
  },
  {
   "cell_type": "markdown",
   "metadata": {
    "id": "JrxKY81ZKC29"
   },
   "source": [
    "\n",
    "\n",
    "We can  draw an analogy of a programming function to a mathematical function. \n",
    "\n",
    "\n",
    "\n",
    "Consider $f(a,b)=a^2+b^2$:\n",
    "\n",
    "- A function definition usually associates a name (i.e., $f$) with a sequence of statements that performs a computation (i.e., $a^2+b^2$).\n",
    "\n",
    "- Once a function is defined, we can \"call\" it by name with necessary inputs provided (i.e., $f(3,5)$).\n",
    "\n",
    "- When a function is called or invoked, Python goes back and looks up its definition, executes the code inside the function definition (i.e., $3^2+5^2$), and return an output (i.e., $34$)."
   ]
  },
  {
   "cell_type": "markdown",
   "metadata": {
    "id": "MZQ6tHCEkisI"
   },
   "source": [
    "Python provides a number of **built-in functions** that we can use without needs to provide the function definition as well as import a module:\n",
    "\n",
    "\n"
   ]
  },
  {
   "cell_type": "markdown",
   "metadata": {
    "id": "KlHSde7HjzUw"
   },
   "source": [
    "<table class=\"docutils align-default\">\n",
    "<colgroup>\n",
    "<col style=\"width: 26%\">\n",
    "<col style=\"width: 24%\">\n",
    "<col style=\"width: 24%\">\n",
    "<col style=\"width: 26%\">\n",
    "</colgroup>\n",
    "<thead>\n",
    "<tr class=\"row-odd\"><th class=\"head\" colspan=\"4\"><p>Built-in Functions</p></th>\n",
    "</tr>\n",
    "</thead>\n",
    "<tbody>\n",
    "<tr class=\"row-even\"><td><div class=\"line-block\">\n",
    "<div class=\"line\"><strong>A</strong></div>\n",
    "<div class=\"line\"><a class=\"reference internal\" href=\"https://docs.python.org/3/library/functions.html#abs\" title=\"abs\" target=\"_blank\"><code class=\"xref py py-func docutils literal notranslate\"><span class=\"pre\">abs()</span></code></a></div>\n",
    "<div class=\"line\"><a class=\"reference internal\" href=\"https://docs.python.org/3/library/functions.html#aiter\" title=\"aiter\" target=\"_blank\"><code class=\"xref py py-func docutils literal notranslate\"><span class=\"pre\">aiter()</span></code></a></div>\n",
    "<div class=\"line\"><a class=\"reference internal\" href=\"https://docs.python.org/3/library/functions.html#all\" title=\"all\" target=\"_blank\"><code class=\"xref py py-func docutils literal notranslate\"><span class=\"pre\">all()</span></code></a></div>\n",
    "<div class=\"line\"><a class=\"reference internal\" href=\"https://docs.python.org/3/library/functions.html#any\" title=\"any\" target=\"_blank\"><code class=\"xref py py-func docutils literal notranslate\"><span class=\"pre\">any()</span></code></a></div>\n",
    "<div class=\"line\"><a class=\"reference internal\" href=\"https://docs.python.org/3/library/functions.html#anext\" title=\"anext\" target=\"_blank\"><code class=\"xref py py-func docutils literal notranslate\"><span class=\"pre\">anext()</span></code></a></div>\n",
    "<div class=\"line\"><a class=\"reference internal\" href=\"https://docs.python.org/3/library/functions.html#ascii\" title=\"ascii\" target=\"_blank\"><code class=\"xref py py-func docutils literal notranslate\"><span class=\"pre\">ascii()</span></code></a></div>\n",
    "<div class=\"line\"><br></div>\n",
    "<div class=\"line\"><strong>B</strong></div>\n",
    "<div class=\"line\"><a class=\"reference internal\" href=\"https://docs.python.org/3/library/functions.html#bin\" title=\"bin\" target=\"_blank\"><code class=\"xref py py-func docutils literal notranslate\"><span class=\"pre\">bin()</span></code></a></div>\n",
    "<div class=\"line\"><a class=\"reference internal\" href=\"https://docs.python.org/3/library/functions.html#bool\" title=\"bool\" target=\"_blank\"><code class=\"xref py py-func docutils literal notranslate\"><span class=\"pre\">bool()</span></code></a></div>\n",
    "<div class=\"line\"><a class=\"reference internal\" href=\"https://docs.python.org/3/library/functions.html#breakpoint\" title=\"breakpoint\" target=\"_blank\"><code class=\"xref py py-func docutils literal notranslate\"><span class=\"pre\">breakpoint()</span></code></a></div>\n",
    "<div class=\"line\"><a class=\"reference internal\" href=\"https://docs.python.org/3/library/functions.html#func-bytearray\" target=\"_blank\"><code class=\"docutils literal notranslate\"><span class=\"pre\">bytearray()</span></code></a></div>\n",
    "<div class=\"line\"><a class=\"reference internal\" href=\"https://docs.python.org/3/library/functions.html#func-bytes\" target=\"_blank\"><code class=\"docutils literal notranslate\"><span class=\"pre\">bytes()</span></code></a></div>\n",
    "<div class=\"line\"><br></div>\n",
    "<div class=\"line\"><strong>C</strong></div>\n",
    "<div class=\"line\"><a class=\"reference internal\" href=\"https://docs.python.org/3/library/functions.html#callable\" title=\"callable\" target=\"_blank\"><code class=\"xref py py-func docutils literal notranslate\"><span class=\"pre\">callable()</span></code></a></div>\n",
    "<div class=\"line\"><a class=\"reference internal\" href=\"https://docs.python.org/3/library/functions.html#chr\" title=\"chr\" target=\"_blank\"><code class=\"xref py py-func docutils literal notranslate\"><span class=\"pre\">chr()</span></code></a></div>\n",
    "<div class=\"line\"><a class=\"reference internal\" href=\"https://docs.python.org/3/library/functions.html#classmethod\" title=\"classmethod\" target=\"_blank\"><code class=\"xref py py-func docutils literal notranslate\"><span class=\"pre\">classmethod()</span></code></a></div>\n",
    "<div class=\"line\"><a class=\"reference internal\" href=\"https://docs.python.org/3/library/functions.html#compile\" title=\"compile\" target=\"_blank\"><code class=\"xref py py-func docutils literal notranslate\"><span class=\"pre\">compile()</span></code></a></div>\n",
    "<div class=\"line\"><a class=\"reference internal\" href=\"https://docs.python.org/3/library/functions.html#complex\" title=\"complex\" target=\"_blank\"><code class=\"xref py py-func docutils literal notranslate\"><span class=\"pre\">complex()</span></code></a></div>\n",
    "<div class=\"line\"><br></div>\n",
    "<div class=\"line\"><strong>D</strong></div>\n",
    "<div class=\"line\"><a class=\"reference internal\" href=\"https://docs.python.org/3/library/functions.html#delattr\" title=\"delattr\" target=\"_blank\"><code class=\"xref py py-func docutils literal notranslate\"><span class=\"pre\">delattr()</span></code></a></div>\n",
    "<div class=\"line\"><a class=\"reference internal\" href=\"https://docs.python.org/3/library/functions.html#func-dict\"><code class=\"docutils literal notranslate\"><span class=\"pre\">dict()</span></code></a></div>\n",
    "<div class=\"line\"><a class=\"reference internal\" href=\"https://docs.python.org/3/library/functions.html#dir\" title=\"dir\" target=\"_blank\"><code class=\"xref py py-func docutils literal notranslate\"><span class=\"pre\">dir()</span></code></a></div>\n",
    "<div class=\"line\"><a class=\"reference internal\" href=\"https://docs.python.org/3/library/functions.html#divmod\" title=\"divmod\" target=\"_blank\"><code class=\"xref py py-func docutils literal notranslate\"><span class=\"pre\">divmod()</span></code></a></div>\n",
    "<div class=\"line\"><br></div>\n",
    "</div>\n",
    "</td>\n",
    "<td><div class=\"line-block\">\n",
    "<div class=\"line\"><strong>E</strong></div>\n",
    "<div class=\"line\"><a class=\"reference internal\" href=\"https://docs.python.org/3/library/functions.html#enumerate\" title=\"enumerate\" target=\"_blank\"><code class=\"xref py py-func docutils literal notranslate\"><span class=\"pre\">enumerate()</span></code></a></div>\n",
    "<div class=\"line\"><a class=\"reference internal\" href=\"https://docs.python.org/3/library/functions.html#eval\" title=\"eval\" target=\"_blank\"><code class=\"xref py py-func docutils literal notranslate\"><span class=\"pre\">eval()</span></code></a></div>\n",
    "<div class=\"line\"><a class=\"reference internal\" href=\"https://docs.python.org/3/library/functions.html#exec\" title=\"exec\" target=\"_blank\"><code class=\"xref py py-func docutils literal notranslate\"><span class=\"pre\">exec()</span></code></a></div>\n",
    "<div class=\"line\"><br></div>\n",
    "<div class=\"line\"><strong>F</strong></div>\n",
    "<div class=\"line\"><a class=\"reference internal\" href=\"https://docs.python.org/3/library/functions.html#filter\" title=\"filter\" target=\"_blank\"><code class=\"xref py py-func docutils literal notranslate\"><span class=\"pre\">filter()</span></code></a></div>\n",
    "<div class=\"line\"><a class=\"reference internal\" href=\"https://docs.python.org/3/library/functions.html#float\" title=\"float\" target=\"_blank\"><code class=\"xref py py-func docutils literal notranslate\"><span class=\"pre\">float()</span></code></a></div>\n",
    "<div class=\"line\"><a class=\"reference internal\" href=\"https://docs.python.org/3/library/functions.html#format\" title=\"format\" target=\"_blank\"><code class=\"xref py py-func docutils literal notranslate\"><span class=\"pre\">format()</span></code></a></div>\n",
    "<div class=\"line\"><a class=\"reference internal\" href=\"https://docs.python.org/3/library/functions.html#func-frozenset\" target=\"_blank\"><code class=\"docutils literal notranslate\"><span class=\"pre\">frozenset()</span></code></a></div>\n",
    "<div class=\"line\"><br></div>\n",
    "<div class=\"line\"><strong>G</strong></div>\n",
    "<div class=\"line\"><a class=\"reference internal\" href=\"https://docs.python.org/3/library/functions.html#getattr\" title=\"getattr\" target=\"_blank\"><code class=\"xref py py-func docutils literal notranslate\"><span class=\"pre\">getattr()</span></code></a></div>\n",
    "<div class=\"line\"><a class=\"reference internal\" href=\"https://docs.python.org/3/library/functions.html#globals\" title=\"globals\" target=\"_blank\"><code class=\"xref py py-func docutils literal notranslate\"><span class=\"pre\">globals()</span></code></a></div>\n",
    "<div class=\"line\"><br></div>\n",
    "<div class=\"line\"><strong>H</strong></div>\n",
    "<div class=\"line\"><a class=\"reference internal\" href=\"https://docs.python.org/3/library/functions.html#hasattr\" title=\"hasattr\" target=\"_blank\"><code class=\"xref py py-func docutils literal notranslate\"><span class=\"pre\">hasattr()</span></code></a></div>\n",
    "<div class=\"line\"><a class=\"reference internal\" href=\"https://docs.python.org/3/library/functions.html#hash\" title=\"hash\" target=\"_blank\"><code class=\"xref py py-func docutils literal notranslate\"><span class=\"pre\">hash()</span></code></a></div>\n",
    "<div class=\"line\"><a class=\"reference internal\" href=\"https://docs.python.org/3/library/functions.html#help\" title=\"help\" target=\"_blank\"><code class=\"xref py py-func docutils literal notranslate\"><span class=\"pre\">help()</span></code></a></div>\n",
    "<div class=\"line\"><a class=\"reference internal\" href=\"https://docs.python.org/3/library/functions.html#hex\" title=\"hex\" target=\"_blank\"><code class=\"xref py py-func docutils literal notranslate\"><span class=\"pre\">hex()</span></code></a></div>\n",
    "<div class=\"line\"><br></div>\n",
    "<div class=\"line\"><strong>I</strong></div>\n",
    "<div class=\"line\"><a class=\"reference internal\" href=\"https://docs.python.org/3/library/functions.html#id\" title=\"id\" target=\"_blank\"><code class=\"xref py py-func docutils literal notranslate\"><span class=\"pre\">id()</span></code></a></div>\n",
    "<div class=\"line\"><a class=\"reference internal\" href=\"https://docs.python.org/3/library/functions.html#input\" title=\"input\" target=\"_blank\"><code class=\"xref py py-func docutils literal notranslate\"><span class=\"pre\">input()</span></code></a></div>\n",
    "<div class=\"line\"><a class=\"reference internal\" href=\"https://docs.python.org/3/library/functions.html#int\" title=\"int\" target=\"_blank\"><code class=\"xref py py-func docutils literal notranslate\"><span class=\"pre\">int()</span></code></a></div>\n",
    "<div class=\"line\"><a class=\"reference internal\" href=\"https://docs.python.org/3/library/functions.html#isinstance\" title=\"isinstance\" target=\"_blank\"><code class=\"xref py py-func docutils literal notranslate\"><span class=\"pre\">isinstance()</span></code></a></div>\n",
    "<div class=\"line\"><a class=\"reference internal\" href=\"https://docs.python.org/3/library/functions.html#issubclass\" title=\"issubclass\" target=\"_blank\"><code class=\"xref py py-func docutils literal notranslate\"><span class=\"pre\">issubclass()</span></code></a></div>\n",
    "<div class=\"line\"><a class=\"reference internal\" href=\"https://docs.python.org/3/library/functions.html#iter\" title=\"iter\" target=\"_blank\"><code class=\"xref py py-func docutils literal notranslate\"><span class=\"pre\">iter()</span></code></a></div>\n",
    "</div>\n",
    "</td>\n",
    "<td><div class=\"line-block\">\n",
    "<div class=\"line\"><strong>L</strong></div>\n",
    "<div class=\"line\"><a class=\"reference internal\" href=\"https://docs.python.org/3/library/functions.html#len\" title=\"len\" target=\"_blank\"><code class=\"xref py py-func docutils literal notranslate\"><span class=\"pre\">len()</span></code></a></div>\n",
    "<div class=\"line\"><a class=\"reference internal\" href=\"https://docs.python.org/3/library/functions.html#func-list\" target=\"_blank\"><code class=\"docutils literal notranslate\"><span class=\"pre\">list()</span></code></a></div>\n",
    "<div class=\"line\"><a class=\"reference internal\" href=\"https://docs.python.org/3/library/functions.html#locals\" title=\"locals\" target=\"_blank\"><code class=\"xref py py-func docutils literal notranslate\"><span class=\"pre\">locals()</span></code></a></div>\n",
    "<div class=\"line\"><br></div>\n",
    "<div class=\"line\"><strong>M</strong></div>\n",
    "<div class=\"line\"><a class=\"reference internal\" href=\"https://docs.python.org/3/library/functions.html#map\" title=\"map\" target=\"_blank\"><code class=\"xref py py-func docutils literal notranslate\"><span class=\"pre\">map()</span></code></a></div>\n",
    "<div class=\"line\"><a class=\"reference internal\" href=\"https://docs.python.org/3/library/functions.html#max\" title=\"max\" target=\"_blank\"><code class=\"xref py py-func docutils literal notranslate\"><span class=\"pre\">max()</span></code></a></div>\n",
    "<div class=\"line\"><a class=\"reference internal\" href=\"https://docs.python.org/3/library/functions.html#func-memoryview\"><code class=\"docutils literal notranslate\"><span class=\"pre\">memoryview()</span></code></a></div>\n",
    "<div class=\"line\"><a class=\"reference internal\" href=\"https://docs.python.org/3/library/functions.html#min\" title=\"min\" target=\"_blank\"><code class=\"xref py py-func docutils literal notranslate\"><span class=\"pre\">min()</span></code></a></div>\n",
    "<div class=\"line\"><br></div>\n",
    "<div class=\"line\"><strong>N</strong></div>\n",
    "<div class=\"line\"><a class=\"reference internal\" href=\"https://docs.python.org/3/library/functions.html#next\" title=\"next\" target=\"_blank\"><code class=\"xref py py-func docutils literal notranslate\"><span class=\"pre\">next()</span></code></a></div>\n",
    "<div class=\"line\"><br></div>\n",
    "<div class=\"line\"><strong>O</strong></div>\n",
    "<div class=\"line\"><a class=\"reference internal\" href=\"https://docs.python.org/3/library/functions.html#object\" title=\"object\"><code class=\"xref py py-func docutils literal notranslate\"><span class=\"pre\">object()</span></code></a></div>\n",
    "<div class=\"line\"><a class=\"reference internal\" href=\"https://docs.python.org/3/library/functions.html#oct\" title=\"oct\" target=\"_blank\"><code class=\"xref py py-func docutils literal notranslate\"><span class=\"pre\">oct()</span></code></a></div>\n",
    "<div class=\"line\"><a class=\"reference internal\" href=\"https://docs.python.org/3/library/functions.html#open\" title=\"open\" target=\"_blank\"><code class=\"xref py py-func docutils literal notranslate\"><span class=\"pre\">open()</span></code></a></div>\n",
    "<div class=\"line\"><a class=\"reference internal\" href=https://docs.python.org/3/library/functions.html\"#ord\" title=\"ord\" target=\"_blank\"><code class=\"xref py py-func docutils literal notranslate\"><span class=\"pre\">ord()</span></code></a></div>\n",
    "<div class=\"line\"><br></div>\n",
    "<div class=\"line\"><strong>P</strong></div>\n",
    "<div class=\"line\"><a class=\"reference internal\" href=\"https://docs.python.org/3/library/functions.html#pow\" title=\"pow\" target=\"_blank\"><code class=\"xref py py-func docutils literal notranslate\"><span class=\"pre\">pow()</span></code></a></div>\n",
    "<div class=\"line\"><a class=\"reference internal\" href=\"https://docs.python.org/3/library/functions.html#print\" title=\"print\" target=\"_blank\"><code class=\"xref py py-func docutils literal notranslate\"><span class=\"pre\">print()</span></code></a></div>\n",
    "<div class=\"line\"><a class=\"reference internal\" href=\"https://docs.python.org/3/library/functions.html#property\" title=\"property\" target=\"_blank\"><code class=\"xref py py-func docutils literal notranslate\"><span class=\"pre\">property()</span></code></a></div>\n",
    "<div class=\"line\"><br></div>\n",
    "<div class=\"line\"><br></div>\n",
    "<div class=\"line\"><br></div>\n",
    "<div class=\"line\"><br></div>\n",
    "</div>\n",
    "</td>\n",
    "<td><div class=\"line-block\">\n",
    "<div class=\"line\"><strong>R</strong></div>\n",
    "<div class=\"line\"><a class=\"reference internal\" href=\"https://docs.python.org/3/library/functions.html#func-range\" target=\"_blank\"><code class=\"docutils literal notranslate\"><span class=\"pre\">range()</span></code></a></div>\n",
    "<div class=\"line\"><a class=\"reference internal\" href=\"https://docs.python.org/3/library/functions.html#repr\" title=\"repr\" target=\"_blank\"><code class=\"xref py py-func docutils literal notranslate\"><span class=\"pre\">repr()</span></code></a></div>\n",
    "<div class=\"line\"><a class=\"reference internal\" href=\"https://docs.python.org/3/library/functions.html#reversed\" title=\"reversed\" target=\"_blank\"><code class=\"xref py py-func docutils literal notranslate\"><span class=\"pre\">reversed()</span></code></a></div>\n",
    "<div class=\"line\"><a class=\"reference internal\" href=\"https://docs.python.org/3/library/functions.html#round\" title=\"round\" target=\"_blank\"><code class=\"xref py py-func docutils literal notranslate\"><span class=\"pre\">round()</span></code></a></div>\n",
    "<div class=\"line\"><br></div>\n",
    "<div class=\"line\"><strong>S</strong></div>\n",
    "<div class=\"line\"><a class=\"reference internal\" href=\"https://docs.python.org/3/library/functions.html#func-set\"><code class=\"docutils literal notranslate\"><span class=\"pre\">set()</span></code></a></div>\n",
    "<div class=\"line\"><a class=\"reference internal\" href=\"https://docs.python.org/3/library/functions.html#setattr\" title=\"setattr\" target=\"_blank\"><code class=\"xref py py-func docutils literal notranslate\"><span class=\"pre\">setattr()</span></code></a></div>\n",
    "<div class=\"line\"><a class=\"reference internal\" href=\"https://docs.python.org/3/library/functions.html#slice\" title=\"slice\" target=\"_blank\"><code class=\"xref py py-func docutils literal notranslate\"><span class=\"pre\">slice()</span></code></a></div>\n",
    "<div class=\"line\"><a class=\"reference internal\" href=\"https://docs.python.org/3/library/functions.html#sorted\" title=\"sorted\" target=\"_blank\"><code class=\"xref py py-func docutils literal notranslate\"><span class=\"pre\">sorted()</span></code></a></div>\n",
    "<div class=\"line\"><a class=\"reference internal\" href=\"https://docs.python.org/3/library/functions.html#staticmethod\" title=\"staticmethod\" target=\"_blank\"><code class=\"xref py py-func docutils literal notranslate\"><span class=\"pre\">staticmethod()</span></code></a></div>\n",
    "<div class=\"line\"><a class=\"reference internal\" href=\"https://docs.python.org/3/library/functions.html#func-str\"><code class=\"docutils literal notranslate\"><span class=\"pre\">str()</span></code></a></div>\n",
    "<div class=\"line\"><a class=\"reference internal\" href=\"https://docs.python.org/3/library/functions.html#sum\" title=\"sum\" target=\"_blank\"><code class=\"xref py py-func docutils literal notranslate\"><span class=\"pre\">sum()</span></code></a></div>\n",
    "<div class=\"line\"><a class=\"reference internal\" href=\"https://docs.python.org/3/library/functions.html#super\" title=\"super\" target=\"_blank\"><code class=\"xref py py-func docutils literal notranslate\"><span class=\"pre\">super()</span></code></a></div>\n",
    "<div class=\"line\"><br></div>\n",
    "<div class=\"line\"><strong>T</strong></div>\n",
    "<div class=\"line\"><a class=\"reference internal\" href=\"https://docs.python.org/3/library/functions.html#func-tuple\"><code class=\"docutils literal notranslate\"><span class=\"pre\">tuple()</span></code></a></div>\n",
    "<div class=\"line\"><a class=\"reference internal\" href=\"https://docs.python.org/3/library/functions.html#type\" title=\"type\" target=\"_blank\"><code class=\"xref py py-func docutils literal notranslate\"><span class=\"pre\">type()</span></code></a></div>\n",
    "<div class=\"line\"><br></div>\n",
    "<div class=\"line\"><strong>V</strong></div>\n",
    "<div class=\"line\"><a class=\"reference internal\" href=\"https://docs.python.org/3/library/functions.html#vars\" title=\"vars\" target=\"_blank\"><code class=\"xref py py-func docutils literal notranslate\"><span class=\"pre\">vars()</span></code></a></div>\n",
    "<div class=\"line\"><br></div>\n",
    "<div class=\"line\"><strong>Z</strong></div>\n",
    "<div class=\"line\"><a class=\"reference internal\" href=\"https://docs.python.org/3/library/functions.html#zip\" title=\"zip\" target=\"_blank\"><code class=\"xref py py-func docutils literal notranslate\"><span class=\"pre\">zip()</span></code></a></div>\n",
    "<div class=\"line\"><br></div>\n",
    "<div class=\"line\"><strong>_</strong></div>\n",
    "<div class=\"line\"><a class=\"reference internal\" href=\"https://docs.python.org/3/library/functions.html#import__\" title=\"__import__\" target=\"_blank\"><code class=\"xref py py-func docutils literal notranslate\"><span class=\"pre\">__import__()</span></code></a></div>\n",
    "</div>\n",
    "</td>\n",
    "</tr>\n",
    "</tbody>\n",
    "</table>"
   ]
  },
  {
   "cell_type": "code",
   "execution_count": null,
   "metadata": {
    "id": "cjNAbpeEkh5T"
   },
   "outputs": [],
   "source": [
    "abs(-5.11)"
   ]
  },
  {
   "cell_type": "code",
   "execution_count": null,
   "metadata": {
    "id": "grA9RkhcciRw"
   },
   "outputs": [],
   "source": [
    "pow(2, 3)"
   ]
  },
  {
   "cell_type": "code",
   "execution_count": null,
   "metadata": {
    "id": "CSakjCYCkpQw"
   },
   "outputs": [],
   "source": [
    "max(1, 2, 3, 4, 5)"
   ]
  },
  {
   "cell_type": "code",
   "execution_count": null,
   "metadata": {
    "id": "4DKmmVGZkrGr"
   },
   "outputs": [],
   "source": [
    "min(1, 2, 3, 4, 5)"
   ]
  },
  {
   "cell_type": "code",
   "execution_count": null,
   "metadata": {
    "id": "sDxEWDKoku3I",
    "outputId": "e0a6f430-dcf4-4e59-db3c-97434b1ba9af"
   },
   "outputs": [
    {
     "data": {
      "text/plain": [
       "(4, 1)"
      ]
     },
     "execution_count": 6,
     "metadata": {
      "tags": []
     },
     "output_type": "execute_result"
    }
   ],
   "source": [
    "divmod(9, 2)"
   ]
  },
  {
   "cell_type": "markdown",
   "metadata": {
    "id": "V2Rzriz9lTba"
   },
   "source": [
    "Typing a function's name without `()` echos \"the value\" or more precisely the <font color=\"royalblue\">**string representation**</font> of the function:"
   ]
  },
  {
   "cell_type": "code",
   "execution_count": null,
   "metadata": {
    "id": "qBN9YyLJlT7p",
    "outputId": "7be3acf1-89b9-4f0d-8912-d5b7f8e6ea5f"
   },
   "outputs": [
    {
     "data": {
      "text/plain": [
       "<function max>"
      ]
     },
     "execution_count": 7,
     "metadata": {
      "tags": []
     },
     "output_type": "execute_result"
    }
   ],
   "source": [
    "max"
   ]
  },
  {
   "cell_type": "markdown",
   "metadata": {
    "id": "MGbmYUX6k6cy"
   },
   "source": [
    "If the usage of a function is unknown, we can call `help()` to print help for the function:"
   ]
  },
  {
   "cell_type": "code",
   "execution_count": null,
   "metadata": {
    "colab": {
     "base_uri": "https://localhost:8080/",
     "height": 202
    },
    "id": "ToI27i89k53w",
    "outputId": "518d7698-0ada-48d0-db1b-843e5d114569"
   },
   "outputs": [
    {
     "name": "stdout",
     "output_type": "stream",
     "text": [
      "Help on built-in function max in module builtins:\n",
      "\n",
      "max(...)\n",
      "    max(iterable, *[, default=obj, key=func]) -> value\n",
      "    max(arg1, arg2, *args, *[, key=func]) -> value\n",
      "    \n",
      "    With a single iterable argument, return its biggest item. The\n",
      "    default keyword-only argument specifies an object to return if\n",
      "    the provided iterable is empty.\n",
      "    With two or more arguments, return the largest argument.\n",
      "\n"
     ]
    }
   ],
   "source": [
    "help(max)"
   ]
  },
  {
   "cell_type": "markdown",
   "metadata": {
    "id": "QNvvdDDqiwVD"
   },
   "source": [
    "---\n",
    "<br/>\n",
    "\n",
    "# 5 Strings\n",
    "\n",
    "Besides numbers and Booleans, Python can also manipulate strings, which are sequences of characters.\n",
    "\n",
    "\n"
   ]
  },
  {
   "cell_type": "markdown",
   "metadata": {
    "id": "CRrNZhsscuSF"
   },
   "source": [
    "\n",
    "## 5.1 String Literals\n",
    "\n",
    "Strings are constructed by enclosing a sequence of characters in single quotes (`'`) or double quotes (`\"`):"
   ]
  },
  {
   "cell_type": "code",
   "execution_count": null,
   "metadata": {
    "id": "V6Ti7K6MjIgz",
    "outputId": "d190360f-a8f8-438b-8f32-d09db02ec24e"
   },
   "outputs": [
    {
     "data": {
      "text/plain": [
       "'Welcome to Python Programming'"
      ]
     },
     "execution_count": 8,
     "metadata": {
      "tags": []
     },
     "output_type": "execute_result"
    }
   ],
   "source": [
    "'Welcome to Python Programming'"
   ]
  },
  {
   "cell_type": "code",
   "execution_count": null,
   "metadata": {
    "id": "AfnfgbhzjL-G",
    "outputId": "323fb587-fb4d-49fb-90f4-b848de3ad749"
   },
   "outputs": [
    {
     "ename": "SyntaxError",
     "evalue": "EOL while scanning string literal (<ipython-input-10-377577e54e29>, line 1)",
     "output_type": "error",
     "traceback": [
      "\u001b[1;36m  File \u001b[1;32m\"<ipython-input-10-377577e54e29>\"\u001b[1;36m, line \u001b[1;32m1\u001b[0m\n\u001b[1;33m    \"Welcome to Python Programming'\u001b[0m\n\u001b[1;37m                                   ^\u001b[0m\n\u001b[1;31mSyntaxError\u001b[0m\u001b[1;31m:\u001b[0m EOL while scanning string literal\n"
     ]
    }
   ],
   "source": [
    "\"Welcome to Python Programming\""
   ]
  },
  {
   "cell_type": "markdown",
   "metadata": {
    "id": "F1eHBZnWjbw-"
   },
   "source": [
    " Single quoted strings can contain double quotes, and vice versa"
   ]
  },
  {
   "cell_type": "code",
   "execution_count": null,
   "metadata": {
    "id": "Ba1AIO3ijbBV"
   },
   "outputs": [],
   "source": [
    "\"Programming isn't hard.\""
   ]
  },
  {
   "cell_type": "code",
   "execution_count": null,
   "metadata": {
    "id": "9H-jsam6jx62"
   },
   "outputs": [],
   "source": [
    "'\"Yes\", they said.'"
   ]
  },
  {
   "cell_type": "markdown",
   "metadata": {
    "id": "c6pInT4pjLMw"
   },
   "source": [
    "What if we have to use single (double) quotes literally in a single(double)-quoted string? Escape their special behaviors with backslashes (`\\`):"
   ]
  },
  {
   "cell_type": "code",
   "execution_count": null,
   "metadata": {
    "id": "-AwV8aCilKaa",
    "outputId": "c9ba9632-14da-4ea2-b2f2-f9c1159789d2"
   },
   "outputs": [
    {
     "data": {
      "text/plain": [
       "'\"No, it isn\\'t\", they said'"
      ]
     },
     "execution_count": 12,
     "metadata": {
      "tags": []
     },
     "output_type": "execute_result"
    }
   ],
   "source": [
    "'\"No, it isn\\'t\", they said' "
   ]
  },
  {
   "cell_type": "markdown",
   "metadata": {
    "id": "LpMpaBA_oE7M"
   },
   "source": [
    "When we press the <kbd class=\"\">Enter</kbd> key, a <b>*newline character*</b> (`\\n`) is generated to signify the end of a line. But  Python uses newlines to delineate statements.\n"
   ]
  },
  {
   "cell_type": "code",
   "execution_count": null,
   "metadata": {
    "id": "J4GTuWvnJmFf"
   },
   "outputs": [],
   "source": [
    "'Python Programming\n",
    "for Business Analytics'"
   ]
  },
  {
   "cell_type": "markdown",
   "metadata": {
    "id": "j5cdIus6oRVt"
   },
   "source": [
    "\n",
    "\n",
    "\n",
    "One way to make a string literal span multiple lines is to write it inside triple quotes, `\"\"\"` or `'''`:\n"
   ]
  },
  {
   "cell_type": "code",
   "execution_count": null,
   "metadata": {
    "id": "Pn3HvXgNkgQZ",
    "outputId": "fb965e30-38f1-4e9b-9580-07b2c01f1444"
   },
   "outputs": [
    {
     "data": {
      "text/plain": [
       "'Python Programming\\nfor Business Analytics'"
      ]
     },
     "execution_count": 14,
     "metadata": {
      "tags": []
     },
     "output_type": "execute_result"
    }
   ],
   "source": [
    "'''Python Programming\n",
    "for Business Analytics'''     # a newline (\\n) is automatically included in it"
   ]
  },
  {
   "cell_type": "markdown",
   "metadata": {
    "id": "80Z6XJTd2w1p"
   },
   "source": [
    "We can also use `()` to combine multiple string literals (possibly spanning multiple lines) into one:"
   ]
  },
  {
   "cell_type": "code",
   "execution_count": null,
   "metadata": {
    "colab": {
     "base_uri": "https://localhost:8080/",
     "height": 36
    },
    "id": "glLybREa2vga",
    "outputId": "8351ad55-a997-4966-c18b-dd4d2b830dae"
   },
   "outputs": [
    {
     "data": {
      "application/vnd.google.colaboratory.intrinsic+json": {
       "type": "string"
      },
      "text/plain": [
       "'Python Programming for Business Analytics'"
      ]
     },
     "execution_count": 21,
     "metadata": {},
     "output_type": "execute_result"
    }
   ],
   "source": [
    "(\"Python Programming \"\n",
    "\"for Business Analytics\")"
   ]
  },
  {
   "cell_type": "markdown",
   "metadata": {
    "id": "F0xQ03GJozSo"
   },
   "source": [
    "`print()` is used to display the actual content represented by a string literal:"
   ]
  },
  {
   "cell_type": "code",
   "execution_count": null,
   "metadata": {
    "id": "IbVBCtkaorVQ"
   },
   "outputs": [],
   "source": [
    "print('Python Programming\\nfor Business Analytics')"
   ]
  },
  {
   "cell_type": "markdown",
   "metadata": {
    "id": "3-m8yOGEkIrs"
   },
   "source": [
    "---\n",
    "\n",
    "<br>\n",
    "\n",
    "## 5.2 Escape Sequences\n",
    "\n",
    "An  <font color='royalblue'><b>*escape sequence*</b></font> (of characters) can be used to denote a special character which cannot be typed easily on a keyboard or one which has been reserved for other purposes.\n",
    "\n",
    "Some common escape sequences include:\n",
    "\n",
    "|Sequence|Meaning|\n",
    "|:-- |:-- |\n",
    "|`\\\\`|literal backslash|\n",
    "|`\\'`|single quote|\n",
    "|`\\\"`|double quote|\n",
    "|`\\t`|tab|\n",
    "|`\\n`|newline|"
   ]
  },
  {
   "cell_type": "markdown",
   "metadata": {
    "id": "FEdpi9m0qKLV"
   },
   "source": [
    "**<font color='steelblue' > Question </font>**: How to print the following using escape sequences:\n",
    "\n",
    "`I don't think \"a\" is equal to \"A\" in 'Python'`"
   ]
  },
  {
   "cell_type": "code",
   "execution_count": null,
   "metadata": {
    "id": "wE0BJQ0hjQH7"
   },
   "outputs": [],
   "source": []
  },
  {
   "cell_type": "markdown",
   "metadata": {
    "id": "MzJ4RGl1lMwa"
   },
   "source": [
    "---\n",
    "\n",
    "<br>\n",
    "\n",
    "## 5.3 String Operations\n",
    "\n",
    "In Python, strings have type `str`, which is a special kind of <font color=\"royalblue\"><b>*sequence types*</b></font> (later). String objects support several operations and built-in functions.\n",
    "\n",
    "- The operators `+` and `*` works with strings:"
   ]
  },
  {
   "cell_type": "code",
   "execution_count": null,
   "metadata": {
    "id": "v8RTOGqalwQW"
   },
   "outputs": [],
   "source": [
    "course = 'Python Programming'\n",
    "course + ' for Business Analtytics'"
   ]
  },
  {
   "cell_type": "code",
   "execution_count": null,
   "metadata": {
    "id": "O80E3g01l0Pa",
    "outputId": "c46215b5-db5d-4def-c3a3-0ca3755497d8"
   },
   "outputs": [
    {
     "data": {
      "text/plain": [
       "'Python ProgrammingPython Programming'"
      ]
     },
     "execution_count": 32,
     "metadata": {
      "tags": []
     },
     "output_type": "execute_result"
    }
   ],
   "source": [
    "course * 2"
   ]
  },
  {
   "cell_type": "markdown",
   "metadata": {
    "id": "Tth7Ic6ymM1y"
   },
   "source": [
    "- The  <font color=\"royalblue\"><b>*membership operators*</b></font> `in` and `not in` take two strings and return True if the first appears as a substring in the second:"
   ]
  },
  {
   "cell_type": "code",
   "execution_count": null,
   "metadata": {
    "id": "7a2vrvYhmjfl",
    "outputId": "6e223c61-8833-4efd-c546-d71b3259bc30"
   },
   "outputs": [
    {
     "data": {
      "text/plain": [
       "False"
      ]
     },
     "execution_count": 36,
     "metadata": {
      "tags": []
     },
     "output_type": "execute_result"
    }
   ],
   "source": [
    "'nan' not in 'banana'"
   ]
  },
  {
   "cell_type": "code",
   "execution_count": null,
   "metadata": {
    "id": "5Hb9ckxummUb",
    "outputId": "d9aa8c9c-296d-4b51-c7a9-4868e00ac0a1"
   },
   "outputs": [
    {
     "data": {
      "text/plain": [
       "False"
      ]
     },
     "execution_count": 37,
     "metadata": {
      "tags": []
     },
     "output_type": "execute_result"
    }
   ],
   "source": [
    "'p' in 'Python Programming'"
   ]
  },
  {
   "cell_type": "markdown",
   "metadata": {
    "id": "T2IBxjwtmx48"
   },
   "source": [
    "\n",
    "-  The comparison operators (e.g., `==`, `>`, `<=`) compare strings ***lexicographically***, the way in which sequences are ordering  based on the <b>*alphabetical order*</b> of their component characters:\n",
    "\n",
    "   - In alphabetical ordering, digits come before letters and capital letters come before lowercase letters.\n",
    "     - i.e., digits (as characters) < uppercase letters < lowercase letters.\n",
    "   - Compare the leftmost characters first, and generate `True` or `False` if their values differ, or continue until a difference is observed."
   ]
  },
  {
   "cell_type": "code",
   "execution_count": null,
   "metadata": {
    "id": "E-VLsEzgmvbc"
   },
   "outputs": [],
   "source": [
    "'Python Programming' == 'python programming'"
   ]
  },
  {
   "cell_type": "code",
   "execution_count": null,
   "metadata": {
    "id": "Up93Axsuo_Pi"
   },
   "outputs": [],
   "source": [
    "'Python Programming' < 'python programming'"
   ]
  },
  {
   "cell_type": "code",
   "execution_count": null,
   "metadata": {
    "id": "KXD159w4pCht"
   },
   "outputs": [],
   "source": [
    "'python programming' < 'python cookbook'"
   ]
  },
  {
   "cell_type": "code",
   "execution_count": null,
   "metadata": {
    "id": "chPFfcJKByV_",
    "outputId": "18e8f00f-3492-4af8-8756-a74bff567591"
   },
   "outputs": [
    {
     "data": {
      "text/plain": [
       "True"
      ]
     },
     "execution_count": 40,
     "metadata": {
      "tags": []
     },
     "output_type": "execute_result"
    }
   ],
   "source": [
    "'9999' < 'A'"
   ]
  },
  {
   "cell_type": "markdown",
   "metadata": {
    "id": "MM1HpZt5pIw8"
   },
   "source": [
    "- `len()` returns the number of characters in a string:"
   ]
  },
  {
   "cell_type": "code",
   "execution_count": null,
   "metadata": {
    "id": "jIagmUnFpNnz",
    "outputId": "43db0873-7541-4338-a158-c73875e4d09f"
   },
   "outputs": [
    {
     "data": {
      "text/plain": [
       "18"
      ]
     },
     "execution_count": 41,
     "metadata": {
      "tags": []
     },
     "output_type": "execute_result"
    }
   ],
   "source": [
    "len(course)"
   ]
  },
  {
   "cell_type": "code",
   "execution_count": null,
   "metadata": {
    "colab": {
     "base_uri": "https://localhost:8080/",
     "height": 162
    },
    "id": "CfSuSowBpPre",
    "outputId": "e3ef9c4e-e04e-45d2-c4e9-a8925f04ec21"
   },
   "outputs": [
    {
     "ename": "TypeError",
     "evalue": "object of type 'bool' has no len()",
     "output_type": "error",
     "traceback": [
      "\u001b[1;31m---------------------------------------------------------------------------\u001b[0m",
      "\u001b[1;31mTypeError\u001b[0m                                 Traceback (most recent call last)",
      "\u001b[1;32m<ipython-input-43-8c3be77e04f4>\u001b[0m in \u001b[0;36m<module>\u001b[1;34m\u001b[0m\n\u001b[1;32m----> 1\u001b[1;33m \u001b[0mlen\u001b[0m\u001b[1;33m(\u001b[0m\u001b[1;32mTrue\u001b[0m\u001b[1;33m)\u001b[0m\u001b[1;33m\u001b[0m\u001b[1;33m\u001b[0m\u001b[0m\n\u001b[0m",
      "\u001b[1;31mTypeError\u001b[0m: object of type 'bool' has no len()"
     ]
    }
   ],
   "source": [
    "len(True)"
   ]
  },
  {
   "cell_type": "markdown",
   "metadata": {
    "id": "e7hSEzRM1xBw"
   },
   "source": [
    "---\n",
    "\n",
    "<br>\n",
    "\n",
    "## 5.4 String Formatting\n",
    "\n",
    "\n"
   ]
  },
  {
   "cell_type": "code",
   "execution_count": null,
   "metadata": {
    "id": "WhDJ3QT9yqBh"
   },
   "outputs": [],
   "source": [
    "# using semicolon allows us to write multiple statements on the same line\n",
    "shares = 3.2; stock = 'Apple'; price = 443.05"
   ]
  },
  {
   "cell_type": "markdown",
   "metadata": {
    "id": "NP3gQO8siTNR"
   },
   "source": [
    "To display the contents of these variables, we can pass them as a comma-separated list of argument to `print()`. By default, `print()` separates the content of each argument by a single space and appends a newline to the end of the output:"
   ]
  },
  {
   "cell_type": "code",
   "execution_count": null,
   "metadata": {
    "id": "sRr5FHF_iv_M"
   },
   "outputs": [],
   "source": [
    "print('purchase', shares, 'shares of',  stock, \"at $\", price, 'per share')"
   ]
  },
  {
   "cell_type": "code",
   "execution_count": null,
   "metadata": {
    "colab": {
     "base_uri": "https://localhost:8080/",
     "height": 218
    },
    "id": "i664F9yR4XG1",
    "outputId": "b4e080e7-a61c-4a1a-86c2-e96f31c73bbe"
   },
   "outputs": [
    {
     "name": "stdout",
     "output_type": "stream",
     "text": [
      "Help on built-in function print in module builtins:\n",
      "\n",
      "print(...)\n",
      "    print(value, ..., sep=' ', end='\\n', file=sys.stdout, flush=False)\n",
      "    \n",
      "    Prints the values to a stream, or to sys.stdout by default.\n",
      "    Optional keyword arguments:\n",
      "    file:  a file-like object (stream); defaults to the current sys.stdout.\n",
      "    sep:   string inserted between values, default a space.\n",
      "    end:   string appended after the last value, default a newline.\n",
      "    flush: whether to forcibly flush the stream.\n",
      "\n"
     ]
    }
   ],
   "source": [
    "# access the help system\n",
    "help(print)"
   ]
  },
  {
   "cell_type": "code",
   "execution_count": null,
   "metadata": {
    "colab": {
     "base_uri": "https://localhost:8080/"
    },
    "id": "oBBnpQhgkFHZ",
    "outputId": "a5f8d1a1-d954-47ba-fb2c-ed57b2256873"
   },
   "outputs": [
    {
     "name": "stdout",
     "output_type": "stream",
     "text": [
      "purchase 3.2 shares of Apple at $ 443.05 per share\tpurchase-3.2-shares of-Apple-at $-443.05-per share\n"
     ]
    }
   ],
   "source": [
    "print('purchase', shares, 'shares of',  stock, \"at $\", price, 'per share', end='\\t')\n",
    "print('purchase', shares, 'shares of',  stock, \"at $\", price, 'per share', sep='-')"
   ]
  },
  {
   "cell_type": "code",
   "execution_count": null,
   "metadata": {
    "id": "X8s7OvLskM_2"
   },
   "outputs": [],
   "source": [
    "with open(\"printout.txt\", \"w\") as f: \n",
    "  print('purchase', shares, 'shares of',  stock, \"at $\", price, 'per share', sep='-', file=f)"
   ]
  },
  {
   "cell_type": "markdown",
   "metadata": {
    "id": "-IOXuP6NiChW"
   },
   "source": [
    "`print() ` supports ouput formatting that is rudimentary at best. \n",
    "\n",
    "In many cases, we'll need more precise control over the appearance of data destined for display. \n",
    "\n",
    "Python provides several ways to format strings: "
   ]
  },
  {
   "cell_type": "code",
   "execution_count": null,
   "metadata": {
    "id": "ctXjoHEWEil6"
   },
   "outputs": [],
   "source": [
    "f'purchase {shares} shares of {stock} at ${price:.1f} per share'               # f-string "
   ]
  },
  {
   "cell_type": "code",
   "execution_count": null,
   "metadata": {
    "id": "dvXe9cIlN-SV"
   },
   "outputs": [],
   "source": [
    "'purchase {} shares of {} at $ {:.1f} per share'.format(shares, stock, price)  # format method"
   ]
  },
  {
   "cell_type": "code",
   "execution_count": null,
   "metadata": {
    "id": "IUWp27fKlwfx"
   },
   "outputs": [],
   "source": [
    "'purchase %d shares of %s at $ %.1f per share' % (shares, stock, price)        # old-style string formatting"
   ]
  },
  {
   "cell_type": "markdown",
   "metadata": {
    "id": "xfbI4Mk2EKBO"
   },
   "source": [
    "\n",
    "---\n",
    "\n",
    "<br>\n",
    "\n",
    "### f-strings\n",
    "\n",
    "\n",
    "\n",
    "Python 3.6 added a new string formatting approach called **formatted string literals** or **f-strings**, which provides a simple way to substitute values into strings.\n",
    "\n",
    "\n",
    "\n",
    "\n",
    "<img src=\"https://raw.githubusercontent.com/justinjiajia/img/master/python/f-string.PNG\" width=500 />\n",
    "\n",
    "\n"
   ]
  },
  {
   "cell_type": "code",
   "execution_count": null,
   "metadata": {
    "colab": {
     "base_uri": "https://localhost:8080/",
     "height": 36
    },
    "id": "EMKUainZKQHP",
    "outputId": "038ee178-0ac2-41e6-81dc-14ce785412da"
   },
   "outputs": [
    {
     "data": {
      "application/vnd.google.colaboratory.intrinsic+json": {
       "type": "string"
      },
      "text/plain": [
       "'Five divided by ten is 50.00%'"
      ]
     },
     "execution_count": 33,
     "metadata": {},
     "output_type": "execute_result"
    }
   ],
   "source": [
    "a = 5; b = 10\n",
    "f\"Five divided by ten is {a / b :.2%}\""
   ]
  },
  {
   "cell_type": "code",
   "execution_count": null,
   "metadata": {
    "colab": {
     "base_uri": "https://localhost:8080/",
     "height": 36
    },
    "id": "YZtyz4IszltG",
    "outputId": "0197dbd8-9b02-4b88-fece-d641ac51bc17"
   },
   "outputs": [
    {
     "data": {
      "application/vnd.google.colaboratory.intrinsic+json": {
       "type": "string"
      },
      "text/plain": [
       "'purchase 11.4 shares of Google at $203.830000 per share'"
      ]
     },
     "execution_count": 21,
     "metadata": {},
     "output_type": "execute_result"
    }
   ],
   "source": [
    "# Format specifiers are optional\n",
    "stock = 'Google'; price = 203.83; shares = 11.4\n",
    "f'purchase {shares} shares of {stock} at ${price:f} per share'  # The default precision of 'f' is 6."
   ]
  },
  {
   "cell_type": "code",
   "execution_count": null,
   "metadata": {
    "id": "gSYrmgTp5xYp"
   },
   "outputs": [],
   "source": [
    "stock = 'Google'; percentage = 0.1845; week = 52.5\n",
    "f\"{stock:e<12}'s stock is trading {percentage:.1%} off of {week:.0f}-week highs\" "
   ]
  },
  {
   "cell_type": "markdown",
   "metadata": {
    "id": "XTl3vHW1F547"
   },
   "source": [
    "In order to make a brace appear in your string, we must use double braces:"
   ]
  },
  {
   "cell_type": "code",
   "execution_count": null,
   "metadata": {
    "colab": {
     "base_uri": "https://localhost:8080/",
     "height": 36
    },
    "id": "HNkdoin3F49y",
    "outputId": "716241a2-85fb-4e19-966d-55016fa64b9f"
   },
   "outputs": [
    {
     "data": {
      "application/vnd.google.colaboratory.intrinsic+json": {
       "type": "string"
      },
      "text/plain": [
       "'{a + b}'"
      ]
     },
     "execution_count": 9,
     "metadata": {},
     "output_type": "execute_result"
    }
   ],
   "source": [
    "f\"{{a + b}}\""
   ]
  },
  {
   "cell_type": "code",
   "execution_count": null,
   "metadata": {
    "colab": {
     "base_uri": "https://localhost:8080/",
     "height": 36
    },
    "id": "6yj_LV-pF_TQ",
    "outputId": "74d535f0-2520-41c8-d731-7997b8ce7282"
   },
   "outputs": [
    {
     "data": {
      "application/vnd.google.colaboratory.intrinsic+json": {
       "type": "string"
      },
      "text/plain": [
       "'{15}'"
      ]
     },
     "execution_count": 12,
     "metadata": {},
     "output_type": "execute_result"
    }
   ],
   "source": [
    "f\"{{{a + b}}}\""
   ]
  },
  {
   "cell_type": "markdown",
   "metadata": {
    "id": "lYmP0xZza9xy"
   },
   "source": [
    "---\n",
    "\n",
    "#### Format Specifications\n",
    "\n",
    "The structure of a format specifier is shown as follows:\n",
    "\n",
    "\n",
    "` [[<fill>]<align>][<sign>][#][0][<width>][<grouping_option>][.<precision>][<type>]`\n",
    "\n",
    "```\n",
    "fill            :  <any character>\n",
    "align           :  \"<\" | \">\" | \"=\" | \"^\"\n",
    "sign            :  \"+\" | \"-\" | \" \"\n",
    "width           :  digit+\n",
    "grouping_option :  \"_\" | \",\"\n",
    "precision       :  digit+\n",
    "type            :  \"b\" | \"c\" | \"d\" | \"e\" | \"E\" | \"f\" | \"F\" | \"g\" | \"G\" | \"n\" | \"o\" | \"s\" | \"x\" | \"X\" | \"%\"\n",
    "```\n",
    "\n",
    "<div class=\"alert alert-info\">More details on this string formatting syntax can be found <a href=\"https://docs.python.org/3/library/string.html#format-string-syntax\">here</a>.</div>\n",
    "\n"
   ]
  },
  {
   "cell_type": "markdown",
   "metadata": {
    "id": "Amq06mGJIxHy"
   },
   "source": [
    "\n",
    "---\n",
    "\n",
    "<br>\n",
    "\n",
    "### The Method Approach: `str.format()`\n",
    "\n",
    "\n",
    "Formatting can also be handled by calling `.format()` on a string object. The syntax is similar to the one we used with f-strings: \n",
    " \n"
   ]
  },
  {
   "cell_type": "code",
   "execution_count": null,
   "metadata": {
    "id": "xeYfahm4Iwdb"
   },
   "outputs": [],
   "source": [
    "# Simple positional formatting\n",
    "'purchase {} shares of {} at $ {} per share'.format(shares, stock, price)"
   ]
  },
  {
   "cell_type": "code",
   "execution_count": null,
   "metadata": {
    "id": "0D1owWVKWIXq"
   },
   "outputs": [],
   "source": [
    "# Rearranging the order of display\n",
    "'purchase {2} shares of {0} at $ {1} per share'.format('Google', 203.83, 11.4)"
   ]
  },
  {
   "cell_type": "code",
   "execution_count": null,
   "metadata": {
    "id": "_7Gawa7PJOqO"
   },
   "outputs": [],
   "source": [
    "# Maching by name\n",
    "'purchase {shares} shares of {stock} at $ {price} per share'.format(stock='Google', price=203.83, shares=11.4)"
   ]
  },
  {
   "cell_type": "markdown",
   "metadata": {
    "id": "u0m6hhSg7YU7"
   },
   "source": [
    "---\n",
    "\n",
    "<br>\n",
    "\n",
    "### \"Old Style\": The `%` Operator\n",
    "\n",
    " `%` is known as the ***interpolation operator***. It lets us do simple positional formatting. \n",
    "\n",
    "The operator takes the  <font color=\"salmon\">***conversion specifiers***</font> (starting with `%`) on the left and the values on the right, producing a formatted string:\n",
    "\n",
    "\n",
    "<img src=\"https://drive.google.com/uc?export=download&id=1h2heHfSZQ69Xtihh2NaMfQZatLS4Hl1Z\" width=600/>\n",
    "\n"
   ]
  },
  {
   "cell_type": "markdown",
   "metadata": {
    "id": "QaC72Tn46WXl"
   },
   "source": [
    "\n",
    "--- \n",
    "\n",
    "#### Conversion Specifiers\n",
    "\n",
    "The constructs of a conversion specifier is structured as follows:\n",
    "\n",
    "`%[<flags>][<width>][.<precision>]<type>`\n",
    "\n",
    "\n",
    "|Component|Meaning|Possible Values|\n",
    "|:-- |:-- |:--|\n",
    "|`%`|Introduces the conversion specifier|\n",
    "|`<type>`|Indicates the type of conversion to be performed|`d` for decimal integers <br>`f` for floating point numbers <br>`e` for exponential numbers <br> `s` for strings\n",
    "|`.<precision>`|Determines the length and precision of floating point, exponential,  <br>or string outputs|\n",
    "|`<width>`|Specifies the minimum width of the formatted result|\n",
    "|`<flags>`|Indicates one or more flags that exert finer control over formatting|`0` for padding of values<br>`-` for justification of values\n",
    "\n",
    "\n",
    "<br>\n",
    "\n",
    "<div class=\"alert alert-info\">More details on conversion specifiers can be found <a href=\"https://docs.python.org/3/library/stdtypes.html#printf-style-string-formatting\">here</a>.</div>\n",
    "\n",
    "\n"
   ]
  },
  {
   "cell_type": "code",
   "execution_count": null,
   "metadata": {
    "id": "yfazLbxRC6UU"
   },
   "outputs": [],
   "source": [
    "'purchase %d shares of %s at $%f per share' % (shares, stock, price) "
   ]
  },
  {
   "cell_type": "code",
   "execution_count": null,
   "metadata": {
    "id": "43W_wADzJmHC"
   },
   "outputs": [],
   "source": [
    "'purchase %-6d shares of %-10s at $%.2e per share' % (shares, stock, price)"
   ]
  },
  {
   "cell_type": "markdown",
   "metadata": {
    "id": "lK2w-VQABHbZ"
   },
   "source": [
    "To insert a literal `%` character into the output, specify two consecutive `%` characters in the format string:"
   ]
  },
  {
   "cell_type": "code",
   "execution_count": null,
   "metadata": {
    "id": "QdAMo1B9HHhI"
   },
   "outputs": [],
   "source": [
    "\"%s's stock is trading %.0f%% off of %d-week highs\" % ('Google', 0.1845 * 100, 52.5)"
   ]
  },
  {
   "cell_type": "markdown",
   "metadata": {
    "id": "jqxjuXfZmDAp"
   },
   "source": [
    "---\n",
    "\n",
    "<br/>\n",
    "\n",
    "# 6 Type Conversion\n",
    "\n",
    "\n",
    "Built-in functions like `str()`,  `int()`, `bool()`, and `float()` will try to convert anything to their respective types:"
   ]
  },
  {
   "cell_type": "code",
   "execution_count": null,
   "metadata": {
    "colab": {
     "base_uri": "https://localhost:8080/",
     "height": 162
    },
    "id": "Qo02se6s4HpG",
    "outputId": "93daa00d-af8e-48b0-a1d7-2434efa90dbc"
   },
   "outputs": [
    {
     "ename": "TypeError",
     "evalue": "ignored",
     "output_type": "error",
     "traceback": [
      "\u001b[0;31m---------------------------------------------------------------------------\u001b[0m",
      "\u001b[0;31mTypeError\u001b[0m                                 Traceback (most recent call last)",
      "\u001b[0;32m<ipython-input-65-92e19d165eda>\u001b[0m in \u001b[0;36m<module>\u001b[0;34m()\u001b[0m\n\u001b[0;32m----> 1\u001b[0;31m \u001b[0;36m3\u001b[0m \u001b[0;34m+\u001b[0m \u001b[0;34m'0.4'\u001b[0m  \u001b[0;31m# add or concatenate?\u001b[0m\u001b[0;34m\u001b[0m\u001b[0;34m\u001b[0m\u001b[0m\n\u001b[0m",
      "\u001b[0;31mTypeError\u001b[0m: unsupported operand type(s) for +: 'int' and 'str'"
     ]
    }
   ],
   "source": [
    "3 + '0.4'             # add or concatenate? "
   ]
  },
  {
   "cell_type": "code",
   "execution_count": null,
   "metadata": {
    "id": "nBtWRCxK3hUQ"
   },
   "outputs": [],
   "source": [
    "int(\"3\") + 4          # Now the ambiguity is cleared up"
   ]
  },
  {
   "cell_type": "code",
   "execution_count": null,
   "metadata": {
    "id": "e0nSEUwe3jId"
   },
   "outputs": [],
   "source": [
    "'3.' + str(4)"
   ]
  },
  {
   "cell_type": "code",
   "execution_count": null,
   "metadata": {
    "id": "o4yuMTQj3rlD"
   },
   "outputs": [],
   "source": [
    "float(f'3.{4}')"
   ]
  },
  {
   "cell_type": "code",
   "execution_count": null,
   "metadata": {
    "id": "2b4YlOk43tm9"
   },
   "outputs": [],
   "source": [
    "int(float(\"3.4\"))     # try int(\"3.4\")"
   ]
  },
  {
   "cell_type": "code",
   "execution_count": null,
   "metadata": {
    "id": "rkL5i1893u-7"
   },
   "outputs": [],
   "source": [
    "# return an object's truth value\n",
    "bool(0)"
   ]
  },
  {
   "cell_type": "code",
   "execution_count": null,
   "metadata": {
    "id": "N08Txf-_4CiT"
   },
   "outputs": [],
   "source": [
    "bool(-3.4)"
   ]
  },
  {
   "cell_type": "code",
   "execution_count": null,
   "metadata": {
    "id": "OseDYKl73w9j"
   },
   "outputs": [],
   "source": [
    "bool(\"\")                         # An empty string is falsy"
   ]
  },
  {
   "cell_type": "code",
   "execution_count": null,
   "metadata": {
    "id": "E0xNGUkS3-N8"
   },
   "outputs": [],
   "source": [
    "bool(\"False\")                    # A non-empty string counts as True"
   ]
  },
  {
   "cell_type": "code",
   "execution_count": null,
   "metadata": {
    "colab": {
     "base_uri": "https://localhost:8080/",
     "height": 162
    },
    "id": "Xb3oDNHE4CF3",
    "outputId": "14a49821-744a-4fd5-8960-5083d1fde781"
   },
   "outputs": [
    {
     "ename": "ValueError",
     "evalue": "ignored",
     "output_type": "error",
     "traceback": [
      "\u001b[0;31m---------------------------------------------------------------------------\u001b[0m",
      "\u001b[0;31mValueError\u001b[0m                                Traceback (most recent call last)",
      "\u001b[0;32m<ipython-input-66-35a09d6249bc>\u001b[0m in \u001b[0;36m<module>\u001b[0;34m()\u001b[0m\n\u001b[0;32m----> 1\u001b[0;31m \u001b[0mint\u001b[0m\u001b[0;34m(\u001b[0m\u001b[0;34m'I have $3.8 in my pocket'\u001b[0m\u001b[0;34m)\u001b[0m  \u001b[0;31m# nonsensical conversion\u001b[0m\u001b[0;34m\u001b[0m\u001b[0;34m\u001b[0m\u001b[0m\n\u001b[0m",
      "\u001b[0;31mValueError\u001b[0m: invalid literal for int() with base 10: 'I have $3.8 in my pocket'"
     ]
    }
   ],
   "source": [
    "int('I have $3.8 in my pocket')  # nonsensical conversion"
   ]
  },
  {
   "cell_type": "markdown",
   "metadata": {
    "id": "qtIERvN0VEYy"
   },
   "source": [
    "---\n",
    "\n",
    "<br/>\n",
    "\n",
    "\n",
    "# 7 Methods\n",
    "\n",
    "\n",
    "A method is an <font color=\"salmon\">***object-oriented***</font> programming term, and refers to a function that is attached to and act upon a specific object (thereby considered an attribute of the object).\n",
    "\n",
    "\n",
    "\n"
   ]
  },
  {
   "cell_type": "markdown",
   "metadata": {
    "id": "bz-AsfODz1OU"
   },
   "source": [
    "\n",
    "## 7.1 Method Invocation\n",
    "\n",
    "Like functions, methods are triggered with a call expression. \n",
    "\n",
    "A method call requires the <font color=\"royalblue\"><b>*attribute reference*</b></font> notation, i.e., a dot (`.`) between the invocation target and the method name:"
   ]
  },
  {
   "cell_type": "code",
   "execution_count": null,
   "metadata": {
    "id": "8bL385TVWXkS"
   },
   "outputs": [],
   "source": [
    "course = 'Python Programming'"
   ]
  },
  {
   "cell_type": "code",
   "execution_count": null,
   "metadata": {
    "colab": {
     "base_uri": "https://localhost:8080/",
     "height": 36
    },
    "id": "aGwvhbZcWPR9",
    "outputId": "c28efc0e-c2cc-4790-b3af-72bfa8fe8973"
   },
   "outputs": [
    {
     "data": {
      "application/vnd.google.colaboratory.intrinsic+json": {
       "type": "string"
      },
      "text/plain": [
       "'python programming'"
      ]
     },
     "execution_count": 25,
     "metadata": {},
     "output_type": "execute_result"
    }
   ],
   "source": [
    "course.lower()          "
   ]
  },
  {
   "cell_type": "code",
   "execution_count": null,
   "metadata": {
    "id": "D2gABWF7Wa27",
    "outputId": "421ed18d-26d8-47c4-e3cf-a14c73c47fb2"
   },
   "outputs": [
    {
     "data": {
      "text/plain": [
       "False"
      ]
     },
     "execution_count": 25,
     "metadata": {
      "tags": []
     },
     "output_type": "execute_result"
    }
   ],
   "source": [
    "(12.3).is_integer()      # E.g., 12.3 is not; try (12).is_integer()"
   ]
  },
  {
   "cell_type": "markdown",
   "metadata": {
    "id": "F5-PW7ZapFJj"
   },
   "source": [
    " Any name following a dot can be called an **attribute**.\n",
    " \n",
    " \n",
    " As a rule of thumb, Python's toolset is  <font color=\"salmon\">***layered***</font>:\n",
    "\n",
    "- Generic operations that span multiple types show up as built-in functions or expressions (e.g., `len(x)`,  `x[0]`);\n",
    "\n",
    "- Type-specific operations are implemented as method calls."
   ]
  },
  {
   "cell_type": "markdown",
   "metadata": {
    "id": "_A1EVluSYfRd"
   },
   "source": [
    "Again, typing a method's name without adding `()` echos the string representation of the method:"
   ]
  },
  {
   "cell_type": "code",
   "execution_count": null,
   "metadata": {
    "id": "FndDveaeYj33",
    "outputId": "2162f3de-5922-4744-efa8-677eb2aaa274"
   },
   "outputs": [
    {
     "data": {
      "text/plain": [
       "<function str.split(sep=None, maxsplit=-1)>"
      ]
     },
     "execution_count": 29,
     "metadata": {
      "tags": []
     },
     "output_type": "execute_result"
    }
   ],
   "source": [
    "course.split"
   ]
  },
  {
   "cell_type": "markdown",
   "metadata": {
    "id": "WBHyDQt9XoJD"
   },
   "source": [
    "\n",
    "---\n",
    "\n",
    "<br/>\n",
    "\n",
    "## 7.2 Getting Help on Methods\n",
    "\n",
    "We can use the built-in function `dir(object)` to retrieve a list of all the attributes (including methods, which are <font color=\"royalblue\"><b>*function attributes*</b></font>) available for any object passed to it:"
   ]
  },
  {
   "cell_type": "code",
   "execution_count": null,
   "metadata": {
    "colab": {
     "base_uri": "https://localhost:8080/"
    },
    "id": "g-Qrmd_zYE8N",
    "outputId": "38bab8ab-74ce-4519-af35-67e4a7bbf9f3"
   },
   "outputs": [
    {
     "name": "stdout",
     "output_type": "stream",
     "text": [
      "['__add__', '__class__', '__contains__', '__delattr__', '__dir__', '__doc__', '__eq__', '__format__', '__ge__', '__getattribute__', '__getitem__', '__getnewargs__', '__gt__', '__hash__', '__init__', '__init_subclass__', '__iter__', '__le__', '__len__', '__lt__', '__mod__', '__mul__', '__ne__', '__new__', '__reduce__', '__reduce_ex__', '__repr__', '__rmod__', '__rmul__', '__setattr__', '__sizeof__', '__str__', '__subclasshook__', 'capitalize', 'casefold', 'center', 'count', 'encode', 'endswith', 'expandtabs', 'find', 'format', 'format_map', 'index', 'isalnum', 'isalpha', 'isascii', 'isdecimal', 'isdigit', 'isidentifier', 'islower', 'isnumeric', 'isprintable', 'isspace', 'istitle', 'isupper', 'join', 'ljust', 'lower', 'lstrip', 'maketrans', 'partition', 'replace', 'rfind', 'rindex', 'rjust', 'rpartition', 'rsplit', 'rstrip', 'split', 'splitlines', 'startswith', 'strip', 'swapcase', 'title', 'translate', 'upper', 'zfill']\n"
     ]
    }
   ],
   "source": [
    "print(dir(course))"
   ]
  },
  {
   "cell_type": "markdown",
   "metadata": {
    "id": "Z6FSGhkpYQBh"
   },
   "source": [
    "To learn about each method, we can pass them to the `help()` function:"
   ]
  },
  {
   "cell_type": "code",
   "execution_count": null,
   "metadata": {
    "colab": {
     "base_uri": "https://localhost:8080/",
     "height": 202
    },
    "id": "-E5dE4XYYPVK",
    "outputId": "71aabbc5-44f3-451f-8417-41c646dca868"
   },
   "outputs": [
    {
     "name": "stdout",
     "output_type": "stream",
     "text": [
      "Help on built-in function split:\n",
      "\n",
      "split(...) method of builtins.str instance\n",
      "    S.split(sep=None, maxsplit=-1) -> list of strings\n",
      "    \n",
      "    Return a list of the words in S, using sep as the\n",
      "    delimiter string.  If maxsplit is given, at most maxsplit\n",
      "    splits are done. If sep is not specified or is None, any\n",
      "    whitespace string is a separator and empty strings are\n",
      "    removed from the result.\n",
      "\n"
     ]
    }
   ],
   "source": [
    "help(course.split)"
   ]
  },
  {
   "cell_type": "code",
   "execution_count": null,
   "metadata": {
    "colab": {
     "base_uri": "https://localhost:8080/"
    },
    "id": "76u3sCogxnVV",
    "outputId": "2d82aadb-3efd-40a2-ac76-d7e376c28e03"
   },
   "outputs": [
    {
     "name": "stdout",
     "output_type": "stream",
     "text": [
      "Help on built-in function join:\n",
      "\n",
      "join(iterable, /) method of builtins.str instance\n",
      "    Concatenate any number of strings.\n",
      "    \n",
      "    The string whose method is called is inserted in between each given string.\n",
      "    The result is returned as a new string.\n",
      "    \n",
      "    Example: '.'.join(['ab', 'pq', 'rs']) -> 'ab.pq.rs'\n",
      "\n"
     ]
    }
   ],
   "source": [
    "help(course.join)"
   ]
  },
  {
   "cell_type": "code",
   "execution_count": null,
   "metadata": {
    "colab": {
     "base_uri": "https://localhost:8080/",
     "height": 36
    },
    "id": "CfS8t3kbyJZt",
    "outputId": "69a17cca-1442-440e-b525-747dc09204fd"
   },
   "outputs": [
    {
     "data": {
      "application/vnd.google.colaboratory.intrinsic+json": {
       "type": "string"
      },
      "text/plain": [
       "'Python-Programming-for-Business-Analytics'"
      ]
     },
     "execution_count": 13,
     "metadata": {},
     "output_type": "execute_result"
    }
   ],
   "source": [
    "'-'.join(course.split())"
   ]
  },
  {
   "cell_type": "markdown",
   "metadata": {
    "id": "9xq3jrsO99g9"
   },
   "source": [
    "<br>\n",
    "\n",
    "---\n",
    "\n",
    "<br>\n",
    "\n",
    "# Appendix: Operator Precedence\n",
    "\n",
    "Python evaluates expressions from left to right. The following table summarizes the <font color=\"royalblue\"><b>*operator precedence*</b></font> for all the operators we have seen so far, from highest precedence to lowest precedence:\n",
    "\n",
    "\n",
    "\n",
    "|Operator|Meaning|\n",
    "|:-- |:-- |\n",
    "|`()`|Grouping|\n",
    "|`x[i], x[i:j:k], x(...), x.attr`|Indexing, slicing, call, attribute reference|\n",
    "|`**`|Exponentiation|\n",
    "|`+x, -x`|identity, negatition|\n",
    "|`*, /, //, %`|Multiplication (repetition), division, integer division, remainder (format)|\n",
    "|`+, -`|Addition (concatenation), substraction|\n",
    "|`<, <=, >, >=, ==, !=, in, not in, is, is not`|Comparisons, including membership tests and identity tests|\n",
    "|`not`|Logical negation|\n",
    "|`and`|Logical AND|\n",
    "|`or`|Logical OR|"
   ]
  }
 ],
 "metadata": {
  "colab": {
   "collapsed_sections": [],
   "provenance": []
  },
  "kernelspec": {
   "display_name": "Python 3 (ipykernel)",
   "language": "python",
   "name": "python3"
  },
  "language_info": {
   "codemirror_mode": {
    "name": "ipython",
    "version": 3
   },
   "file_extension": ".py",
   "mimetype": "text/x-python",
   "name": "python",
   "nbconvert_exporter": "python",
   "pygments_lexer": "ipython3",
   "version": "3.9.12"
  }
 },
 "nbformat": 4,
 "nbformat_minor": 1
}
