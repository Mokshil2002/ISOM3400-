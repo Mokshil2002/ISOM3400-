{
 "cells": [
  {
   "cell_type": "markdown",
   "metadata": {
    "id": "geOMOVqbWt5E"
   },
   "source": [
    "\n",
    "\n",
    "\n",
    "<img src=\"https://upload.wikimedia.org/wikipedia/commons/thumb/1/1c/MAERSK_MC_KINNEY_M%C3%96LLER_%26_MARSEILLE_MAERSK_%2848694054418%29.jpg/800px-MAERSK_MC_KINNEY_M%C3%96LLER_%26_MARSEILLE_MAERSK_%2848694054418%29.jpg\" width=600/>\n",
    "\n",
    "\n",
    "<br>\n",
    "\n",
    "Most of the data types we have encountered so far are **atomic types** (except strings).\n",
    "\n",
    "\n",
    "\n",
    "In many applications, data is related in some way, and should be organized in some structure that mirrors the semantics of data:\n",
    "\n",
    "\n"
   ]
  },
  {
   "cell_type": "markdown",
   "metadata": {
    "cell_style": "split",
    "id": "6T83x0VPhhFu"
   },
   "source": [
    "- A shopping cart of items\n",
    "\n",
    "- A gradebook for a class\n",
    "\n",
    "- A person's demographic characteristics\n",
    "\n",
    "- Members of an online community\n",
    "\n",
    "- Districts of Hong Kong\n",
    "\n",
    "- Pixels of an image\n",
    "\n",
    "……\n"
   ]
  },
  {
   "cell_type": "markdown",
   "metadata": {
    "cell_style": "split",
    "id": "NqZiuIKLhhFv"
   },
   "source": [
    "\n",
    "<img src=\"https://raw.githubusercontent.com/justinjiajia/img/master/python/sample-matrix.gif\" width=500/>\n",
    "\n"
   ]
  },
  {
   "cell_type": "markdown",
   "metadata": {
    "id": "_5wCvr4bhhFw"
   },
   "source": [
    "In programming, we use **data structures** to pack related data together.\n",
    "\n",
    "In simple terms, a data structure refers to a **container** that organizes a **collection** of data in a particular structure.\n",
    "\n",
    "In Python, the four common data structures are:\n",
    "\n",
    "- Lists and tuples (sequential containers)\n",
    "- Dictionaries (associative containers)\n",
    "- Sets (set containers)\n",
    "\n",
    "Like numbers, strings, and Booleans, they are built-in data types in Python. \n",
    "\n",
    "<br>\n",
    "\n",
    "\n",
    "> A large part of performant programming is understanding what questions we are trying to ask of our data and picking a data structure that can answer these questions quickly."
   ]
  },
  {
   "cell_type": "markdown",
   "metadata": {
    "id": "WB8fjyIFsmkJ"
   },
   "source": [
    "---\n",
    "\n",
    "<br/>\n",
    "\n",
    "# 1 Lists and Tuples\n",
    "\n",
    "Both lists and tuples are data structures containing a **sequence** (an **ordered collection**) of objects (of any type), and can be created with a construct known as a **list**/**tuple display** (or literal):"
   ]
  },
  {
   "cell_type": "code",
   "execution_count": null,
   "metadata": {
    "colab": {
     "base_uri": "https://localhost:8080/"
    },
    "executionInfo": {
     "elapsed": 867,
     "status": "ok",
     "timestamp": 1655279759633,
     "user": {
      "displayName": "JJ J",
      "userId": "02730144426697756961"
     },
     "user_tz": -480
    },
    "id": "vWIrm62usmkK",
    "outputId": "5eb2abb2-c658-48e1-9b25-3808c65a125e"
   },
   "outputs": [
    {
     "data": {
      "text/plain": [
       "['apple', 'orange', 'banana', 'mango']"
      ]
     },
     "execution_count": 39,
     "metadata": {},
     "output_type": "execute_result"
    }
   ],
   "source": [
    "fruits = ['apple', 'orange', 'banana', 'mango']\n",
    "fruits"
   ]
  },
  {
   "cell_type": "code",
   "execution_count": null,
   "metadata": {
    "cell_style": "center",
    "id": "x1VQ5fhahhFz",
    "outputId": "d289e281-841c-4e07-cefd-ca254c3d17c6"
   },
   "outputs": [
    {
     "data": {
      "text/plain": [
       "list"
      ]
     },
     "execution_count": 3,
     "metadata": {
      "tags": []
     },
     "output_type": "execute_result"
    }
   ],
   "source": [
    "type(fruits)"
   ]
  },
  {
   "cell_type": "code",
   "execution_count": null,
   "metadata": {
    "cell_style": "center",
    "id": "ehC3qi82smkR",
    "outputId": "e228b5c7-ea64-457f-cd7a-95232f7c8910"
   },
   "outputs": [
    {
     "data": {
      "text/plain": [
       "(1, 4, 9, 16, 25)"
      ]
     },
     "execution_count": 4,
     "metadata": {
      "tags": []
     },
     "output_type": "execute_result"
    }
   ],
   "source": [
    "squares = (1, 4, 9, 16, 25) # Paratheses can be dropped; squares = 1, 4, 9, 16, 25\n",
    "squares"
   ]
  },
  {
   "cell_type": "code",
   "execution_count": null,
   "metadata": {
    "id": "qN4-FpWGsmkZ",
    "outputId": "0aec99bf-2a74-4d28-b0ad-a25a23238824"
   },
   "outputs": [
    {
     "data": {
      "text/plain": [
       "tuple"
      ]
     },
     "execution_count": 5,
     "metadata": {
      "tags": []
     },
     "output_type": "execute_result"
    }
   ],
   "source": [
    "type(squares)"
   ]
  },
  {
   "cell_type": "markdown",
   "metadata": {
    "id": "3dtDT246smkd"
   },
   "source": [
    "The physical content of a list or a tuple consists of **object references** rather than actual objects:\n",
    "\n",
    "\n",
    "<img src=\"https://raw.githubusercontent.com/justinjiajia/img/master/python/list.png\" width=300 style=\"float: left; margin-bottom: 1.5em; margin-top: 1.5em; margin-right: 10%; \" /><img src=\"https://raw.githubusercontent.com/justinjiajia/img/master/python/tuple.png\" width=300 style=\"float: left; margin-top: 1.5em;\"/>"
   ]
  },
  {
   "cell_type": "markdown",
   "metadata": {
    "id": "QFrNiiiesmkf"
   },
   "source": [
    "The elements of a list or a tuple can be of varying types:"
   ]
  },
  {
   "cell_type": "code",
   "execution_count": null,
   "metadata": {
    "cell_style": "split",
    "id": "Hn1NS5YOsmkf"
   },
   "outputs": [],
   "source": [
    "mixed_list = ['Mike', 1.83, True]"
   ]
  },
  {
   "cell_type": "code",
   "execution_count": null,
   "metadata": {
    "cell_style": "split",
    "id": "29MXB2h-hhGA"
   },
   "outputs": [],
   "source": [
    "mixed_tuple = ('spam', 2, False) "
   ]
  },
  {
   "cell_type": "markdown",
   "metadata": {
    "id": "YTWf6R8psmkj"
   },
   "source": [
    "Both lists and tuples are ***nestable***:"
   ]
  },
  {
   "cell_type": "code",
   "execution_count": null,
   "metadata": {
    "cell_style": "split",
    "id": "Cpll5RPWWt5L",
    "outputId": "ccfab8e7-5b19-4069-d9a0-a90a2b4b7072"
   },
   "outputs": [
    {
     "data": {
      "text/plain": [
       "[['apple', 'orange', 'banana', 'mango'], [2.0, True]]"
      ]
     },
     "execution_count": 13,
     "metadata": {
      "tags": []
     },
     "output_type": "execute_result"
    }
   ],
   "source": [
    "nested_list = [fruits, [2.0,  True]]\n",
    "nested_list"
   ]
  },
  {
   "cell_type": "code",
   "execution_count": null,
   "metadata": {
    "cell_style": "split",
    "id": "TGK2YcWeWt5M",
    "outputId": "6e74d8bd-acb0-4333-a3a2-aac225fc8264"
   },
   "outputs": [
    {
     "data": {
      "text/plain": [
       "((1, 4, 9, 16, 25), ('spam', 5), True)"
      ]
     },
     "execution_count": 14,
     "metadata": {
      "tags": []
     },
     "output_type": "execute_result"
    }
   ],
   "source": [
    "nested_tuple = squares, ('spam', 5), True\n",
    "nested_tuple"
   ]
  },
  {
   "cell_type": "markdown",
   "metadata": {
    "id": "z0H3Uk7Ysmkq"
   },
   "source": [
    "\n",
    "\n",
    "<img src=\"https://raw.githubusercontent.com/justinjiajia/img/master/python/nested_list.png\" width=320 style=\"float: left; margin-bottom: 1.5em; margin-top: 1.5em; margin-right: 10%; \"/><img src=\"https://raw.githubusercontent.com/justinjiajia/img/master/python/nested_tuple.png\" width=355 style=\"float: left; margin-top: 1.5em;\"/>"
   ]
  },
  {
   "cell_type": "markdown",
   "metadata": {
    "id": "ze1Ovz_lsmk1"
   },
   "source": [
    "---\n",
    "\n",
    "<br>\n",
    "\n",
    "## 1.1 Indexing\n",
    "\n",
    "\n",
    "As a sequence maintains a left-to-right order among its elements, the elements can be indexed by **integers** (representing positions in the sequence) and individually accessed by using the indexing operator (`[]` that encloses an integer).\n",
    "\n",
    "Python supports both positive indexing and negative indexing.\n",
    "\n",
    "The set for positive indexing contains the integers $0, 1, \\dots,$ and $n-1$ (**0-based indexing**), while that for negative indexing contains the integers $-1, -2, \\dots,$ and $-n$.\n",
    "\n",
    "<img src=\"https://raw.githubusercontent.com/justinjiajia/img/master/python/list_indexing.png\" width=380/>\n",
    "\n"
   ]
  },
  {
   "cell_type": "code",
   "execution_count": null,
   "metadata": {
    "cell_style": "center",
    "colab": {
     "base_uri": "https://localhost:8080/"
    },
    "executionInfo": {
     "elapsed": 432,
     "status": "ok",
     "timestamp": 1655279770794,
     "user": {
      "displayName": "JJ J",
      "userId": "02730144426697756961"
     },
     "user_tz": -480
    },
    "id": "vcqYdEwtsmk2",
    "outputId": "bfbb5dd2-0bd2-4788-ff1a-fdb288d3bdd9"
   },
   "outputs": [
    {
     "data": {
      "text/plain": [
       "['apple', 'orange', 'banana', 'mango']"
      ]
     },
     "execution_count": 40,
     "metadata": {},
     "output_type": "execute_result"
    }
   ],
   "source": [
    "fruits"
   ]
  },
  {
   "cell_type": "code",
   "execution_count": null,
   "metadata": {
    "id": "57whCZP5Wt5N",
    "outputId": "3f977951-4589-4f61-c703-83054fbdbd6a"
   },
   "outputs": [
    {
     "data": {
      "text/plain": [
       "'banana'"
      ]
     },
     "execution_count": 9,
     "metadata": {
      "tags": []
     },
     "output_type": "execute_result"
    }
   ],
   "source": [
    "fruits[2]"
   ]
  },
  {
   "cell_type": "code",
   "execution_count": null,
   "metadata": {
    "colab": {
     "base_uri": "https://localhost:8080/",
     "height": 36
    },
    "executionInfo": {
     "elapsed": 11,
     "status": "ok",
     "timestamp": 1655279804548,
     "user": {
      "displayName": "JJ J",
      "userId": "02730144426697756961"
     },
     "user_tz": -480
    },
    "id": "Za2gVr3cXSPW",
    "outputId": "77b014da-afdc-447e-f987-49289b48d417"
   },
   "outputs": [
    {
     "data": {
      "application/vnd.google.colaboratory.intrinsic+json": {
       "type": "string"
      },
      "text/plain": [
       "'orange'"
      ]
     },
     "execution_count": 41,
     "metadata": {},
     "output_type": "execute_result"
    }
   ],
   "source": [
    "fruits[-3]"
   ]
  },
  {
   "cell_type": "code",
   "execution_count": null,
   "metadata": {
    "cell_style": "center",
    "id": "H79kQ1Hqsmk-",
    "outputId": "c9c7b984-1e68-4039-e593-c637910c1a95"
   },
   "outputs": [
    {
     "data": {
      "text/plain": [
       "(1, 4, 9, 16, 25)"
      ]
     },
     "execution_count": 10,
     "metadata": {
      "tags": []
     },
     "output_type": "execute_result"
    }
   ],
   "source": [
    "squares"
   ]
  },
  {
   "cell_type": "code",
   "execution_count": null,
   "metadata": {
    "cell_style": "split",
    "id": "Fs2b6g-TWt5O",
    "outputId": "421b9f48-9b15-4b58-98e9-bb5cfe63a9fa"
   },
   "outputs": [
    {
     "data": {
      "text/plain": [
       "16"
      ]
     },
     "execution_count": 15,
     "metadata": {
      "tags": []
     },
     "output_type": "execute_result"
    }
   ],
   "source": [
    "squares[3]"
   ]
  },
  {
   "cell_type": "code",
   "execution_count": null,
   "metadata": {
    "cell_style": "split",
    "id": "5YxTouUcWt5O",
    "outputId": "6fdd1d99-6a24-46e8-988d-c96986353dea"
   },
   "outputs": [
    {
     "data": {
      "text/plain": [
       "25"
      ]
     },
     "execution_count": 11,
     "metadata": {
      "tags": []
     },
     "output_type": "execute_result"
    }
   ],
   "source": [
    "squares[-1]"
   ]
  },
  {
   "cell_type": "markdown",
   "metadata": {
    "id": "csWHd3_vsmlS"
   },
   "source": [
    "Accessing items in a subsequence can be done by simply appending additional indicies:"
   ]
  },
  {
   "cell_type": "code",
   "execution_count": null,
   "metadata": {
    "id": "WraxiKVHsmlS",
    "outputId": "612d5743-5700-4588-a064-1c3de474f241"
   },
   "outputs": [
    {
     "data": {
      "text/plain": [
       "[['apple', 'orange', 'banana', 'mango'], [2.0, True]]"
      ]
     },
     "execution_count": 15,
     "metadata": {
      "tags": []
     },
     "output_type": "execute_result"
    }
   ],
   "source": [
    "nested_list"
   ]
  },
  {
   "cell_type": "code",
   "execution_count": null,
   "metadata": {
    "cell_style": "split",
    "id": "al9lEobGWt5P",
    "outputId": "b244bed7-05f4-4731-9140-e35613d0f108"
   },
   "outputs": [
    {
     "data": {
      "text/plain": [
       "['apple', 'orange', 'banana', 'mango']"
      ]
     },
     "execution_count": 5,
     "metadata": {
      "tags": []
     },
     "output_type": "execute_result"
    }
   ],
   "source": [
    "nested_list[-2]"
   ]
  },
  {
   "cell_type": "code",
   "execution_count": null,
   "metadata": {
    "cell_style": "split",
    "id": "uuT843uoWt5P",
    "outputId": "f3dc2975-0829-4c7c-9366-89c49139d5c6"
   },
   "outputs": [
    {
     "data": {
      "text/plain": [
       "'apple'"
      ]
     },
     "execution_count": 6,
     "metadata": {
      "tags": []
     },
     "output_type": "execute_result"
    }
   ],
   "source": [
    "nested_list[-2][0]"
   ]
  },
  {
   "cell_type": "code",
   "execution_count": null,
   "metadata": {
    "id": "8Smo4Fx0smlb",
    "outputId": "d7eae647-b6ec-48b4-be38-3ceabce4fb7f"
   },
   "outputs": [
    {
     "data": {
      "text/plain": [
       "((1, 4, 9, 16, 25), ('spam', 5), True)"
      ]
     },
     "execution_count": 16,
     "metadata": {
      "tags": []
     },
     "output_type": "execute_result"
    }
   ],
   "source": [
    "nested_tuple"
   ]
  },
  {
   "cell_type": "code",
   "execution_count": null,
   "metadata": {
    "cell_style": "split",
    "id": "S7HCbbqPWt5Q",
    "outputId": "9181bf4a-398d-453f-da7d-b14f8282f1af"
   },
   "outputs": [
    {
     "data": {
      "text/plain": [
       "'spam'"
      ]
     },
     "execution_count": 17,
     "metadata": {
      "tags": []
     },
     "output_type": "execute_result"
    }
   ],
   "source": [
    "nested_tuple[1][-2]"
   ]
  },
  {
   "cell_type": "code",
   "execution_count": null,
   "metadata": {
    "cell_style": "split",
    "id": "XB90fz1TWt5Q",
    "outputId": "6be92f50-87e1-4106-a078-e0c0c795c72b"
   },
   "outputs": [
    {
     "data": {
      "text/plain": [
       "'m'"
      ]
     },
     "execution_count": 17,
     "metadata": {
      "tags": []
     },
     "output_type": "execute_result"
    }
   ],
   "source": [
    "nested_tuple[1][-2][3]"
   ]
  },
  {
   "cell_type": "markdown",
   "metadata": {
    "id": "hcQueLKLZHjK"
   },
   "source": [
    "<div class=\"alert alert-info\"> A String in Python is also a sequence of values (the values are characters), thus supporting indexing and slicing (later).</div>"
   ]
  },
  {
   "cell_type": "markdown",
   "metadata": {
    "id": "aoY4Si2gsmlr"
   },
   "source": [
    "**<font color='steelblue' > Question</font>**: What will be the result of `fruits[-2][3]`?"
   ]
  },
  {
   "cell_type": "code",
   "execution_count": null,
   "metadata": {
    "id": "RxaOnTyyaD7E"
   },
   "outputs": [],
   "source": []
  },
  {
   "cell_type": "markdown",
   "metadata": {
    "id": "rZYCQRNfsmlx"
   },
   "source": [
    "---\n",
    "<br/>\n",
    "\n",
    "## 1.2 Slicing\n",
    "\n",
    "\n",
    "\n",
    "<img src=\"https://blog.tecladocode.com/content/images/size/w1000/2019/04/citric-citrus-color-997725.jpg\" width=400 />\n",
    "<Br>\n",
    "    \n",
    "\n",
    "Indexing is limited to accessing one element at a time. \n",
    "\n",
    "**Slicing**, on the other hand, can extract a **segment** of a sequence (called a **slice**).\n",
    "\n",
    "The slicing operator `[i:j]` returns the part of the list from the element indexed by `i` to the element indexed by `j`, ***including the first but excluding the last***:\n"
   ]
  },
  {
   "cell_type": "code",
   "execution_count": null,
   "metadata": {
    "id": "spsID6vvWt5S",
    "outputId": "4377b90f-27f2-4607-f1db-1b30f8a5b665"
   },
   "outputs": [
    {
     "data": {
      "text/plain": [
       "['apple', 'orange', 'banana', 'mango']"
      ]
     },
     "execution_count": 21,
     "metadata": {
      "tags": []
     },
     "output_type": "execute_result"
    }
   ],
   "source": [
    "fruits"
   ]
  },
  {
   "cell_type": "code",
   "execution_count": null,
   "metadata": {
    "cell_style": "split",
    "id": "YPn1zK2RhhGq",
    "outputId": "8a1c93fc-e5c0-4fc1-c408-9f1f2f239332"
   },
   "outputs": [
    {
     "data": {
      "text/plain": [
       "['orange']"
      ]
     },
     "execution_count": 26,
     "metadata": {
      "tags": []
     },
     "output_type": "execute_result"
    }
   ],
   "source": [
    "fruits[1:2]"
   ]
  },
  {
   "cell_type": "code",
   "execution_count": null,
   "metadata": {
    "id": "NE-rbMS7Wt5T",
    "outputId": "49b98a0f-0953-4919-d302-92db8387c5f7"
   },
   "outputs": [
    {
     "data": {
      "text/plain": [
       "(1, 4, 9, 16, 25)"
      ]
     },
     "execution_count": 24,
     "metadata": {
      "tags": []
     },
     "output_type": "execute_result"
    }
   ],
   "source": [
    "squares"
   ]
  },
  {
   "cell_type": "code",
   "execution_count": null,
   "metadata": {
    "cell_style": "split",
    "id": "nX8Fw3Q-sml6",
    "outputId": "81652824-5363-41aa-969d-9df970638d9e"
   },
   "outputs": [
    {
     "data": {
      "text/plain": [
       "(9,)"
      ]
     },
     "execution_count": 23,
     "metadata": {
      "tags": []
     },
     "output_type": "execute_result"
    }
   ],
   "source": [
    "# What returns is still a sequence\n",
    "squares[-3:-2]"
   ]
  },
  {
   "cell_type": "markdown",
   "metadata": {
    "id": "R6QhmUnlb2jL"
   },
   "source": [
    "In slicing, either or both of the two indexes can be dropped. If the 1st index is omitted, the slice starts at the beginning of the list; if the 2nd index is omitted, the slice goes to the end of the list:"
   ]
  },
  {
   "cell_type": "code",
   "execution_count": null,
   "metadata": {
    "cell_style": "split",
    "id": "B4E-L_eusml1",
    "outputId": "39c9f6ea-b6f9-4619-ee58-06486b3878f5",
    "scrolled": true
   },
   "outputs": [
    {
     "data": {
      "text/plain": [
       "['apple', 'orange']"
      ]
     },
     "execution_count": 22,
     "metadata": {
      "tags": []
     },
     "output_type": "execute_result"
    }
   ],
   "source": [
    "fruits[:2]      # The slice starts at the beginning"
   ]
  },
  {
   "cell_type": "code",
   "execution_count": null,
   "metadata": {
    "cell_style": "split",
    "id": "k9YODAiysml9"
   },
   "outputs": [],
   "source": [
    "squares[:]      # The slice starts at the beginning and goes to the end"
   ]
  },
  {
   "cell_type": "markdown",
   "metadata": {
    "id": "moEM01K1WHCE"
   },
   "source": [
    "---\n",
    "\n",
    "<br/>\n",
    "\n",
    "### Extended Slicing\n",
    "\n",
    "Sequences support extended slicing with a third step argument supplied in the operator `[]` as in `[i:j:k]`. \n",
    "\n",
    "- `[i:j:k]` first extracts the element indexed by $i$,  and counts either forward or backward (depending on the sign of $k$) with step size $|k|$ to find the second element. \n",
    "\n",
    "- This search repeats until it goes beyond the element indexed by $j-1$."
   ]
  },
  {
   "cell_type": "code",
   "execution_count": null,
   "metadata": {
    "colab": {
     "base_uri": "https://localhost:8080/"
    },
    "executionInfo": {
     "elapsed": 4,
     "status": "ok",
     "timestamp": 1655304991988,
     "user": {
      "displayName": "JJ J",
      "userId": "02730144426697756961"
     },
     "user_tz": -480
    },
    "id": "7vfAOiGH3VFR",
    "outputId": "c25a3d6f-602d-4c8d-cdbd-29cf25982437"
   },
   "outputs": [
    {
     "data": {
      "text/plain": [
       "['apple', 'banana']"
      ]
     },
     "execution_count": 2,
     "metadata": {},
     "output_type": "execute_result"
    }
   ],
   "source": [
    "fruits = ['apple', 'orange', 'banana', 'mango']\n",
    "fruits[::2]"
   ]
  },
  {
   "cell_type": "code",
   "execution_count": null,
   "metadata": {
    "colab": {
     "base_uri": "https://localhost:8080/"
    },
    "executionInfo": {
     "elapsed": 273,
     "status": "ok",
     "timestamp": 1655305117473,
     "user": {
      "displayName": "JJ J",
      "userId": "02730144426697756961"
     },
     "user_tz": -480
    },
    "id": "GDcbwosBW-Cr",
    "outputId": "00e64866-7e78-480d-9b0c-4de43fb262c2"
   },
   "outputs": [
    {
     "data": {
      "text/plain": [
       "(25, 16, 9, 4, 1)"
      ]
     },
     "execution_count": 10,
     "metadata": {},
     "output_type": "execute_result"
    }
   ],
   "source": [
    "squares = 1, 4, 9, 16, 25\n",
    "# Because the step size is negative, \n",
    "# the character referred to by the 1st argument should succeed that referred to by the 2nd \n",
    "squares[4::-1] "
   ]
  },
  {
   "cell_type": "markdown",
   "metadata": {
    "id": "TZhnqGj7smmB"
   },
   "source": [
    "---\n",
    "\n",
    "<br/>\n",
    "\n",
    "## 1.3 Working with Operators and Built-in functions\n",
    "\n",
    "Several Python operators and built-in functions can also be used with lists and tuples (in ways analogous to strings):\n",
    "\n",
    "- The `+` operator concatenates lists or tuples, while the `*` operator repeats a list or a tuple a given number of times:"
   ]
  },
  {
   "cell_type": "code",
   "execution_count": null,
   "metadata": {
    "cell_style": "split",
    "id": "hc8xrHnfsmmC",
    "outputId": "6a5e0aaf-0b99-44a5-aa50-17ea7663cbb8"
   },
   "outputs": [
    {
     "data": {
      "text/plain": [
       "['apple', 'orange', 'banana', 'mango', True]"
      ]
     },
     "execution_count": 27,
     "metadata": {
      "tags": []
     },
     "output_type": "execute_result"
    }
   ],
   "source": [
    "fruits + [True]"
   ]
  },
  {
   "cell_type": "code",
   "execution_count": null,
   "metadata": {
    "cell_style": "split",
    "id": "FFtynsAqsmmD",
    "outputId": "eb4b626e-2f86-4dbc-ac80-cf3e5de6397e"
   },
   "outputs": [
    {
     "data": {
      "text/plain": [
       "(1, 4, 9, 16, 25, 30, False)"
      ]
     },
     "execution_count": 28,
     "metadata": {
      "tags": []
     },
     "output_type": "execute_result"
    }
   ],
   "source": [
    "squares + (30, False)"
   ]
  },
  {
   "cell_type": "code",
   "execution_count": null,
   "metadata": {
    "cell_style": "split",
    "id": "32rTfa49smmF",
    "outputId": "466ed34b-967a-4c1a-afae-be6ef04db2ab"
   },
   "outputs": [
    {
     "data": {
      "text/plain": [
       "[1, 2, 3, 1, 2, 3, 1, 2, 3]"
      ]
     },
     "execution_count": 29,
     "metadata": {
      "tags": []
     },
     "output_type": "execute_result"
    }
   ],
   "source": [
    "[1, 2, 3] * 3"
   ]
  },
  {
   "cell_type": "code",
   "execution_count": null,
   "metadata": {
    "cell_style": "split",
    "id": "AHXuQLBzsmmH",
    "outputId": "8c2a2b75-488a-4366-febb-4a835eac2602"
   },
   "outputs": [
    {
     "data": {
      "text/plain": [
       "('spam', 2, True, 'spam', 2, True)"
      ]
     },
     "execution_count": 30,
     "metadata": {
      "tags": []
     },
     "output_type": "execute_result"
    }
   ],
   "source": [
    "('spam', 2, True) * 2"
   ]
  },
  {
   "cell_type": "markdown",
   "metadata": {
    "id": "yLZuU-PSsmmJ"
   },
   "source": [
    "- The operators `in` and `not in` do membership tests and return `True` or `False`:"
   ]
  },
  {
   "cell_type": "code",
   "execution_count": null,
   "metadata": {
    "id": "4Y2dfzBeWt5W",
    "outputId": "917cf762-6804-43d1-a0e7-f7f2ad0d7ec7"
   },
   "outputs": [
    {
     "data": {
      "text/plain": [
       "False"
      ]
     },
     "execution_count": 31,
     "metadata": {
      "tags": []
     },
     "output_type": "execute_result"
    }
   ],
   "source": [
    "'spa' not in 'spam'"
   ]
  },
  {
   "cell_type": "code",
   "execution_count": null,
   "metadata": {
    "cell_style": "split",
    "id": "BQePVG6EsmmL",
    "outputId": "0c078866-5a03-40a1-dad0-67f34d5bb994"
   },
   "outputs": [
    {
     "data": {
      "text/plain": [
       "False"
      ]
     },
     "execution_count": 32,
     "metadata": {
      "tags": []
     },
     "output_type": "execute_result"
    }
   ],
   "source": [
    "30 in fruits"
   ]
  },
  {
   "cell_type": "code",
   "execution_count": null,
   "metadata": {
    "cell_style": "split",
    "id": "btHhs599smmM",
    "outputId": "6341f203-8e9d-49a0-9b14-65447cdc719b"
   },
   "outputs": [
    {
     "data": {
      "text/plain": [
       "True"
      ]
     },
     "execution_count": 33,
     "metadata": {
      "tags": []
     },
     "output_type": "execute_result"
    }
   ],
   "source": [
    "'spa' not in ('spam', 2, True)"
   ]
  },
  {
   "cell_type": "markdown",
   "metadata": {
    "id": "3Qg617cLsmmO"
   },
   "source": [
    "- These two sequence types also support comparisons (using `<`, `>`, `==`, `>=`, `<=`, and `!=`). In particular,  lists and tuples are compared lexicographically using comparison of corresponding elements:"
   ]
  },
  {
   "cell_type": "code",
   "execution_count": null,
   "metadata": {
    "cell_style": "split",
    "id": "Y9OrMvtesmmP",
    "outputId": "e26f24e1-ef23-48d4-aa6f-8370eaed24a2"
   },
   "outputs": [
    {
     "data": {
      "text/plain": [
       "False"
      ]
     },
     "execution_count": 34,
     "metadata": {
      "tags": []
     },
     "output_type": "execute_result"
    }
   ],
   "source": [
    "['Mike', 1.83, True] <= ['Mike', 1.80, False]"
   ]
  },
  {
   "cell_type": "code",
   "execution_count": null,
   "metadata": {
    "cell_style": "split",
    "id": "2X1sJUDfsmmS",
    "outputId": "85c9b196-01e8-41d6-8df3-a968321b6361"
   },
   "outputs": [
    {
     "data": {
      "text/plain": [
       "True"
      ]
     },
     "execution_count": 35,
     "metadata": {
      "tags": []
     },
     "output_type": "execute_result"
    }
   ],
   "source": [
    "('spam', 2, False) <= ('spam', 2, True)"
   ]
  },
  {
   "cell_type": "code",
   "execution_count": null,
   "metadata": {
    "cell_style": "center",
    "id": "fYIDLf5FsmmV",
    "outputId": "7994f8e1-cb5f-43f9-92fd-2fd83b736954"
   },
   "outputs": [
    {
     "data": {
      "text/plain": [
       "False"
      ]
     },
     "execution_count": 32,
     "metadata": {
      "tags": []
     },
     "output_type": "execute_result"
    }
   ],
   "source": [
    "['Mike', 1.83, True] <= ['Mike', 1.80]"
   ]
  },
  {
   "cell_type": "code",
   "execution_count": null,
   "metadata": {
    "id": "Imh00eHcsmmY",
    "outputId": "e33fdbfb-d61c-4ad8-9b30-9c9c9f13ba47"
   },
   "outputs": [
    {
     "ename": "TypeError",
     "evalue": "'<=' not supported between instances of 'int' and 'str'",
     "output_type": "error",
     "traceback": [
      "\u001b[1;31m---------------------------------------------------------------------------\u001b[0m",
      "\u001b[1;31mTypeError\u001b[0m                                 Traceback (most recent call last)",
      "\u001b[1;32m<ipython-input-36-2b55e777019b>\u001b[0m in \u001b[0;36m<module>\u001b[1;34m\u001b[0m\n\u001b[1;32m----> 1\u001b[1;33m \u001b[1;33m(\u001b[0m\u001b[1;34m'spam'\u001b[0m\u001b[1;33m,\u001b[0m \u001b[1;36m2\u001b[0m\u001b[1;33m,\u001b[0m \u001b[1;32mFalse\u001b[0m\u001b[1;33m)\u001b[0m \u001b[1;33m<=\u001b[0m \u001b[1;33m(\u001b[0m\u001b[1;34m'spam'\u001b[0m\u001b[1;33m,\u001b[0m \u001b[1;34m'2'\u001b[0m\u001b[1;33m,\u001b[0m \u001b[1;32mTrue\u001b[0m\u001b[1;33m)\u001b[0m\u001b[1;33m\u001b[0m\u001b[1;33m\u001b[0m\u001b[0m\n\u001b[0m",
      "\u001b[1;31mTypeError\u001b[0m: '<=' not supported between instances of 'int' and 'str'"
     ]
    }
   ],
   "source": [
    "('spam', 2, False) <= ('spam', '2', True)"
   ]
  },
  {
   "cell_type": "markdown",
   "metadata": {
    "id": "ljaSPUeFsmmp"
   },
   "source": [
    "\n",
    "\n",
    "- [`len()`](https://docs.python.org/3/library/functions.html#len) returns the number of elements in a list or a tuple:"
   ]
  },
  {
   "cell_type": "code",
   "execution_count": null,
   "metadata": {
    "cell_style": "split",
    "id": "COjAprS7smmq",
    "outputId": "adc1b95f-0a81-4d3f-9fec-abfd11dd7ba9"
   },
   "outputs": [
    {
     "data": {
      "text/plain": [
       "4"
      ]
     },
     "execution_count": 37,
     "metadata": {
      "tags": []
     },
     "output_type": "execute_result"
    }
   ],
   "source": [
    "len(fruits)"
   ]
  },
  {
   "cell_type": "code",
   "execution_count": null,
   "metadata": {
    "cell_style": "split",
    "id": "rBXAHpsfsmmt",
    "outputId": "b7e8b6ec-f44c-4ca2-89d8-f8a55e57501b"
   },
   "outputs": [
    {
     "data": {
      "text/plain": [
       "5"
      ]
     },
     "execution_count": 38,
     "metadata": {
      "tags": []
     },
     "output_type": "execute_result"
    }
   ],
   "source": [
    "len(squares)"
   ]
  },
  {
   "cell_type": "code",
   "execution_count": null,
   "metadata": {
    "cell_style": "split",
    "id": "oHxGJ5HFRWEn",
    "outputId": "60dc370a-782d-46c4-84de-f4f9ea7d62da"
   },
   "outputs": [
    {
     "data": {
      "text/plain": [
       "[['apple', 'orange', 'banana', 'mango'], [2.0, True]]"
      ]
     },
     "execution_count": 41,
     "metadata": {
      "tags": []
     },
     "output_type": "execute_result"
    }
   ],
   "source": [
    "nested_list"
   ]
  },
  {
   "cell_type": "code",
   "execution_count": null,
   "metadata": {
    "cell_style": "split",
    "id": "H7zrNw9fRWEp",
    "outputId": "137b30a4-ae3f-41dd-ecb6-4aacca9f34f1"
   },
   "outputs": [
    {
     "data": {
      "text/plain": [
       "((1, 4, 9, 16, 25), ('spam', 5), True)"
      ]
     },
     "execution_count": 43,
     "metadata": {
      "tags": []
     },
     "output_type": "execute_result"
    }
   ],
   "source": [
    "nested_tuple"
   ]
  },
  {
   "cell_type": "code",
   "execution_count": null,
   "metadata": {
    "cell_style": "split",
    "id": "l4kuDQzqWt5a",
    "outputId": "c45e3560-c4e7-42f5-ef1b-cddc539d425d"
   },
   "outputs": [
    {
     "data": {
      "text/plain": [
       "2"
      ]
     },
     "execution_count": 39,
     "metadata": {
      "tags": []
     },
     "output_type": "execute_result"
    }
   ],
   "source": [
    "len(nested_list)"
   ]
  },
  {
   "cell_type": "code",
   "execution_count": null,
   "metadata": {
    "cell_style": "split",
    "id": "rrztaT6kWt5b",
    "outputId": "a2ad3f5b-17db-4dfb-95ca-feeddba643fe"
   },
   "outputs": [
    {
     "data": {
      "text/plain": [
       "3"
      ]
     },
     "execution_count": 40,
     "metadata": {
      "tags": []
     },
     "output_type": "execute_result"
    }
   ],
   "source": [
    "len(nested_tuple)"
   ]
  },
  {
   "cell_type": "markdown",
   "metadata": {
    "id": "_r8H9gbmsmmx"
   },
   "source": [
    "- [`max()`](https://docs.python.org/3/library/functions.html#max) ([`min()`](https://docs.python.org/3/library/functions.html#min)) returns the largest (smallest) element. Can work with elements of comparable types:"
   ]
  },
  {
   "cell_type": "code",
   "execution_count": null,
   "metadata": {
    "cell_style": "split",
    "id": "JKqf-UzZsmmy",
    "outputId": "dab7bd15-c8b5-46e3-b5a0-81c305fda78a"
   },
   "outputs": [
    {
     "data": {
      "text/plain": [
       "'orange'"
      ]
     },
     "execution_count": 41,
     "metadata": {
      "tags": []
     },
     "output_type": "execute_result"
    }
   ],
   "source": [
    "max(fruits)  # based on lexicographic order"
   ]
  },
  {
   "cell_type": "code",
   "execution_count": null,
   "metadata": {
    "cell_style": "split",
    "id": "T83bKfwAsmm0",
    "outputId": "f8ea3bd8-1b5a-4813-c4f4-6f19201a5faa"
   },
   "outputs": [
    {
     "data": {
      "text/plain": [
       "1"
      ]
     },
     "execution_count": 42,
     "metadata": {
      "tags": []
     },
     "output_type": "execute_result"
    }
   ],
   "source": [
    "min(squares)"
   ]
  },
  {
   "cell_type": "code",
   "execution_count": null,
   "metadata": {
    "id": "jmxohMk5Wt5d",
    "outputId": "af9b24bb-9c5d-4f62-de67-c5b2979eb2de"
   },
   "outputs": [
    {
     "ename": "TypeError",
     "evalue": "'>' not supported between instances of 'bool' and 'str'",
     "output_type": "error",
     "traceback": [
      "\u001b[1;31m---------------------------------------------------------------------------\u001b[0m",
      "\u001b[1;31mTypeError\u001b[0m                                 Traceback (most recent call last)",
      "\u001b[1;32m<ipython-input-43-009b5d963fb9>\u001b[0m in \u001b[0;36m<module>\u001b[1;34m\u001b[0m\n\u001b[1;32m----> 1\u001b[1;33m \u001b[0mmax\u001b[0m\u001b[1;33m(\u001b[0m\u001b[1;33m(\u001b[0m\u001b[1;34m'spam'\u001b[0m\u001b[1;33m,\u001b[0m \u001b[1;34m'2'\u001b[0m\u001b[1;33m,\u001b[0m \u001b[1;32mTrue\u001b[0m\u001b[1;33m)\u001b[0m\u001b[1;33m)\u001b[0m\u001b[1;33m\u001b[0m\u001b[1;33m\u001b[0m\u001b[0m\n\u001b[0m",
      "\u001b[1;31mTypeError\u001b[0m: '>' not supported between instances of 'bool' and 'str'"
     ]
    }
   ],
   "source": [
    "max(('spam', '2', True))"
   ]
  },
  {
   "cell_type": "markdown",
   "metadata": {
    "id": "1eKJ2S9Tsmm2"
   },
   "source": [
    "- [`sum()`](https://docs.python.org/3/library/functions.html#sum) returns the sum of all elements in a sequence. Can only work with numeric elements:"
   ]
  },
  {
   "cell_type": "code",
   "execution_count": null,
   "metadata": {
    "cell_style": "split",
    "id": "Ib2WG_0qsmm2",
    "outputId": "9df2ef8a-74d8-4a8d-b40a-e43a6afe498a"
   },
   "outputs": [
    {
     "data": {
      "text/plain": [
       "55"
      ]
     },
     "execution_count": 44,
     "metadata": {
      "tags": []
     },
     "output_type": "execute_result"
    }
   ],
   "source": [
    "sum(squares)"
   ]
  },
  {
   "cell_type": "code",
   "execution_count": null,
   "metadata": {
    "cell_style": "split",
    "id": "7TL7PE1esmm4",
    "outputId": "648393db-4e8f-43f4-b8bc-bae5ff30437d"
   },
   "outputs": [
    {
     "ename": "TypeError",
     "evalue": "unsupported operand type(s) for +: 'int' and 'str'",
     "output_type": "error",
     "traceback": [
      "\u001b[1;31m---------------------------------------------------------------------------\u001b[0m",
      "\u001b[1;31mTypeError\u001b[0m                                 Traceback (most recent call last)",
      "\u001b[1;32m<ipython-input-45-42ba78dc6ca7>\u001b[0m in \u001b[0;36m<module>\u001b[1;34m\u001b[0m\n\u001b[1;32m----> 1\u001b[1;33m \u001b[0msum\u001b[0m\u001b[1;33m(\u001b[0m\u001b[0mfruits\u001b[0m\u001b[1;33m)\u001b[0m\u001b[1;33m\u001b[0m\u001b[1;33m\u001b[0m\u001b[0m\n\u001b[0m",
      "\u001b[1;31mTypeError\u001b[0m: unsupported operand type(s) for +: 'int' and 'str'"
     ]
    }
   ],
   "source": [
    "sum(fruits)"
   ]
  },
  {
   "cell_type": "markdown",
   "metadata": {
    "id": "0OAW-rrpsmnA"
   },
   "source": [
    "\n",
    "---\n",
    "\n",
    "<br/>\n",
    "\n",
    "## 1.4 Common List and Tuple Methods\n",
    "\n",
    "- `s.index(x[, i[, j]])` returns index of the 1st occurrence of `x` in `s` (at or after index `i` and before index `j`):"
   ]
  },
  {
   "cell_type": "code",
   "execution_count": null,
   "metadata": {
    "cell_style": "split",
    "id": "Gp60RjjpsmnB"
   },
   "outputs": [],
   "source": [
    "repeated_list = ['Mike', 1.83, True] * 2\n",
    "repeated_list"
   ]
  },
  {
   "cell_type": "code",
   "execution_count": null,
   "metadata": {
    "cell_style": "split",
    "id": "KDAWbqFGsmnD"
   },
   "outputs": [],
   "source": [
    "repeated_tuple = ('spam', 2, True) * 3\n",
    "repeated_tuple"
   ]
  },
  {
   "cell_type": "code",
   "execution_count": null,
   "metadata": {
    "cell_style": "split",
    "id": "AMSdOJjdsmnC"
   },
   "outputs": [],
   "source": [
    "repeated_list.index(True, 3)"
   ]
  },
  {
   "cell_type": "code",
   "execution_count": null,
   "metadata": {
    "cell_style": "split",
    "id": "dHso_HLZsmnE"
   },
   "outputs": [],
   "source": [
    "repeated_tuple.index('spam', 1, 4)"
   ]
  },
  {
   "cell_type": "markdown",
   "metadata": {
    "id": "5x8cgt8lsmnH"
   },
   "source": [
    "- `s.count(x)` returns the total number of occurrences of `x` in `s`:"
   ]
  },
  {
   "cell_type": "code",
   "execution_count": null,
   "metadata": {
    "cell_style": "split",
    "id": "Mcz91bqtsmnH"
   },
   "outputs": [],
   "source": [
    "repeated_list.count(True)"
   ]
  },
  {
   "cell_type": "code",
   "execution_count": null,
   "metadata": {
    "cell_style": "split",
    "id": "ucU9eHnPlV2K"
   },
   "outputs": [],
   "source": [
    "repeated_tuple.count('spam')"
   ]
  },
  {
   "cell_type": "markdown",
   "metadata": {
    "id": "IENczqRvsmnM"
   },
   "source": [
    "- Use `dir()` to display all the names accessible to a list or a tuple:"
   ]
  },
  {
   "cell_type": "code",
   "execution_count": null,
   "metadata": {
    "cell_style": "split",
    "id": "ncU4VkdUsmnO"
   },
   "outputs": [],
   "source": [
    "dir(repeated_list)"
   ]
  },
  {
   "cell_type": "code",
   "execution_count": null,
   "metadata": {
    "cell_style": "split",
    "id": "gqBPp6GrsmnQ"
   },
   "outputs": [],
   "source": [
    "dir(repeated_tuple)"
   ]
  },
  {
   "cell_type": "markdown",
   "metadata": {
    "id": "0EL2_EU3smnS"
   },
   "source": [
    "---\n",
    "\n",
    "<br/>\n",
    "\n",
    "## 1.5 Lists are Mutable\n",
    "\n",
    "Once a list is created, elements can be added, deleted, shifted, and moved around at will. \n",
    "\n"
   ]
  },
  {
   "cell_type": "markdown",
   "metadata": {
    "id": "f6Znvo_0sBsi"
   },
   "source": [
    "\n",
    "### Item and Slice Assignments\n",
    "\n",
    "\n",
    "We can use indexing or slicing on the left side of an assignment to identify the elements to be modified:"
   ]
  },
  {
   "cell_type": "code",
   "execution_count": null,
   "metadata": {
    "id": "2RPSofPXsmnS",
    "outputId": "ae50167b-9486-4cf2-a111-76a01f37fd36"
   },
   "outputs": [
    {
     "data": {
      "text/plain": [
       "['apple', 'orange', 'banana', 'mango']"
      ]
     },
     "execution_count": 91,
     "metadata": {
      "tags": []
     },
     "output_type": "execute_result"
    }
   ],
   "source": [
    "fruits = ['apple', 'orange', 'banana', 'mango']\n",
    "fruits "
   ]
  },
  {
   "cell_type": "code",
   "execution_count": null,
   "metadata": {
    "id": "8RtdapZTsmnU",
    "outputId": "ad198130-c6a9-4362-ad66-93dece7e289c"
   },
   "outputs": [
    {
     "data": {
      "text/plain": [
       "['apple', 'melon', 'banana', 'mango']"
      ]
     },
     "execution_count": 58,
     "metadata": {
      "tags": []
     },
     "output_type": "execute_result"
    }
   ],
   "source": [
    "fruits[1] = 'melon'                      # item assignment\n",
    "fruits"
   ]
  },
  {
   "cell_type": "markdown",
   "metadata": {
    "id": "v7YAXktSsmnX"
   },
   "source": [
    "<img src=\"https://raw.githubusercontent.com/justinjiajia/img/master/python/list_v1.png\" width=280/>"
   ]
  },
  {
   "cell_type": "code",
   "execution_count": null,
   "metadata": {
    "id": "-QGdt4l7Wt5j",
    "outputId": "749e8705-80d1-44bf-ee27-b33000d697f3"
   },
   "outputs": [
    {
     "data": {
      "text/plain": [
       "['apple', 'orange', 'strawberry', 'mango']"
      ]
     },
     "execution_count": 59,
     "metadata": {
      "tags": []
     },
     "output_type": "execute_result"
    }
   ],
   "source": [
    "fruits[1:3] = ['orange', 'strawberry']   # slice assignment\n",
    "fruits"
   ]
  },
  {
   "cell_type": "markdown",
   "metadata": {
    "id": "oGIR00bcWt5j"
   },
   "source": [
    "The number of elements inserted need not be equal to the number replaced. Python just grows or shrinks the list as needed. "
   ]
  },
  {
   "cell_type": "code",
   "execution_count": null,
   "metadata": {
    "id": "5wQEC3DzWt5j",
    "outputId": "baafca3a-d721-46cb-9466-59be196adc9c"
   },
   "outputs": [
    {
     "data": {
      "text/plain": [
       "['apple', 'melon', 'banana', 'pear', 'strawberry', 'mango']"
      ]
     },
     "execution_count": 60,
     "metadata": {
      "tags": []
     },
     "output_type": "execute_result"
    }
   ],
   "source": [
    "fruits[1:2] = ['melon', 'banana', 'pear']    \n",
    "fruits"
   ]
  },
  {
   "cell_type": "markdown",
   "metadata": {
    "id": "_px2y6B5Wt5k"
   },
   "source": [
    " We can delete elements out of the list by assigning an empty list to an appropriate slice:"
   ]
  },
  {
   "cell_type": "code",
   "execution_count": null,
   "metadata": {
    "id": "suWfMm6YWt5k",
    "outputId": "697d2e5d-5572-45f6-fa8b-897fc2aa83f8"
   },
   "outputs": [
    {
     "data": {
      "text/plain": [
       "['pear', 'strawberry']"
      ]
     },
     "execution_count": 61,
     "metadata": {
      "tags": []
     },
     "output_type": "execute_result"
    }
   ],
   "source": [
    "fruits[3:5]"
   ]
  },
  {
   "cell_type": "code",
   "execution_count": null,
   "metadata": {
    "id": "Uze889qhWt5k",
    "outputId": "dbb8f66f-c182-4175-92e9-d7b4ff552a5d"
   },
   "outputs": [
    {
     "data": {
      "text/plain": [
       "['apple', 'peach', 'lemon', 'pear', 'strawberry', 'mango']"
      ]
     },
     "execution_count": 63,
     "metadata": {
      "tags": []
     },
     "output_type": "execute_result"
    }
   ],
   "source": [
    "fruits[3:5] = []\n",
    "fruits"
   ]
  },
  {
   "cell_type": "markdown",
   "metadata": {
    "id": "ReXqoLWzsmnX"
   },
   "source": [
    "\n",
    "\n",
    "Consider the following **slice assignment**:"
   ]
  },
  {
   "cell_type": "code",
   "execution_count": null,
   "metadata": {
    "id": "oYcXH7j0Wt5l",
    "outputId": "6192c1b8-f342-4ddd-815e-daefea1a83a8"
   },
   "outputs": [
    {
     "data": {
      "text/plain": [
       "[]"
      ]
     },
     "execution_count": 159,
     "metadata": {
      "tags": []
     },
     "output_type": "execute_result"
    }
   ],
   "source": [
    "fruits[1:1]      # extract a zero-length slice right before the 2nd element"
   ]
  },
  {
   "cell_type": "code",
   "execution_count": null,
   "metadata": {
    "id": "tDYFeE7nWt5l",
    "outputId": "d68603c7-cd84-4b0f-dbc9-0a2667370c0d"
   },
   "outputs": [
    {
     "data": {
      "text/plain": [
       "['apple', 'peach', 'lemon', 'melon', 'banana', 'pear', 'strawberry', 'mango']"
      ]
     },
     "execution_count": 62,
     "metadata": {
      "tags": []
     },
     "output_type": "execute_result"
    }
   ],
   "source": [
    "# replace this zero-length slice with a new sequence; no actual replacement takes place\n",
    "fruits[1:1] = ['peach', 'lemon']    \n",
    "fruits  "
   ]
  },
  {
   "cell_type": "markdown",
   "metadata": {
    "id": "15Art2svWt5l"
   },
   "source": [
    "<img src=\"https://raw.githubusercontent.com/justinjiajia/img/master/python/slice_assignment.png\" width=620/>\n",
    "\n"
   ]
  },
  {
   "cell_type": "markdown",
   "metadata": {
    "id": "Qc687JeHsmnv"
   },
   "source": [
    "List elements can also be deleted with [the `del` statement](https://docs.python.org/3/reference/simple_stmts.html#del):"
   ]
  },
  {
   "cell_type": "code",
   "execution_count": null,
   "metadata": {
    "id": "LNrXQbj5smnw"
   },
   "outputs": [],
   "source": [
    "del fruits[2:] "
   ]
  },
  {
   "cell_type": "code",
   "execution_count": null,
   "metadata": {
    "id": "8Xjzu9GDRWFt",
    "outputId": "62547b00-5b14-4517-8d6e-f468e494ddc0"
   },
   "outputs": [
    {
     "data": {
      "text/plain": [
       "['apple', 'peach']"
      ]
     },
     "execution_count": 65,
     "metadata": {
      "tags": []
     },
     "output_type": "execute_result"
    }
   ],
   "source": [
    "fruits"
   ]
  },
  {
   "cell_type": "code",
   "execution_count": null,
   "metadata": {
    "id": "vqy5r0npWt5m",
    "outputId": "a0c400e5-188b-4fe2-a7ca-512103dc5c70"
   },
   "outputs": [
    {
     "data": {
      "text/plain": [
       "['apple', ['cherry', 'plum']]"
      ]
     },
     "execution_count": 66,
     "metadata": {
      "tags": []
     },
     "output_type": "execute_result"
    }
   ],
   "source": [
    "# slot a sequence into a single position; it is kept as a subsquence in the result\n",
    "fruits[-1] = ['cherry', 'plum']   \n",
    "fruits"
   ]
  },
  {
   "cell_type": "markdown",
   "metadata": {
    "id": "dZX29V-J07JM"
   },
   "source": [
    "\n",
    "---\n",
    "\n",
    "<br/>\n",
    "\n",
    "### Methods That Modify a List\n",
    "\n",
    "- `append(object)` takes an element and adds it to the end of a list:\n",
    "\n",
    " "
   ]
  },
  {
   "cell_type": "code",
   "execution_count": null,
   "metadata": {
    "id": "uy-RHLUZsmoS",
    "outputId": "d74e968b-cf22-4be0-b866-8a328e9e899c"
   },
   "outputs": [
    {
     "data": {
      "text/plain": [
       "['melon', 'peach', 'plum']"
      ]
     },
     "execution_count": 20,
     "metadata": {
      "tags": []
     },
     "output_type": "execute_result"
    }
   ],
   "source": [
    "fruits.append('plum')\n",
    "fruits"
   ]
  },
  {
   "cell_type": "code",
   "execution_count": null,
   "metadata": {
    "id": "odLc1XYVsmoU",
    "outputId": "e1816e81-f4b1-4c82-e734-3f1445f1f3cb"
   },
   "outputs": [
    {
     "data": {
      "text/plain": [
       "['melon', 'peach', 'plum', ['litchi', 'banana']]"
      ]
     },
     "execution_count": 54,
     "metadata": {
      "tags": []
     },
     "output_type": "execute_result"
    }
   ],
   "source": [
    "fruits.append(['litchi', 'banana']); fruits"
   ]
  },
  {
   "cell_type": "markdown",
   "metadata": {
    "id": "fRzTKJzjsmoe"
   },
   "source": [
    "- [`sort(key=None, reverse=False)`](https://docs.python.org/3/library/stdtypes.html#list.sort) sorts the list in ascending order ***in place***:"
   ]
  },
  {
   "cell_type": "code",
   "execution_count": null,
   "metadata": {
    "id": "grBplHk-smoe"
   },
   "outputs": [],
   "source": [
    "fruits = ['apple', 'orange', 'banana', 'mango']\n",
    "fruits.sort()"
   ]
  },
  {
   "cell_type": "code",
   "execution_count": null,
   "metadata": {
    "id": "XXC4eDOysmog",
    "outputId": "d41a12b9-dbfb-43b3-c8dc-9a935c7dbda8"
   },
   "outputs": [
    {
     "data": {
      "text/plain": [
       "['apple', 'banana', 'mango', 'orange']"
      ]
     },
     "execution_count": 25,
     "metadata": {
      "tags": []
     },
     "output_type": "execute_result"
    }
   ],
   "source": [
    "fruits"
   ]
  },
  {
   "cell_type": "markdown",
   "metadata": {
    "id": "Dp8XqRW_smol"
   },
   "source": [
    "If `reverse` is set to `True`, the list elements are sorted as if each comparison were reversed:"
   ]
  },
  {
   "cell_type": "code",
   "execution_count": null,
   "metadata": {
    "id": "-8_MZ7lEsmom",
    "outputId": "720fcfc5-3661-4aa1-a232-878910cd45c8"
   },
   "outputs": [
    {
     "data": {
      "text/plain": [
       "['orange', 'mango', 'banana', 'apple']"
      ]
     },
     "execution_count": 26,
     "metadata": {
      "tags": []
     },
     "output_type": "execute_result"
    }
   ],
   "source": [
    "fruits.sort(reverse=True)\n",
    "fruits"
   ]
  },
  {
   "cell_type": "markdown",
   "metadata": {
    "id": "cxAGtfr-Wt59"
   },
   "source": [
    "If any comparison fails, the entire sort will fail:"
   ]
  },
  {
   "cell_type": "code",
   "execution_count": null,
   "metadata": {
    "id": "MiF8LGT2smoh",
    "outputId": "18bd3c60-ece3-42bf-fa11-bb555291084d",
    "scrolled": true
   },
   "outputs": [
    {
     "ename": "TypeError",
     "evalue": "'<' not supported between instances of 'int' and 'str'",
     "output_type": "error",
     "traceback": [
      "\u001b[1;31m---------------------------------------------------------------------------\u001b[0m",
      "\u001b[1;31mTypeError\u001b[0m                                 Traceback (most recent call last)",
      "\u001b[1;32m<ipython-input-27-93da8e74689a>\u001b[0m in \u001b[0;36m<module>\u001b[1;34m\u001b[0m\n\u001b[0;32m      1\u001b[0m \u001b[0memployee\u001b[0m \u001b[1;33m=\u001b[0m \u001b[1;33m[\u001b[0m\u001b[1;34m'Charles'\u001b[0m\u001b[1;33m,\u001b[0m \u001b[1;34m'Business Analyst'\u001b[0m\u001b[1;33m,\u001b[0m \u001b[1;36m9\u001b[0m\u001b[1;33m,\u001b[0m \u001b[1;32mTrue\u001b[0m\u001b[1;33m]\u001b[0m\u001b[1;33m\u001b[0m\u001b[1;33m\u001b[0m\u001b[0m\n\u001b[1;32m----> 2\u001b[1;33m \u001b[0memployee\u001b[0m\u001b[1;33m.\u001b[0m\u001b[0msort\u001b[0m\u001b[1;33m(\u001b[0m\u001b[1;33m)\u001b[0m\u001b[1;33m\u001b[0m\u001b[1;33m\u001b[0m\u001b[0m\n\u001b[0m",
      "\u001b[1;31mTypeError\u001b[0m: '<' not supported between instances of 'int' and 'str'"
     ]
    }
   ],
   "source": [
    "employee = ['Charles', 'Business Analyst', 9, True]\n",
    "employee.sort()"
   ]
  },
  {
   "cell_type": "markdown",
   "metadata": {
    "id": "6v_1z0uVsmon"
   },
   "source": [
    "We can change the rule for comparison by specifying the comparison `key`:"
   ]
  },
  {
   "cell_type": "code",
   "execution_count": null,
   "metadata": {
    "id": "OL2GlFA-smon",
    "outputId": "b135a77f-46cb-45f7-dc79-061ff7ce663d"
   },
   "outputs": [
    {
     "data": {
      "text/plain": [
       "[9, 'Business Analyst', 'Charles', True]"
      ]
     },
     "execution_count": 28,
     "metadata": {
      "tags": []
     },
     "output_type": "execute_result"
    }
   ],
   "source": [
    "employee.sort(key=str); employee"
   ]
  },
  {
   "cell_type": "markdown",
   "metadata": {
    "id": "g2n4fU68smop"
   },
   "source": [
    "`key` specifies the name of a ***1-argument*** function (e.g., `len`) to use to extract a comparison `key` from each element.\n",
    "\n"
   ]
  },
  {
   "cell_type": "code",
   "execution_count": null,
   "metadata": {
    "id": "khtn1Pw4Wt5-",
    "outputId": "1c901a3d-df8f-4aec-d3eb-56efe1214b9c"
   },
   "outputs": [
    {
     "data": {
      "text/plain": [
       "['c', 'ee', 'ddd', 'bbbb', 'aaaaa']"
      ]
     },
     "execution_count": 69,
     "metadata": {
      "tags": []
     },
     "output_type": "execute_result"
    }
   ],
   "source": [
    "repeated_letters = ['aaaaa', 'bbbb', 'c', 'ddd', 'ee']\n",
    "repeated_letters.sort(key=len)\n",
    "repeated_letters"
   ]
  },
  {
   "cell_type": "markdown",
   "metadata": {
    "id": "QjJGui-tWt6A"
   },
   "source": [
    "There is a built-in function, `sorted()`, that does the same thing but returns a new sorted list rather than modifying the original one in place:"
   ]
  },
  {
   "cell_type": "code",
   "execution_count": null,
   "metadata": {
    "id": "XCto7bMnsmop",
    "outputId": "f6cdb0f8-8163-4bb2-a7be-8603fec57850"
   },
   "outputs": [
    {
     "name": "stdout",
     "output_type": "stream",
     "text": [
      "Help on built-in function sorted in module builtins:\n",
      "\n",
      "sorted(iterable, /, *, key=None, reverse=False)\n",
      "    Return a new list containing all items from the iterable in ascending order.\n",
      "    \n",
      "    A custom key function can be supplied to customize the sort order, and the\n",
      "    reverse flag can be set to request the result in descending order.\n",
      "\n"
     ]
    }
   ],
   "source": [
    "help(sorted)"
   ]
  },
  {
   "cell_type": "code",
   "execution_count": null,
   "metadata": {
    "id": "pm1oU8lFsmox",
    "scrolled": true
   },
   "outputs": [],
   "source": [
    "sorted(fruits)"
   ]
  },
  {
   "cell_type": "code",
   "execution_count": null,
   "metadata": {
    "id": "U4hP1LzrWt6B"
   },
   "outputs": [],
   "source": [
    "fruits"
   ]
  },
  {
   "cell_type": "markdown",
   "metadata": {
    "id": "pTMyUNaPsmny"
   },
   "source": [
    "---\n",
    "\n",
    "<br/>\n",
    "\n",
    "###  Tuples and Strings are Immutable"
   ]
  },
  {
   "cell_type": "code",
   "execution_count": null,
   "metadata": {
    "id": "gABrejziWt5o"
   },
   "outputs": [],
   "source": [
    "'spam'[2] = 'u'"
   ]
  },
  {
   "cell_type": "code",
   "execution_count": null,
   "metadata": {
    "id": "NJOSNasCsmny",
    "scrolled": true
   },
   "outputs": [],
   "source": [
    "squares[2] = 3"
   ]
  },
  {
   "cell_type": "markdown",
   "metadata": {
    "id": "FBxHg68gWt5t"
   },
   "source": [
    "\n",
    "\n",
    "---\n",
    "\n",
    "<br/>\n",
    "\n",
    "## 1.6 Conversions\n",
    "\n",
    "We can convert between the different sequence types easily by using the type functions (e.g., `list()` and `tuple()`) to cast sequences to the desired types:"
   ]
  },
  {
   "cell_type": "code",
   "execution_count": null,
   "metadata": {
    "cell_style": "split",
    "id": "JG8OCZoJsmpJ",
    "outputId": "69e7a446-7f69-43b5-b1b1-7ea5cafbdcd7"
   },
   "outputs": [
    {
     "data": {
      "text/plain": [
       "[1, 4, 9, 16, 25]"
      ]
     },
     "execution_count": 103,
     "metadata": {
      "tags": []
     },
     "output_type": "execute_result"
    }
   ],
   "source": [
    "list((1, 4, 9, 16, 25))"
   ]
  },
  {
   "cell_type": "code",
   "execution_count": null,
   "metadata": {
    "cell_style": "split",
    "id": "vrngCHCQsmpK",
    "outputId": "1aecf8c3-cc40-44b0-9581-7a1b8c0f262e"
   },
   "outputs": [
    {
     "data": {
      "text/plain": [
       "['s', 't', 'r', 'i', 'n', 'g']"
      ]
     },
     "execution_count": 104,
     "metadata": {
      "tags": []
     },
     "output_type": "execute_result"
    }
   ],
   "source": [
    "list('string')"
   ]
  },
  {
   "cell_type": "code",
   "execution_count": null,
   "metadata": {
    "cell_style": "split",
    "id": "3MCjdaRSsmpL",
    "outputId": "86534cb2-6d7e-4fbb-87c2-4c3282c0e994"
   },
   "outputs": [
    {
     "data": {
      "text/plain": [
       "('apple', 'orange', 'banana', 'mango')"
      ]
     },
     "execution_count": 105,
     "metadata": {
      "tags": []
     },
     "output_type": "execute_result"
    }
   ],
   "source": [
    "tuple(['apple', 'orange', 'banana', 'mango'])"
   ]
  },
  {
   "cell_type": "code",
   "execution_count": null,
   "metadata": {
    "cell_style": "split",
    "id": "rzYFzfK1smpM",
    "outputId": "83e626c1-d990-4372-c636-ed65483d9ff3"
   },
   "outputs": [
    {
     "data": {
      "text/plain": [
       "('P', 'y', 't', 'h', 'o', 'n')"
      ]
     },
     "execution_count": 106,
     "metadata": {
      "tags": []
     },
     "output_type": "execute_result"
    }
   ],
   "source": [
    "tuple('Python')"
   ]
  },
  {
   "cell_type": "markdown",
   "metadata": {
    "id": "iW6GH28LsmpN"
   },
   "source": [
    "<div class='alert alert-info'>Type functions are actually constructors of objects of the corresponding types.</div>\n",
    "\n"
   ]
  },
  {
   "cell_type": "markdown",
   "metadata": {
    "id": "qpeu6kEVsmoy"
   },
   "source": [
    "---\n",
    "<br/>\n",
    "\n",
    "## 1.7 Unpacking Sequences\n",
    "\n",
    "Python has a very powerful assignment feature, called **sequence unpacking**, that allows a sequence of variables on the left of an assignment to be assigned values from a sequence on the right of the assignment:"
   ]
  },
  {
   "cell_type": "code",
   "execution_count": null,
   "metadata": {
    "id": "sKaykWy6smoy"
   },
   "outputs": [],
   "source": [
    "student = 'Bob', 19, 'Finance'\n",
    "name, age, studies = student  "
   ]
  },
  {
   "cell_type": "code",
   "execution_count": null,
   "metadata": {
    "cell_style": "split",
    "id": "f7I4-flusmoz",
    "outputId": "9683b27b-e6c2-47d0-9894-473c6e38135f"
   },
   "outputs": [
    {
     "data": {
      "text/plain": [
       "'Bob'"
      ]
     },
     "execution_count": 33,
     "metadata": {
      "tags": []
     },
     "output_type": "execute_result"
    }
   ],
   "source": [
    "name"
   ]
  },
  {
   "cell_type": "code",
   "execution_count": null,
   "metadata": {
    "cell_style": "split",
    "id": "Xz8vK7Mesmo0",
    "outputId": "cfe1b5f7-82c1-4e56-9a84-e0e792cd3101"
   },
   "outputs": [
    {
     "data": {
      "text/plain": [
       "'Finance'"
      ]
     },
     "execution_count": 34,
     "metadata": {
      "tags": []
     },
     "output_type": "execute_result"
    }
   ],
   "source": [
    "studies"
   ]
  },
  {
   "cell_type": "markdown",
   "metadata": {
    "id": "Iyi4djvYsmo6"
   },
   "source": [
    "\n",
    "This does the equivalent of several assignment statements, all on one easy line.\n",
    "\n",
    "Unpacking is also useful to swap the values of multiple variables:"
   ]
  },
  {
   "cell_type": "code",
   "execution_count": null,
   "metadata": {
    "id": "XVuXGENPWt6D",
    "outputId": "ef917de8-4f80-4516-c71e-a43b987646c9"
   },
   "outputs": [
    {
     "data": {
      "text/plain": [
       "(19, 'Finance', 'Bob')"
      ]
     },
     "execution_count": 36,
     "metadata": {
      "tags": []
     },
     "output_type": "execute_result"
    }
   ],
   "source": [
    "age, studies, name"
   ]
  },
  {
   "cell_type": "code",
   "execution_count": null,
   "metadata": {
    "id": "KcvYkvpJsmo6"
   },
   "outputs": [],
   "source": [
    "name, age, studies = age, studies, name"
   ]
  },
  {
   "cell_type": "code",
   "execution_count": null,
   "metadata": {
    "id": "kiATR6YM3EK3"
   },
   "outputs": [],
   "source": [
    "age, studies, name"
   ]
  },
  {
   "cell_type": "markdown",
   "metadata": {
    "id": "elLvgxrismo_"
   },
   "source": [
    "Unpacking can be done ***deeply***:"
   ]
  },
  {
   "cell_type": "code",
   "execution_count": null,
   "metadata": {
    "id": "idhsHMA-smpA"
   },
   "outputs": [],
   "source": [
    "(color, (coord_x, coord_y, coord_z)) = ['red', [1.2, 2.0, 3.9]]"
   ]
  },
  {
   "cell_type": "code",
   "execution_count": null,
   "metadata": {
    "id": "jOiDNps-smpC",
    "outputId": "e91a2947-6831-42f2-fe22-3911451a2eaa"
   },
   "outputs": [
    {
     "data": {
      "text/plain": [
       "('red', 2.0)"
      ]
     },
     "execution_count": 48,
     "metadata": {
      "tags": []
     },
     "output_type": "execute_result"
    }
   ],
   "source": [
    "color, coord_y"
   ]
  },
  {
   "cell_type": "code",
   "execution_count": null,
   "metadata": {
    "id": "Ex_-ZYf6Wt6F",
    "outputId": "488522f5-65cd-43a2-86d5-c372f4d21ff0"
   },
   "outputs": [
    {
     "data": {
      "text/plain": [
       "'red'"
      ]
     },
     "execution_count": 43,
     "metadata": {
      "tags": []
     },
     "output_type": "execute_result"
    }
   ],
   "source": [
    "color"
   ]
  },
  {
   "cell_type": "code",
   "execution_count": null,
   "metadata": {
    "id": "m9b5XjvNWt6F",
    "outputId": "33b1e33a-1386-44b4-c7cc-d84b3a138aab"
   },
   "outputs": [
    {
     "data": {
      "text/plain": [
       "1.2"
      ]
     },
     "execution_count": 44,
     "metadata": {
      "tags": []
     },
     "output_type": "execute_result"
    }
   ],
   "source": [
    "coord_x"
   ]
  },
  {
   "cell_type": "markdown",
   "metadata": {
    "id": "EA1NXFOZsmo2"
   },
   "source": [
    "\n",
    "\n",
    "When unpacking, the number of variables on the left must match the number of values in the sequence:"
   ]
  },
  {
   "cell_type": "code",
   "execution_count": null,
   "metadata": {
    "id": "ncDxsDXIsmo4",
    "outputId": "d3c17f08-3d41-44b7-a725-8f8f1e5a08c5"
   },
   "outputs": [
    {
     "ename": "ValueError",
     "evalue": "too many values to unpack (expected 2)",
     "output_type": "error",
     "traceback": [
      "\u001b[1;31m---------------------------------------------------------------------------\u001b[0m",
      "\u001b[1;31mValueError\u001b[0m                                Traceback (most recent call last)",
      "\u001b[1;32m<ipython-input-35-655ea365627f>\u001b[0m in \u001b[0;36m<module>\u001b[1;34m\u001b[0m\n\u001b[1;32m----> 1\u001b[1;33m \u001b[0mname\u001b[0m\u001b[1;33m,\u001b[0m \u001b[0mage\u001b[0m \u001b[1;33m=\u001b[0m \u001b[0mstudent\u001b[0m\u001b[1;33m\u001b[0m\u001b[1;33m\u001b[0m\u001b[0m\n\u001b[0m",
      "\u001b[1;31mValueError\u001b[0m: too many values to unpack (expected 2)"
     ]
    }
   ],
   "source": [
    "name, age = student"
   ]
  },
  {
   "cell_type": "markdown",
   "metadata": {
    "id": "VCBeppbGsmpD"
   },
   "source": [
    "\n",
    "---\n",
    "\n",
    "<br/>\n",
    "\n",
    "### The `*` Operator\n",
    "\n",
    "In Python, the `*` character is not only used for **multiplication** and **replication**, but also for unpacking/packing.\n",
    "\n",
    "- When used before a name on the left of an assignment, it creates a variable that gathers up any superfluous elements during sequence unpacking:"
   ]
  },
  {
   "cell_type": "code",
   "execution_count": null,
   "metadata": {
    "id": "IlhRHnposmpD"
   },
   "outputs": [],
   "source": [
    "numbers = (1, 2, 3, 4, 5)\n",
    "first, *rest = numbers"
   ]
  },
  {
   "cell_type": "code",
   "execution_count": null,
   "metadata": {
    "id": "nqhd3R5qRWG_",
    "outputId": "d706c026-0c7f-406e-e44f-d915b9ce6d60"
   },
   "outputs": [
    {
     "data": {
      "text/plain": [
       "1"
      ]
     },
     "execution_count": 50,
     "metadata": {
      "tags": []
     },
     "output_type": "execute_result"
    }
   ],
   "source": [
    "first"
   ]
  },
  {
   "cell_type": "code",
   "execution_count": null,
   "metadata": {
    "id": "vkuiL8fDRWHC",
    "outputId": "041d3cb1-66d9-4c7a-defd-a1c2a8d8a95f"
   },
   "outputs": [
    {
     "data": {
      "text/plain": [
       "[2, 3, 4, 5]"
      ]
     },
     "execution_count": 195,
     "metadata": {
      "tags": []
     },
     "output_type": "execute_result"
    }
   ],
   "source": [
    "rest"
   ]
  },
  {
   "cell_type": "code",
   "execution_count": null,
   "metadata": {
    "colab": {
     "base_uri": "https://localhost:8080/"
    },
    "executionInfo": {
     "elapsed": 450,
     "status": "ok",
     "timestamp": 1655293953809,
     "user": {
      "displayName": "JJ J",
      "userId": "02730144426697756961"
     },
     "user_tz": -480
    },
    "id": "MKK6z4uGWt6H",
    "outputId": "d87b46a4-c168-4176-b93b-7b84951f1797"
   },
   "outputs": [
    {
     "data": {
      "text/plain": [
       "[2, 3, 4]"
      ]
     },
     "execution_count": 54,
     "metadata": {},
     "output_type": "execute_result"
    }
   ],
   "source": [
    "first, *middle, last = numbers\n",
    "middle"
   ]
  },
  {
   "cell_type": "code",
   "execution_count": null,
   "metadata": {
    "colab": {
     "base_uri": "https://localhost:8080/"
    },
    "executionInfo": {
     "elapsed": 411,
     "status": "ok",
     "timestamp": 1655294014619,
     "user": {
      "displayName": "JJ J",
      "userId": "02730144426697756961"
     },
     "user_tz": -480
    },
    "id": "DIFslb7ZsmpE",
    "outputId": "9e53ed26-6ca6-4762-b69e-005cdef199e3"
   },
   "outputs": [
    {
     "data": {
      "text/plain": [
       "('a', ['b'], 'c')"
      ]
     },
     "execution_count": 57,
     "metadata": {},
     "output_type": "execute_result"
    }
   ],
   "source": [
    "head, *body, tail = 'abc' \n",
    "head, body, tail"
   ]
  },
  {
   "cell_type": "markdown",
   "metadata": {
    "id": "ksMYBWCHsmpG"
   },
   "source": [
    "The starred variable always ends up ***containing a list***.\n",
    "\n",
    "\n",
    "**<font color='steelblue' >Question</font>**: What does `first` hold after evaluating the following:\n",
    "\n",
    "```python\n",
    "((first, *remaining), *others) = fruits\n",
    "```"
   ]
  },
  {
   "cell_type": "code",
   "execution_count": null,
   "metadata": {
    "id": "8HA9Q1OQYyZx"
   },
   "outputs": [],
   "source": []
  },
  {
   "cell_type": "markdown",
   "metadata": {
    "id": "fV2RsdkNMgoy"
   },
   "source": [
    "- When used before a sequence inside a list or tuple display, `*` unpacks its individual values:\n",
    "\n",
    "\n"
   ]
  },
  {
   "cell_type": "code",
   "execution_count": null,
   "metadata": {
    "colab": {
     "base_uri": "https://localhost:8080/"
    },
    "executionInfo": {
     "elapsed": 967,
     "status": "ok",
     "timestamp": 1655295154102,
     "user": {
      "displayName": "JJ J",
      "userId": "02730144426697756961"
     },
     "user_tz": -480
    },
    "id": "km2mWBQVR3rS",
    "outputId": "9cc16d65-911b-4aba-e7cb-83adc422a761"
   },
   "outputs": [
    {
     "data": {
      "text/plain": [
       "([2, 3, 4, 5], 1)"
      ]
     },
     "execution_count": 71,
     "metadata": {},
     "output_type": "execute_result"
    }
   ],
   "source": [
    "rest, first"
   ]
  },
  {
   "cell_type": "code",
   "execution_count": null,
   "metadata": {
    "colab": {
     "base_uri": "https://localhost:8080/"
    },
    "executionInfo": {
     "elapsed": 443,
     "status": "ok",
     "timestamp": 1655295128619,
     "user": {
      "displayName": "JJ J",
      "userId": "02730144426697756961"
     },
     "user_tz": -480
    },
    "id": "CQq3XN2wRiCI",
    "outputId": "460428b8-6dff-423c-e548-7f9fc05c8886"
   },
   "outputs": [
    {
     "data": {
      "text/plain": [
       "(2, 3, 4, 5, 1)"
      ]
     },
     "execution_count": 70,
     "metadata": {},
     "output_type": "execute_result"
    }
   ],
   "source": [
    "*rest, first"
   ]
  },
  {
   "cell_type": "code",
   "execution_count": null,
   "metadata": {
    "colab": {
     "base_uri": "https://localhost:8080/"
    },
    "executionInfo": {
     "elapsed": 409,
     "status": "ok",
     "timestamp": 1655294838316,
     "user": {
      "displayName": "JJ J",
      "userId": "02730144426697756961"
     },
     "user_tz": -480
    },
    "id": "eiE2UYihNxyt",
    "outputId": "aae7aed3-f024-4fd4-c526-82e561a57024"
   },
   "outputs": [
    {
     "data": {
      "text/plain": [
       "[[2, 3, 4], ['b'], 'def']"
      ]
     },
     "execution_count": 67,
     "metadata": {},
     "output_type": "execute_result"
    }
   ],
   "source": [
    "[middle, body, 'def']"
   ]
  },
  {
   "cell_type": "code",
   "execution_count": null,
   "metadata": {
    "colab": {
     "base_uri": "https://localhost:8080/"
    },
    "executionInfo": {
     "elapsed": 474,
     "status": "ok",
     "timestamp": 1655294835071,
     "user": {
      "displayName": "JJ J",
      "userId": "02730144426697756961"
     },
     "user_tz": -480
    },
    "id": "7fk2UMuqNQ_a",
    "outputId": "ab4b55c9-cfa1-48cd-dc2f-ab8a09e82e4a"
   },
   "outputs": [
    {
     "data": {
      "text/plain": [
       "[2, 3, 4, 'b', 'd', 'e', 'f']"
      ]
     },
     "execution_count": 66,
     "metadata": {},
     "output_type": "execute_result"
    }
   ],
   "source": [
    "# Merge elements from different types of sequences\n",
    "# cannot be done with the + operator\n",
    "[*numbers, *body, *'abc']"
   ]
  },
  {
   "cell_type": "markdown",
   "metadata": {
    "id": "F19zAUc6lV4L"
   },
   "source": [
    "\n",
    "---\n",
    "\n",
    "<br/>\n",
    "\n",
    "## 1.8 List Comprehensions\n",
    "\n",
    "As **expressions** that implement iteration protocol in Python, **comprehensions** allow a collection to be built from another collection by\n",
    "\n",
    "- iterating over the items in the source collection in turn;\n",
    "- in each iteration, dispensing one item from the source collection and running the item (that passes the test specified by the predicate) through the output expression;\n",
    "- and collecting all the results to form the new collection. \n",
    "\n",
    " "
   ]
  },
  {
   "cell_type": "code",
   "execution_count": null,
   "metadata": {
    "id": "reypB2y0lV4M"
   },
   "outputs": [],
   "source": [
    "a_list = [1, '4', 9, 'a', 4]"
   ]
  },
  {
   "cell_type": "code",
   "execution_count": null,
   "metadata": {
    "id": "aKB-hn9LWt6L",
    "outputId": "3e135fe1-4200-405d-ef19-ebd58fcc1c5f"
   },
   "outputs": [
    {
     "data": {
      "text/plain": [
       "True"
      ]
     },
     "execution_count": 197,
     "metadata": {
      "tags": []
     },
     "output_type": "execute_result"
    }
   ],
   "source": [
    "isinstance(1, int)"
   ]
  },
  {
   "cell_type": "code",
   "execution_count": null,
   "metadata": {
    "id": "BR9yhdSbRWHd",
    "outputId": "1221aee2-60d5-47ad-df19-affd22cfe431"
   },
   "outputs": [
    {
     "data": {
      "text/plain": [
       "[1, 81, 16]"
      ]
     },
     "execution_count": 62,
     "metadata": {
      "tags": []
     },
     "output_type": "execute_result"
    }
   ],
   "source": [
    "[e ** 2 for e in a_list if isinstance(e, int)]"
   ]
  },
  {
   "cell_type": "markdown",
   "metadata": {
    "id": "Oqv-axMaRWHe"
   },
   "source": [
    "<img src=\"https://raw.githubusercontent.com/justinjiajia/img/master/python/comprehension.png\" width=500/> "
   ]
  },
  {
   "cell_type": "code",
   "execution_count": null,
   "metadata": {
    "cell_style": "center",
    "id": "ayE9FQjNRWHe",
    "outputId": "9d1aed38-4881-4e2f-bd2b-2f7937fbd487"
   },
   "outputs": [
    {
     "data": {
      "text/plain": [
       "[2, '44', 18, 'aa', 8]"
      ]
     },
     "execution_count": 63,
     "metadata": {
      "tags": []
     },
     "output_type": "execute_result"
    }
   ],
   "source": [
    "[e * 2 for e in a_list]"
   ]
  },
  {
   "cell_type": "markdown",
   "metadata": {
    "id": "hVVD5_IshhJj"
   },
   "source": [
    "<div class='alert alert-info'> Objects that are capable of returining its members one at a time (or over which we can iterate) is called iterables.</div>\n",
    "\n",
    "\n",
    "The input iterable can have nesting structures:"
   ]
  },
  {
   "cell_type": "code",
   "execution_count": null,
   "metadata": {
    "id": "fx4EQkZ3_8dW"
   },
   "outputs": [],
   "source": [
    "gradebook = [['Alice', 95], ['Troy', 92], ['James', 89], ['Charles', 100], ['Bryn', 59]]\n",
    "score_only = [pair[1] for pair in gradebook]\n",
    "score_only"
   ]
  },
  {
   "cell_type": "markdown",
   "metadata": {
    "id": "8WCmC0LzlV4P"
   },
   "source": [
    "\n",
    "\n",
    "\n",
    "The assignment of each item  to the **loop variable** can leverage sequence unpacking to make the handling of nested data easier:\n",
    "\n",
    "\n",
    "\n",
    "\n"
   ]
  },
  {
   "cell_type": "code",
   "execution_count": null,
   "metadata": {
    "id": "fpikH322Y46U"
   },
   "outputs": [],
   "source": [
    "gradebook = [['Alice', 95], ['Troy', 92], ['James', 89], ['Charles', 100], ['Bryn', 59]]\n",
    "name_only = [name for name, score in gradebook]\n",
    "name_only"
   ]
  },
  {
   "cell_type": "code",
   "execution_count": null,
   "metadata": {
    "id": "ERs8VdXUlV4Q",
    "scrolled": true
   },
   "outputs": [],
   "source": [
    "# Calculate the average score\n",
    "sum([score for name, score in gradebook])/len(gradebook)"
   ]
  },
  {
   "cell_type": "code",
   "execution_count": null,
   "metadata": {
    "id": "-FKTmVUQlV4T"
   },
   "outputs": [],
   "source": [
    "# Find how many students earned scores above 80\n",
    "len([score for name, score in gradebook if score > 80])"
   ]
  },
  {
   "cell_type": "markdown",
   "metadata": {
    "id": "wyBuwQWnlV4U"
   },
   "source": [
    "Comprehensions also work with other collections (e.g., **dictionaries**, **sets**, etc.) as we will see."
   ]
  },
  {
   "cell_type": "markdown",
   "metadata": {
    "id": "AUrquhp4RbP_"
   },
   "source": [
    "\n",
    "---\n",
    "\n",
    "<br/>\n",
    "\n",
    "## 1.9 Generator Expressions\n",
    "\n",
    "\n",
    "\n"
   ]
  },
  {
   "cell_type": "code",
   "execution_count": 9,
   "metadata": {
    "colab": {
     "base_uri": "https://localhost:8080/"
    },
    "executionInfo": {
     "elapsed": 298,
     "status": "ok",
     "timestamp": 1656242336818,
     "user": {
      "displayName": "JJ J",
      "userId": "02730144426697756961"
     },
     "user_tz": -480
    },
    "id": "0TeQPnVfRlYw",
    "outputId": "c9e4c5c7-95f8-4b30-e38b-cf598d9dc03a"
   },
   "outputs": [
    {
     "name": "stdout",
     "output_type": "stream",
     "text": [
      "900120 bytes\n"
     ]
    }
   ],
   "source": [
    "import sys\n",
    "a_large_range = list(range(100000))\n",
    "print(sys.getsizeof(a_large_range), \"bytes\")"
   ]
  },
  {
   "cell_type": "code",
   "execution_count": 11,
   "metadata": {
    "colab": {
     "base_uri": "https://localhost:8080/"
    },
    "executionInfo": {
     "elapsed": 3,
     "status": "ok",
     "timestamp": 1656242446908,
     "user": {
      "displayName": "JJ J",
      "userId": "02730144426697756961"
     },
     "user_tz": -480
    },
    "id": "oR55oGmruhei",
    "outputId": "a6c602bb-fc59-4ac9-8ddc-c6d363b12e03"
   },
   "outputs": [
    {
     "name": "stdout",
     "output_type": "stream",
     "text": [
      "732824 bytes\n"
     ]
    }
   ],
   "source": [
    "result_list = [i for i in a_large_range if i % 10 != 0]\n",
    "print(sys.getsizeof(result_list), \"bytes\")"
   ]
  },
  {
   "cell_type": "code",
   "execution_count": 13,
   "metadata": {
    "colab": {
     "base_uri": "https://localhost:8080/"
    },
    "executionInfo": {
     "elapsed": 281,
     "status": "ok",
     "timestamp": 1656242510086,
     "user": {
      "displayName": "JJ J",
      "userId": "02730144426697756961"
     },
     "user_tz": -480
    },
    "id": "u_iD6lNHvqhr",
    "outputId": "38e7b175-cfac-4529-980e-2982d72d2c3b"
   },
   "outputs": [
    {
     "data": {
      "text/plain": [
       "<generator object <genexpr> at 0x7f6e14ffcf50>"
      ]
     },
     "execution_count": 13,
     "metadata": {},
     "output_type": "execute_result"
    }
   ],
   "source": [
    "result_gen = (i for i in a_large_range if i % 10 != 0)\n",
    "result_gen"
   ]
  },
  {
   "cell_type": "markdown",
   "metadata": {
    "id": "InIDduvhshU-"
   },
   "source": [
    "Generator expressions is memory efficient, since they avoid the creation of a list entirely:"
   ]
  },
  {
   "cell_type": "code",
   "execution_count": 14,
   "metadata": {
    "colab": {
     "base_uri": "https://localhost:8080/"
    },
    "executionInfo": {
     "elapsed": 4,
     "status": "ok",
     "timestamp": 1656242521765,
     "user": {
      "displayName": "JJ J",
      "userId": "02730144426697756961"
     },
     "user_tz": -480
    },
    "id": "lv_vD9yDsIdr",
    "outputId": "6248f6ab-bd1e-4635-b699-12535207abf6"
   },
   "outputs": [
    {
     "name": "stdout",
     "output_type": "stream",
     "text": [
      "128 bytes\n"
     ]
    }
   ],
   "source": [
    "result_gen = (i for i in a_large_range if i % 10 != 0)\n",
    "print(sys.getsizeof(result_gen), \"bytes\")"
   ]
  },
  {
   "cell_type": "code",
   "execution_count": 20,
   "metadata": {
    "colab": {
     "base_uri": "https://localhost:8080/"
    },
    "executionInfo": {
     "elapsed": 288,
     "status": "ok",
     "timestamp": 1656242702888,
     "user": {
      "displayName": "JJ J",
      "userId": "02730144426697756961"
     },
     "user_tz": -480
    },
    "id": "iapeVIRfsx4j",
    "outputId": "d639cc88-d238-4382-b1a9-25f91cf2927e"
   },
   "outputs": [
    {
     "name": "stdout",
     "output_type": "stream",
     "text": [
      "64 bytes\n"
     ]
    }
   ],
   "source": [
    "result_iter = iter(result_list)\n",
    "print(sys.getsizeof(result_iter), \"bytes\")"
   ]
  },
  {
   "cell_type": "markdown",
   "metadata": {
    "id": "YgHyLb35smpR"
   },
   "source": [
    "---\n",
    "\n",
    "<br/>\n",
    "\n",
    "# 2 Dictionaries\n",
    "\n",
    "\n",
    "| Name |  Income | Years | Criminal | \n",
    "|-----|-----|-----|-----| \n",
    "| Amy | 27 |4.2 |  No |  \n",
    "| Sam | 32 |1.5 |  No | \n",
    "|         ...         | \n",
    "\n"
   ]
  },
  {
   "cell_type": "code",
   "execution_count": null,
   "metadata": {
    "id": "ZnAPkqMlWt6R"
   },
   "outputs": [],
   "source": [
    "customer_1 = ['Amy', 27, 4.2, 'No']\n",
    "customer_2 = ['Sam', 32, 1.5, 'No']"
   ]
  },
  {
   "cell_type": "markdown",
   "metadata": {
    "id": "qgp3SIJZWt6R"
   },
   "source": [
    "But why not attach labels to individual items to reflect the meaning of our data:"
   ]
  },
  {
   "cell_type": "code",
   "execution_count": null,
   "metadata": {
    "id": "F1fjEmxGWt6R"
   },
   "outputs": [],
   "source": [
    "customer_1 = {'name': 'Amy', 'income': 27, 'years': 4.2, 'criminal': 'No'}\n",
    "customer_2 = {'name': 'Sam', 'income': 32, 'years': 1.5, 'criminal': 'No'}"
   ]
  },
  {
   "cell_type": "markdown",
   "metadata": {
    "id": "Zltbs4GSWt6R"
   },
   "source": [
    "It leads to a new data structure supported by Python, called **dictionaries**.\n",
    "\n",
    "A dictionary is a container that maps a set of labels called **keys** to a set of values. Dictionaries are ***not a sequence type***.\n",
    "\n",
    "The association of a key and a value is called a **key-value pair**, and a dictionary can be defined by using the `{key: value}` syntax:"
   ]
  },
  {
   "cell_type": "code",
   "execution_count": null,
   "metadata": {
    "colab": {
     "base_uri": "https://localhost:8080/"
    },
    "executionInfo": {
     "elapsed": 566,
     "status": "ok",
     "timestamp": 1655297384866,
     "user": {
      "displayName": "JJ J",
      "userId": "02730144426697756961"
     },
     "user_tz": -480
    },
    "id": "XEASBFL2smpR",
    "outputId": "2db74bec-baf1-473f-ee64-de6da11c9982"
   },
   "outputs": [
    {
     "data": {
      "text/plain": [
       "{'Alice': 95, 'James': 89, 'Troy': 90}"
      ]
     },
     "execution_count": 93,
     "metadata": {},
     "output_type": "execute_result"
    }
   ],
   "source": [
    "gradebook = {'Alice': 95, 'Troy': 90, 'James': 89}  \n",
    "gradebook"
   ]
  },
  {
   "cell_type": "code",
   "execution_count": null,
   "metadata": {
    "id": "oIBhNHCHsmpS",
    "outputId": "892b38c7-a6e6-4146-b1c0-4a970da1887b"
   },
   "outputs": [
    {
     "data": {
      "text/plain": [
       "dict"
      ]
     },
     "execution_count": 213,
     "metadata": {
      "tags": []
     },
     "output_type": "execute_result"
    }
   ],
   "source": [
    "type(gradebook)"
   ]
  },
  {
   "cell_type": "markdown",
   "metadata": {
    "id": "ZTL_-UVVsmpT"
   },
   "source": [
    "Dictionary keys are ***unique*** and can be any ***immutable*** data type (e.g., numbers, strings, Booleans, tuples containing only immutable elements):"
   ]
  },
  {
   "cell_type": "code",
   "execution_count": null,
   "metadata": {
    "id": "XO-Iy4KwsmpU",
    "outputId": "5104afd6-f32c-4633-868c-d1b3a4a369d3",
    "scrolled": true
   },
   "outputs": [
    {
     "data": {
      "text/plain": [
       "{1: 'one', 2: 'dos', 3: 'tres'}"
      ]
     },
     "execution_count": 214,
     "metadata": {
      "tags": []
     },
     "output_type": "execute_result"
    }
   ],
   "source": [
    "spnum = {1: 'uno', 2: 'dos', 3: 'tres', 1: 'one'}\n",
    "spnum"
   ]
  },
  {
   "cell_type": "code",
   "execution_count": null,
   "metadata": {
    "id": "sEoWsDSJWt6T",
    "outputId": "fb0926b6-8df1-4f80-b014-59b6d25e9b62"
   },
   "outputs": [
    {
     "ename": "TypeError",
     "evalue": "unhashable type: 'list'",
     "output_type": "error",
     "traceback": [
      "\u001b[1;31m---------------------------------------------------------------------------\u001b[0m",
      "\u001b[1;31mTypeError\u001b[0m                                 Traceback (most recent call last)",
      "\u001b[1;32m<ipython-input-204-1badf3fd8cbd>\u001b[0m in \u001b[0;36m<module>\u001b[1;34m\u001b[0m\n\u001b[1;32m----> 1\u001b[1;33m \u001b[1;33m{\u001b[0m\u001b[1;33m[\u001b[0m\u001b[1;36m1\u001b[0m\u001b[1;33m]\u001b[0m\u001b[1;33m:\u001b[0m \u001b[1;34m'uno'\u001b[0m\u001b[1;33m,\u001b[0m \u001b[1;36m2\u001b[0m\u001b[1;33m:\u001b[0m \u001b[1;34m'dos'\u001b[0m\u001b[1;33m,\u001b[0m \u001b[1;36m3\u001b[0m\u001b[1;33m:\u001b[0m \u001b[1;34m'tres'\u001b[0m\u001b[1;33m}\u001b[0m\u001b[1;33m\u001b[0m\u001b[1;33m\u001b[0m\u001b[0m\n\u001b[0m",
      "\u001b[1;31mTypeError\u001b[0m: unhashable type: 'list'"
     ]
    }
   ],
   "source": [
    "{[1]: 'uno', 2: 'dos', 3: 'tres'}"
   ]
  },
  {
   "cell_type": "markdown",
   "metadata": {
    "id": "DM33a9uQsmpY"
   },
   "source": [
    "---\n",
    "\n",
    "<br/>\n",
    "\n",
    "## 2.1 Indexing\n",
    "\n",
    "Unlike **sequences**, which are indexed by a range of integers, dictionaries are  ***indexed by keys***:"
   ]
  },
  {
   "cell_type": "code",
   "execution_count": null,
   "metadata": {
    "cell_style": "split",
    "id": "WGIQX2kNsmpZ",
    "outputId": "bfbc0eb8-81fe-43eb-f51b-cceeea1b68a3"
   },
   "outputs": [
    {
     "data": {
      "text/plain": [
       "89"
      ]
     },
     "execution_count": 215,
     "metadata": {
      "tags": []
     },
     "output_type": "execute_result"
    }
   ],
   "source": [
    "# values can be accessed via keys\n",
    "gradebook['James']"
   ]
  },
  {
   "cell_type": "code",
   "execution_count": null,
   "metadata": {
    "cell_style": "split",
    "id": "yOPvz80fsmpa",
    "outputId": "bbf35380-fcbb-4b25-cfcd-8f21f0bf82cd",
    "scrolled": true
   },
   "outputs": [
    {
     "ename": "KeyError",
     "evalue": "2",
     "output_type": "error",
     "traceback": [
      "\u001b[1;31m---------------------------------------------------------------------------\u001b[0m",
      "\u001b[1;31mKeyError\u001b[0m                                  Traceback (most recent call last)",
      "\u001b[1;32m<ipython-input-216-2cf68b8537dc>\u001b[0m in \u001b[0;36m<module>\u001b[1;34m\u001b[0m\n\u001b[0;32m      1\u001b[0m \u001b[1;31m# cannot be accessed by position\u001b[0m\u001b[1;33m\u001b[0m\u001b[1;33m\u001b[0m\u001b[1;33m\u001b[0m\u001b[0m\n\u001b[1;32m----> 2\u001b[1;33m \u001b[0mgradebook\u001b[0m\u001b[1;33m[\u001b[0m\u001b[1;36m2\u001b[0m\u001b[1;33m]\u001b[0m\u001b[1;33m\u001b[0m\u001b[1;33m\u001b[0m\u001b[0m\n\u001b[0m",
      "\u001b[1;31mKeyError\u001b[0m: 2"
     ]
    }
   ],
   "source": [
    "# cannot be accessed by position\n",
    "gradebook[2] "
   ]
  },
  {
   "cell_type": "markdown",
   "metadata": {
    "id": "Nvh6eGjHsmpb"
   },
   "source": [
    "Similar to lists, dictionaries (more precisely, dictionary values) are ***mutable*** and can grow and shrink as needed. \n",
    "\n",
    "Assigning a new value to an existing key updates an entry:"
   ]
  },
  {
   "cell_type": "code",
   "execution_count": null,
   "metadata": {
    "id": "nOwpX9kiWt6W"
   },
   "outputs": [],
   "source": [
    "gradebook"
   ]
  },
  {
   "cell_type": "code",
   "execution_count": null,
   "metadata": {
    "cell_style": "split",
    "colab": {
     "base_uri": "https://localhost:8080/"
    },
    "executionInfo": {
     "elapsed": 525,
     "status": "ok",
     "timestamp": 1655297389995,
     "user": {
      "displayName": "JJ J",
      "userId": "02730144426697756961"
     },
     "user_tz": -480
    },
    "id": "eRVOhjOnsmpd",
    "outputId": "36a4e8fd-5bc5-4cdb-fe03-56a0dbd2cbb8"
   },
   "outputs": [
    {
     "data": {
      "text/plain": [
       "{'Alice': 95, 'James': 89, 'Troy': 92}"
      ]
     },
     "execution_count": 94,
     "metadata": {},
     "output_type": "execute_result"
    }
   ],
   "source": [
    "gradebook['Troy'] = 92\n",
    "gradebook"
   ]
  },
  {
   "cell_type": "code",
   "execution_count": null,
   "metadata": {
    "cell_style": "split",
    "id": "8GmjBbZ1hhJv"
   },
   "outputs": [],
   "source": [
    "spnum[1] = 'uno'\n",
    "spnum"
   ]
  },
  {
   "cell_type": "markdown",
   "metadata": {
    "id": "dm6gPWK8Wt6X"
   },
   "source": [
    "Assigning a new key and value adds an entry:"
   ]
  },
  {
   "cell_type": "code",
   "execution_count": null,
   "metadata": {
    "cell_style": "split",
    "id": "pnRQC7jJsmpb"
   },
   "outputs": [],
   "source": [
    "gradebook['Charles'] = 100\n",
    "gradebook"
   ]
  },
  {
   "cell_type": "code",
   "execution_count": null,
   "metadata": {
    "cell_style": "split",
    "id": "mAN3T2HHhhJt"
   },
   "outputs": [],
   "source": [
    "spnum[4] = 'cuatro'\n",
    "spnum"
   ]
  },
  {
   "cell_type": "markdown",
   "metadata": {
    "id": "FH7T2mb9smpf"
   },
   "source": [
    "Use the `del` statement with the key specified to delete an entry:"
   ]
  },
  {
   "cell_type": "code",
   "execution_count": null,
   "metadata": {
    "cell_style": "split",
    "colab": {
     "base_uri": "https://localhost:8080/"
    },
    "executionInfo": {
     "elapsed": 420,
     "status": "ok",
     "timestamp": 1655296483860,
     "user": {
      "displayName": "JJ J",
      "userId": "02730144426697756961"
     },
     "user_tz": -480
    },
    "id": "sf8QmdYfsmpf",
    "outputId": "edd6a4fd-9bf4-402d-8402-efd4d8f2c292"
   },
   "outputs": [
    {
     "data": {
      "text/plain": [
       "{'Alice': 95, 'James': 89, 'Troy': 92}"
      ]
     },
     "execution_count": 79,
     "metadata": {},
     "output_type": "execute_result"
    }
   ],
   "source": [
    "del gradebook['Charles']\n",
    "gradebook"
   ]
  },
  {
   "cell_type": "code",
   "execution_count": null,
   "metadata": {
    "cell_style": "split",
    "id": "VhusMz9IhhJx"
   },
   "outputs": [],
   "source": [
    "del spnum[4]\n",
    "spnum"
   ]
  },
  {
   "cell_type": "markdown",
   "metadata": {
    "id": "PHXi052tsmph"
   },
   "source": [
    "Python dictionaries are nestable and versatile:"
   ]
  },
  {
   "cell_type": "code",
   "execution_count": null,
   "metadata": {
    "id": "s7wUyV4Fsmph"
   },
   "outputs": [],
   "source": [
    "person = {'fname': 'Joe', 'lname': 'Fonebone', 'age': 51, 'spouse': 'Edna', 'children': ['Ralph', 'Betty', 'Joey'], \n",
    "          'pets': {'dog': {'name': 'Fido', True: ['healthy', 'lovely']}, 'cat': 'Sox'}, \n",
    "          ('email', 'mobile'): 'contact info'}\n",
    "person"
   ]
  },
  {
   "cell_type": "markdown",
   "metadata": {
    "id": "25BJ69hBsmpk"
   },
   "source": [
    "Simply append additional indicies or keys to retrieve values in a sublsequence or subdictionary:"
   ]
  },
  {
   "cell_type": "code",
   "execution_count": null,
   "metadata": {
    "id": "ia7oPYt1smpl"
   },
   "outputs": [],
   "source": [
    "person['pets']['dog'][True][1]"
   ]
  },
  {
   "cell_type": "markdown",
   "metadata": {
    "id": "yE6-9QyMsmpq"
   },
   "source": [
    "---\n",
    "<br>\n",
    "\n",
    "## 2.2 Working with Operators and Built-in Functions"
   ]
  },
  {
   "cell_type": "markdown",
   "metadata": {
    "id": "KSQfY3YUsmpq"
   },
   "source": [
    "Many of the operators and built-in functions that can be used with sequences work with dictionaries as well. But they operate ***primarily on keys of dictionaries***:\n",
    "\n",
    "- The membership operator:"
   ]
  },
  {
   "cell_type": "code",
   "execution_count": null,
   "metadata": {
    "cell_style": "split",
    "id": "mD4eAJXBsmpq",
    "outputId": "7ff1536d-229a-4d43-c39e-caba0ad432cc"
   },
   "outputs": [
    {
     "data": {
      "text/plain": [
       "{'Alice': 95, 'Troy': 92, 'James': 89}"
      ]
     },
     "execution_count": 11,
     "metadata": {
      "tags": []
     },
     "output_type": "execute_result"
    }
   ],
   "source": [
    "gradebook"
   ]
  },
  {
   "cell_type": "code",
   "execution_count": null,
   "metadata": {
    "cell_style": "split",
    "id": "OZANsgxyhhJ4",
    "outputId": "0c9f5378-5229-48c2-fccc-740a7e9c5ee7"
   },
   "outputs": [
    {
     "data": {
      "text/plain": [
       "{1: 'uno', 2: 'dos', 3: 'tres'}"
      ]
     },
     "execution_count": 12,
     "metadata": {
      "tags": []
     },
     "output_type": "execute_result"
    }
   ],
   "source": [
    "spnum"
   ]
  },
  {
   "cell_type": "code",
   "execution_count": null,
   "metadata": {
    "cell_style": "split",
    "id": "93FPtWKDsmpr",
    "outputId": "7de308fc-0074-4515-9560-3d22241cbce3"
   },
   "outputs": [
    {
     "data": {
      "text/plain": [
       "True"
      ]
     },
     "execution_count": 222,
     "metadata": {
      "tags": []
     },
     "output_type": "execute_result"
    }
   ],
   "source": [
    "'Troy' in gradebook"
   ]
  },
  {
   "cell_type": "code",
   "execution_count": null,
   "metadata": {
    "cell_style": "split",
    "id": "zesbqCHmsmpu",
    "outputId": "9c21ffaf-6282-4f46-ab32-c454f4e2de5b"
   },
   "outputs": [
    {
     "data": {
      "text/plain": [
       "True"
      ]
     },
     "execution_count": 223,
     "metadata": {
      "tags": []
     },
     "output_type": "execute_result"
    }
   ],
   "source": [
    "'dos' not in spnum"
   ]
  },
  {
   "cell_type": "markdown",
   "metadata": {
    "id": "smFX60K_smpu"
   },
   "source": [
    "- The `*` operator:"
   ]
  },
  {
   "cell_type": "code",
   "execution_count": null,
   "metadata": {
    "cell_style": "split",
    "id": "UOmvcShzsmpv",
    "outputId": "ea0feb1d-3db3-426a-bc0c-6cdb26bd6ada",
    "scrolled": true
   },
   "outputs": [
    {
     "data": {
      "text/plain": [
       "('Alice', ['Troy'], 'James')"
      ]
     },
     "execution_count": 224,
     "metadata": {
      "tags": []
     },
     "output_type": "execute_result"
    }
   ],
   "source": [
    "head, *middle, tail = gradebook\n",
    "head, middle, tail"
   ]
  },
  {
   "cell_type": "code",
   "execution_count": null,
   "metadata": {
    "cell_style": "split",
    "id": "ZqxHc4lthhJ7",
    "outputId": "18715ac3-7d2a-4a01-c785-497e1f1e8970"
   },
   "outputs": [
    {
     "data": {
      "text/plain": [
       "(1, [2, 3])"
      ]
     },
     "execution_count": 225,
     "metadata": {
      "tags": []
     },
     "output_type": "execute_result"
    }
   ],
   "source": [
    "first, *rest = spnum\n",
    "first, rest"
   ]
  },
  {
   "cell_type": "markdown",
   "metadata": {
    "id": "1QjonRsXsmpy"
   },
   "source": [
    "- The following show the effects of common built-in fucntions when working with dictionaries:"
   ]
  },
  {
   "cell_type": "code",
   "execution_count": null,
   "metadata": {
    "cell_style": "split",
    "id": "e8QJnTKIsmpy",
    "outputId": "e87afb1a-84fb-403a-85e9-6fd9fd90fb6b"
   },
   "outputs": [
    {
     "data": {
      "text/plain": [
       "'Troy'"
      ]
     },
     "execution_count": 226,
     "metadata": {
      "tags": []
     },
     "output_type": "execute_result"
    }
   ],
   "source": [
    "max(gradebook)"
   ]
  },
  {
   "cell_type": "code",
   "execution_count": null,
   "metadata": {
    "cell_style": "split",
    "id": "80HODaL8smpy",
    "outputId": "dae5d1b9-6863-4e5a-c518-43346de56c9a"
   },
   "outputs": [
    {
     "data": {
      "text/plain": [
       "1"
      ]
     },
     "execution_count": 227,
     "metadata": {
      "tags": []
     },
     "output_type": "execute_result"
    }
   ],
   "source": [
    "min(spnum)"
   ]
  },
  {
   "cell_type": "code",
   "execution_count": null,
   "metadata": {
    "cell_style": "split",
    "id": "ii_AhqQ2smpz",
    "outputId": "8ee08fec-d2a8-4570-97d1-d74d2751a15d"
   },
   "outputs": [
    {
     "data": {
      "text/plain": [
       "['Alice', 'James', 'Troy']"
      ]
     },
     "execution_count": 228,
     "metadata": {
      "tags": []
     },
     "output_type": "execute_result"
    }
   ],
   "source": [
    "sorted(gradebook)"
   ]
  },
  {
   "cell_type": "code",
   "execution_count": null,
   "metadata": {
    "cell_style": "split",
    "id": "tPGTMV-tsmpz",
    "outputId": "563fdf28-8c28-4593-fb16-b5e5662cf5a5"
   },
   "outputs": [
    {
     "data": {
      "text/plain": [
       "3"
      ]
     },
     "execution_count": 229,
     "metadata": {
      "tags": []
     },
     "output_type": "execute_result"
    }
   ],
   "source": [
    "len(spnum)"
   ]
  },
  {
   "cell_type": "markdown",
   "metadata": {
    "id": "dG-Ayd3-smp1"
   },
   "source": [
    "---\n",
    "\n",
    "<br/>\n",
    "\n",
    "## 2.3 Dictionary Methods\n",
    "\n",
    "As with lists and tuples, there are several built-in methods that can be invoked on dictionaries. \n",
    "\n",
    "Call `dir()` to list all the names available for a dictionary object:"
   ]
  },
  {
   "cell_type": "code",
   "execution_count": null,
   "metadata": {
    "id": "mS6mWsD5smp2",
    "outputId": "d737f5ce-1a78-4010-e595-f0dc2183d355"
   },
   "outputs": [
    {
     "data": {
      "text/plain": [
       "['__class__',\n",
       " '__contains__',\n",
       " '__delattr__',\n",
       " '__delitem__',\n",
       " '__dir__',\n",
       " '__doc__',\n",
       " '__eq__',\n",
       " '__format__',\n",
       " '__ge__',\n",
       " '__getattribute__',\n",
       " '__getitem__',\n",
       " '__gt__',\n",
       " '__hash__',\n",
       " '__init__',\n",
       " '__init_subclass__',\n",
       " '__iter__',\n",
       " '__le__',\n",
       " '__len__',\n",
       " '__lt__',\n",
       " '__ne__',\n",
       " '__new__',\n",
       " '__reduce__',\n",
       " '__reduce_ex__',\n",
       " '__repr__',\n",
       " '__setattr__',\n",
       " '__setitem__',\n",
       " '__sizeof__',\n",
       " '__str__',\n",
       " '__subclasshook__',\n",
       " 'clear',\n",
       " 'copy',\n",
       " 'fromkeys',\n",
       " 'get',\n",
       " 'items',\n",
       " 'keys',\n",
       " 'pop',\n",
       " 'popitem',\n",
       " 'setdefault',\n",
       " 'update',\n",
       " 'values']"
      ]
     },
     "execution_count": 5,
     "metadata": {
      "tags": []
     },
     "output_type": "execute_result"
    }
   ],
   "source": [
    "dir(gradebook)"
   ]
  },
  {
   "cell_type": "markdown",
   "metadata": {
    "id": "RALfTHposmp3"
   },
   "source": [
    "\n",
    "\n",
    "- [`.get(<key>[, <default>])`](https://docs.python.org/3/library/stdtypes.html#dict.get) returns the value for `key` if `key` is present, else `default` (defaulting to `None`):"
   ]
  },
  {
   "cell_type": "code",
   "execution_count": null,
   "metadata": {
    "colab": {
     "base_uri": "https://localhost:8080/"
    },
    "executionInfo": {
     "elapsed": 498,
     "status": "ok",
     "timestamp": 1655296891436,
     "user": {
      "displayName": "JJ J",
      "userId": "02730144426697756961"
     },
     "user_tz": -480
    },
    "id": "S_G-bh5KYgbq",
    "outputId": "ba79d09b-3761-4563-efe3-61678775e2d6"
   },
   "outputs": [
    {
     "data": {
      "text/plain": [
       "{'Alice': 95, 'James': 89, 'Troy': 92}"
      ]
     },
     "execution_count": 85,
     "metadata": {},
     "output_type": "execute_result"
    }
   ],
   "source": [
    "gradebook"
   ]
  },
  {
   "cell_type": "code",
   "execution_count": null,
   "metadata": {
    "colab": {
     "base_uri": "https://localhost:8080/",
     "height": 171
    },
    "executionInfo": {
     "elapsed": 543,
     "status": "error",
     "timestamp": 1655296917753,
     "user": {
      "displayName": "JJ J",
      "userId": "02730144426697756961"
     },
     "user_tz": -480
    },
    "id": "FXyYsHPtsmp3",
    "outputId": "2d868ccd-96b5-4842-9821-43de78094b77",
    "scrolled": true
   },
   "outputs": [
    {
     "ename": "KeyError",
     "evalue": "ignored",
     "output_type": "error",
     "traceback": [
      "\u001b[0;31m---------------------------------------------------------------------------\u001b[0m",
      "\u001b[0;31mKeyError\u001b[0m                                  Traceback (most recent call last)",
      "\u001b[0;32m<ipython-input-86-7b2bc86f53f2>\u001b[0m in \u001b[0;36m<module>\u001b[0;34m()\u001b[0m\n\u001b[0;32m----> 1\u001b[0;31m \u001b[0mgradebook\u001b[0m\u001b[0;34m[\u001b[0m\u001b[0;34m'Bryn'\u001b[0m\u001b[0;34m]\u001b[0m\u001b[0;34m\u001b[0m\u001b[0;34m\u001b[0m\u001b[0m\n\u001b[0m",
      "\u001b[0;31mKeyError\u001b[0m: 'Bryn'"
     ]
    }
   ],
   "source": [
    "gradebook['Bryn']"
   ]
  },
  {
   "cell_type": "code",
   "execution_count": null,
   "metadata": {
    "cell_style": "split",
    "id": "h-r_AYuAsmp3"
   },
   "outputs": [],
   "source": [
    "gradebook.get('Bryn')"
   ]
  },
  {
   "cell_type": "code",
   "execution_count": null,
   "metadata": {
    "cell_style": "split",
    "id": "dVa2J9zWsmp4"
   },
   "outputs": [],
   "source": [
    "gradebook.get('Bryn', 0)"
   ]
  },
  {
   "cell_type": "code",
   "execution_count": null,
   "metadata": {
    "colab": {
     "base_uri": "https://localhost:8080/"
    },
    "executionInfo": {
     "elapsed": 508,
     "status": "ok",
     "timestamp": 1655297214427,
     "user": {
      "displayName": "JJ J",
      "userId": "02730144426697756961"
     },
     "user_tz": -480
    },
    "id": "MiAkay7RZvqZ",
    "outputId": "10581515-4e8e-493c-9274-4cb88abecc24"
   },
   "outputs": [
    {
     "data": {
      "text/plain": [
       "{'Alice': 95, 'James': 89, 'Troy': 92}"
      ]
     },
     "execution_count": 87,
     "metadata": {},
     "output_type": "execute_result"
    }
   ],
   "source": [
    "gradebook"
   ]
  },
  {
   "cell_type": "markdown",
   "metadata": {
    "id": "w1b8ft4tsmqG"
   },
   "source": [
    "- [`.update(<other>)`](https://docs.python.org/3/library/stdtypes.html#dict.update) merges a dictionary with\n",
    "\n",
    "    - another dictionary;\n",
    "    - an object that can produce pairs of keys and values (e.g., a list of tuples that represent key-value pairs);\n",
    "    - or the values specified as a list of **keyword arguments**:"
   ]
  },
  {
   "cell_type": "code",
   "execution_count": null,
   "metadata": {
    "id": "C4yUqgYQsmqG"
   },
   "outputs": [],
   "source": [
    "gradebook.update(spnum); gradebook"
   ]
  },
  {
   "cell_type": "code",
   "execution_count": null,
   "metadata": {
    "id": "1EcG1NcLsmqH"
   },
   "outputs": [],
   "source": [
    "spnum.update({1: 'one', 4: 'four'}); spnum"
   ]
  },
  {
   "cell_type": "code",
   "execution_count": null,
   "metadata": {
    "id": "MlsSnKtgsmqI"
   },
   "outputs": [],
   "source": [
    "spnum.update([(1, 'uno'), (4, 'cuatro')]); spnum # or [[1, 'uno'], [4, 'cuatro']]"
   ]
  },
  {
   "cell_type": "code",
   "execution_count": null,
   "metadata": {
    "id": "JyxxyoowsmqI"
   },
   "outputs": [],
   "source": [
    "gradebook.update(Amy = 77); gradebook"
   ]
  },
  {
   "cell_type": "code",
   "execution_count": null,
   "metadata": {
    "id": "2C6lGuugsmqJ",
    "outputId": "314777fd-ccd5-48f2-fda4-2c98b33e7b3f",
    "scrolled": true
   },
   "outputs": [
    {
     "ename": "SyntaxError",
     "evalue": "keyword can't be an expression (<ipython-input-12-241fce533113>, line 1)",
     "output_type": "error",
     "traceback": [
      "\u001b[1;36m  File \u001b[1;32m\"<ipython-input-12-241fce533113>\"\u001b[1;36m, line \u001b[1;32m1\u001b[0m\n\u001b[1;33m    spnum.update(5 = 'cinco'); spnum\u001b[0m\n\u001b[1;37m                ^\u001b[0m\n\u001b[1;31mSyntaxError\u001b[0m\u001b[1;31m:\u001b[0m keyword can't be an expression\n"
     ]
    }
   ],
   "source": [
    "spnum.update(5 = 'cinco'); spnum"
   ]
  },
  {
   "cell_type": "code",
   "execution_count": null,
   "metadata": {
    "id": "rQlc_rkTsmqK"
   },
   "outputs": [],
   "source": [
    "spnum.update([[2, 'dos'], [4, 'cuatro']]); spnum"
   ]
  },
  {
   "cell_type": "markdown",
   "metadata": {
    "id": "RfN5bPM6RWIH"
   },
   "source": [
    "---\n",
    "\n",
    "<br/>\n",
    "\n",
    "### Methods for Dictionary Traversals\n",
    "\n",
    "We'll often be in situations where we want to traverse the keys and values of a dictionary separately.\n"
   ]
  },
  {
   "cell_type": "markdown",
   "metadata": {
    "id": "woXSa_OPsmqP"
   },
   "source": [
    "- [`values()`](https://docs.python.org/3/library/stdtypes.html#dict.keys) ([`keys()`](https://docs.python.org/3/library/stdtypes.html#dict.keys)) returns a **dictionary view** consisting of only `value`s (`key`s):"
   ]
  },
  {
   "cell_type": "code",
   "execution_count": null,
   "metadata": {
    "cell_style": "split",
    "id": "CRdErOAXsmqP",
    "outputId": "151c5229-b766-4ccd-ad44-53322be79985"
   },
   "outputs": [
    {
     "data": {
      "text/plain": [
       "dict_values(['uno', 'dos', 'tres'])"
      ]
     },
     "execution_count": 230,
     "metadata": {
      "tags": []
     },
     "output_type": "execute_result"
    }
   ],
   "source": [
    "spnum.values()   # a dictionary view object"
   ]
  },
  {
   "cell_type": "code",
   "execution_count": null,
   "metadata": {
    "cell_style": "split",
    "id": "JAa3uScHsmqP",
    "outputId": "f7c7b110-d8e7-4c60-9421-77087987bb33"
   },
   "outputs": [
    {
     "data": {
      "text/plain": [
       "dict_keys([1, 2, 3])"
      ]
     },
     "execution_count": 231,
     "metadata": {
      "tags": []
     },
     "output_type": "execute_result"
    }
   ],
   "source": [
    "spnum.keys()"
   ]
  },
  {
   "cell_type": "markdown",
   "metadata": {
    "id": "IyIF53FPRWIM"
   },
   "source": [
    "<div class=\"alert alert-info\">Dictionary views are read-only and dynamic. They will be updated when we modify the dictionary from which they are derived.</div>"
   ]
  },
  {
   "cell_type": "markdown",
   "metadata": {
    "id": "1asuTyS8smqL"
   },
   "source": [
    "- [`items()`](https://docs.python.org/3/library/stdtypes.html#dict.items) returns a **dictionary view** consisting of `(key, value)` pairs:"
   ]
  },
  {
   "cell_type": "code",
   "execution_count": null,
   "metadata": {
    "cell_style": "split",
    "id": "R8QULhAlRWIJ",
    "outputId": "f7f78bb7-46a3-46f7-b049-926904ed9bb4"
   },
   "outputs": [
    {
     "data": {
      "text/plain": [
       "dict_items([('Alice', 95), ('Troy', 59), ('James', 89)])"
      ]
     },
     "execution_count": 232,
     "metadata": {
      "tags": []
     },
     "output_type": "execute_result"
    }
   ],
   "source": [
    "gradebook.items() "
   ]
  },
  {
   "cell_type": "code",
   "execution_count": null,
   "metadata": {
    "cell_style": "split",
    "id": "cSImmHVzsmqL",
    "outputId": "be3b66bd-8ea0-4d59-c747-2af40efc1808"
   },
   "outputs": [
    {
     "data": {
      "text/plain": [
       "dict_items([(1, 'uno'), (2, 'dos'), (3, 'tres')])"
      ]
     },
     "execution_count": 233,
     "metadata": {
      "tags": []
     },
     "output_type": "execute_result"
    }
   ],
   "source": [
    "spnum.items() "
   ]
  },
  {
   "cell_type": "markdown",
   "metadata": {
    "id": "7eZDyPcmRWIM"
   },
   "source": [
    "Dictionary views can be iterated over to yield their respective data:"
   ]
  },
  {
   "cell_type": "code",
   "execution_count": null,
   "metadata": {
    "id": "gTYdQV_0RWIM",
    "outputId": "65b8eba7-441b-4379-8131-23b0a2181a30"
   },
   "outputs": [
    {
     "data": {
      "text/plain": [
       "[('Alice', 100), ('Troy', 64), ('James', 94)]"
      ]
     },
     "execution_count": 234,
     "metadata": {
      "tags": []
     },
     "output_type": "execute_result"
    }
   ],
   "source": [
    "[(name, score + 5) for name, score in gradebook.items()]"
   ]
  },
  {
   "cell_type": "markdown",
   "metadata": {
    "id": "0EDgCykfRWIN"
   },
   "source": [
    "We can use the dictionary-like syntax in comprehensions (i.e., **dictionary comprehensions**) to construct new dictionaries from existing ones:"
   ]
  },
  {
   "cell_type": "code",
   "execution_count": null,
   "metadata": {
    "id": "Y2iPoaB6RWIN",
    "outputId": "f97f2b93-0f80-4ed7-b881-1a6c4d40a8fd"
   },
   "outputs": [
    {
     "data": {
      "text/plain": [
       "{'Alice': 100, 'Troy': 97, 'James': 94}"
      ]
     },
     "execution_count": 9,
     "metadata": {
      "tags": []
     },
     "output_type": "execute_result"
    }
   ],
   "source": [
    "{name: score + 5 for name, score in gradebook.items()}"
   ]
  },
  {
   "cell_type": "markdown",
   "metadata": {
    "id": "l88aW2dcsmqR"
   },
   "source": [
    "\n",
    "\n",
    "\n",
    "---\n",
    "\n",
    "<br/>\n",
    "\n",
    "## 2.4 Conversions\n",
    "\n",
    "\n",
    "A dictionary can also be constructed by casting a collection of pairs to the `dict` type with the `dict()` function:"
   ]
  },
  {
   "cell_type": "code",
   "execution_count": null,
   "metadata": {
    "cell_style": "center",
    "id": "0ZnVvVaqsmqR",
    "outputId": "008f11e2-d802-47b4-a8b0-3b18e28615b5"
   },
   "outputs": [
    {
     "data": {
      "text/plain": [
       "{'red': 34, 'green': 30, 'brown': 31}"
      ]
     },
     "execution_count": 235,
     "metadata": {
      "tags": []
     },
     "output_type": "execute_result"
    }
   ],
   "source": [
    "dict([(\"red\", 34), (\"green\", 30), (\"brown\", 31)])  # or dict(((\"red\", 34), (\"green\", 30), (\"brown\", 31)))"
   ]
  },
  {
   "cell_type": "markdown",
   "metadata": {
    "id": "9RMCmL0ssmqS"
   },
   "source": [
    "We have to be more careful when converting a dictionary to a collection of other types: "
   ]
  },
  {
   "cell_type": "code",
   "execution_count": null,
   "metadata": {
    "id": "ck_LCtnQsmqS",
    "outputId": "4d0eb211-4fd9-4f8d-ca50-ddf614443aaa"
   },
   "outputs": [
    {
     "data": {
      "text/plain": [
       "{'red': 34, 'green': 30, 'brown': 31}"
      ]
     },
     "execution_count": 237,
     "metadata": {
      "tags": []
     },
     "output_type": "execute_result"
    }
   ],
   "source": [
    "marbles = dict([(\"red\", 34), (\"green\", 30), (\"brown\", 31)])\n",
    "marbles"
   ]
  },
  {
   "cell_type": "code",
   "execution_count": null,
   "metadata": {
    "id": "EAuly_C1smqT",
    "outputId": "e5688124-7b2e-4249-a390-72c369beb1e0"
   },
   "outputs": [
    {
     "data": {
      "text/plain": [
       "['red', 'green', 'brown']"
      ]
     },
     "execution_count": 238,
     "metadata": {
      "tags": []
     },
     "output_type": "execute_result"
    }
   ],
   "source": [
    "list(marbles)           # the keys will be used by default"
   ]
  },
  {
   "cell_type": "code",
   "execution_count": null,
   "metadata": {
    "cell_style": "split",
    "id": "HYFEWGLSsmqU"
   },
   "outputs": [],
   "source": [
    "# use a view to get the values\n",
    "tuple(marbles.values()) "
   ]
  },
  {
   "cell_type": "code",
   "execution_count": null,
   "metadata": {
    "cell_style": "split",
    "id": "HFwi3xc4smqU",
    "outputId": "3a7fa6be-3459-4b73-ba41-e529ddad5dab",
    "scrolled": true
   },
   "outputs": [
    {
     "data": {
      "text/plain": [
       "[('red', 34), ('green', 30), ('brown', 31)]"
      ]
     },
     "execution_count": 239,
     "metadata": {
      "tags": []
     },
     "output_type": "execute_result"
    }
   ],
   "source": [
    "# or the key-value pairs\n",
    "list(marbles.items()) "
   ]
  },
  {
   "cell_type": "markdown",
   "metadata": {
    "id": "0U8tWBiX6ZBZ"
   },
   "source": [
    "\n",
    "---\n",
    "\n",
    "<br/>\n",
    "\n",
    "## 2.5 Unpacking Mappings\n",
    "\n",
    "\n",
    "`**` can be used inside a dict display to unpack mappings:"
   ]
  },
  {
   "cell_type": "code",
   "execution_count": null,
   "metadata": {
    "colab": {
     "base_uri": "https://localhost:8080/"
    },
    "executionInfo": {
     "elapsed": 277,
     "status": "ok",
     "timestamp": 1655306478571,
     "user": {
      "displayName": "JJ J",
      "userId": "02730144426697756961"
     },
     "user_tz": -480
    },
    "id": "zcCWCIEe6BWz",
    "outputId": "b4bfcf53-60a0-42e6-c653-ed7802f00b9b"
   },
   "outputs": [
    {
     "data": {
      "text/plain": [
       "{'balance': 1022.7,\n",
       " 'criminal': 'No',\n",
       " 'gender': 'female',\n",
       " 'income': 27,\n",
       " 'name': 'Amy',\n",
       " 'years': 4.2}"
      ]
     },
     "execution_count": 17,
     "metadata": {},
     "output_type": "execute_result"
    }
   ],
   "source": [
    "customer_1 = {**customer_1, 'balance': 1022.7, 'gender': 'female'}"
   ]
  },
  {
   "cell_type": "markdown",
   "metadata": {
    "id": "Iihl8be-9u7X"
   },
   "source": [
    "**<font color='steelblue' >Question</font>**: Merge the 2 dictionaries below into a new dictionary without using `.update()`.\n",
    "\n",
    "```python\n",
    "gradebook1 = {'Alice': 95, 'Troy': 92, 'Bryn': 59}\n",
    "gradebook2 = {'Charles': 100,  'James': 89}\n",
    "```"
   ]
  },
  {
   "cell_type": "code",
   "execution_count": null,
   "metadata": {
    "id": "ZwyryGt19uK2"
   },
   "outputs": [],
   "source": []
  },
  {
   "cell_type": "markdown",
   "metadata": {
    "id": "BtEc5PLNsmqZ"
   },
   "source": [
    "<br>\n",
    "\n",
    "---\n",
    "\n",
    "<br/>\n",
    "\n",
    "# 3 Sets\n",
    "\n",
    "A set is an ***unordered***, ***mutable*** collection of ***distinct immutable*** elements.\n",
    "\n",
    "***Non-empty*** sets can be created by using the curly brace notation (`{}`):\n"
   ]
  },
  {
   "cell_type": "code",
   "execution_count": null,
   "metadata": {
    "id": "RnTDmCYXWt6w"
   },
   "outputs": [],
   "source": [
    "integers = {5, 2, 3, 1, 4, 2} \n",
    "integers # The duplicate is eliminated"
   ]
  },
  {
   "cell_type": "code",
   "execution_count": null,
   "metadata": {
    "id": "7VMI_oEnsmqa"
   },
   "outputs": [],
   "source": [
    "type(integers)"
   ]
  },
  {
   "cell_type": "code",
   "execution_count": null,
   "metadata": {
    "id": "SLyPbM6zWt6w"
   },
   "outputs": [],
   "source": [
    "mammals = {'cat', 'dog', 'rabbit', 'pig', 'cat'}\n",
    "mammals  "
   ]
  },
  {
   "cell_type": "markdown",
   "metadata": {
    "id": "PhQcDDY_ZX4g"
   },
   "source": [
    "An ***empty*** set can only be defined with the `set()` function."
   ]
  },
  {
   "cell_type": "code",
   "execution_count": null,
   "metadata": {
    "colab": {
     "base_uri": "https://localhost:8080/"
    },
    "executionInfo": {
     "elapsed": 10,
     "status": "ok",
     "timestamp": 1645784454859,
     "user": {
      "displayName": "JJ J",
      "photoUrl": "https://lh3.googleusercontent.com/a/default-user=s64",
      "userId": "02730144426697756961"
     },
     "user_tz": -480
    },
    "id": "i0k9cDF2ZYqo",
    "outputId": "40a44279-ac07-438b-d1dc-ac2eca638479"
   },
   "outputs": [
    {
     "data": {
      "text/plain": [
       "dict"
      ]
     },
     "execution_count": 1,
     "metadata": {},
     "output_type": "execute_result"
    }
   ],
   "source": [
    "type({})"
   ]
  },
  {
   "cell_type": "code",
   "execution_count": null,
   "metadata": {
    "colab": {
     "base_uri": "https://localhost:8080/"
    },
    "executionInfo": {
     "elapsed": 321,
     "status": "ok",
     "timestamp": 1655307503624,
     "user": {
      "displayName": "JJ J",
      "userId": "02730144426697756961"
     },
     "user_tz": -480
    },
    "id": "18MKryUl4nEt",
    "outputId": "33b7ce18-258c-424d-b635-c2e5b9e55ea3"
   },
   "outputs": [
    {
     "data": {
      "text/plain": [
       "{'apple', 'banana', 'mango', 'orange'}"
      ]
     },
     "execution_count": 19,
     "metadata": {},
     "output_type": "execute_result"
    }
   ],
   "source": [
    "set(fruits * 3)"
   ]
  },
  {
   "cell_type": "markdown",
   "metadata": {
    "id": "SSOOhg9Csmqc"
   },
   "source": [
    "\n",
    "\n",
    "\n",
    "The elements in a set can be objects of different types. But they must be ***immutable***:"
   ]
  },
  {
   "cell_type": "code",
   "execution_count": null,
   "metadata": {
    "cell_style": "split",
    "id": "Kpy77DVssmqc"
   },
   "outputs": [],
   "source": [
    "{42, 'ham', 3.14159, None, ('Amy', True)}"
   ]
  },
  {
   "cell_type": "code",
   "execution_count": null,
   "metadata": {
    "cell_style": "split",
    "id": "QhEcHsiosmqd",
    "outputId": "dad6a3c7-6ce6-43e0-fdad-5402e50cecc3"
   },
   "outputs": [
    {
     "ename": "TypeError",
     "evalue": "unhashable type: 'list'",
     "output_type": "error",
     "traceback": [
      "\u001b[1;31m---------------------------------------------------------------------------\u001b[0m",
      "\u001b[1;31mTypeError\u001b[0m                                 Traceback (most recent call last)",
      "\u001b[1;32m<ipython-input-81-750c418d71e9>\u001b[0m in \u001b[0;36m<module>\u001b[1;34m\u001b[0m\n\u001b[1;32m----> 1\u001b[1;33m \u001b[1;33m{\u001b[0m\u001b[1;36m42\u001b[0m\u001b[1;33m,\u001b[0m \u001b[1;34m'ham'\u001b[0m\u001b[1;33m,\u001b[0m \u001b[1;36m3.14159\u001b[0m\u001b[1;33m,\u001b[0m \u001b[1;32mNone\u001b[0m\u001b[1;33m,\u001b[0m \u001b[1;33m[\u001b[0m\u001b[1;34m'Amy'\u001b[0m\u001b[1;33m,\u001b[0m \u001b[1;32mTrue\u001b[0m\u001b[1;33m]\u001b[0m\u001b[1;33m}\u001b[0m\u001b[1;33m\u001b[0m\u001b[1;33m\u001b[0m\u001b[0m\n\u001b[0m",
      "\u001b[1;31mTypeError\u001b[0m: unhashable type: 'list'"
     ]
    }
   ],
   "source": [
    "{42, 'ham', 3.14159, None, ['Amy', True]}"
   ]
  },
  {
   "cell_type": "markdown",
   "metadata": {
    "id": "iuPE67Nosmqe"
   },
   "source": [
    "\n",
    "\n",
    "Like other collections, sets support `x in set` and `len(set)`:\n"
   ]
  },
  {
   "cell_type": "code",
   "execution_count": null,
   "metadata": {
    "cell_style": "split",
    "id": "3j19HYzzsmqe"
   },
   "outputs": [],
   "source": [
    "len(integers) "
   ]
  },
  {
   "cell_type": "code",
   "execution_count": null,
   "metadata": {
    "cell_style": "split",
    "id": "EX0Z4_6lsmqf"
   },
   "outputs": [],
   "source": [
    "'parrot' not in mammals"
   ]
  },
  {
   "cell_type": "markdown",
   "metadata": {
    "id": "r6_V3Kxmsmqf"
   },
   "source": [
    "However, sets do not support indexing, slicing, or other ***sequence-like*** behavior, because they do not record element position or order of insertion."
   ]
  }
 ],
 "metadata": {
  "colab": {
   "collapsed_sections": [],
   "name": "Topic 2. Data Structures.ipynb",
   "provenance": [],
   "toc_visible": true
  },
  "kernelspec": {
   "display_name": "Python 3 (ipykernel)",
   "language": "python",
   "name": "python3"
  },
  "language_info": {
   "codemirror_mode": {
    "name": "ipython",
    "version": 3
   },
   "file_extension": ".py",
   "mimetype": "text/x-python",
   "name": "python",
   "nbconvert_exporter": "python",
   "pygments_lexer": "ipython3",
   "version": "3.9.12"
  }
 },
 "nbformat": 4,
 "nbformat_minor": 1
}
